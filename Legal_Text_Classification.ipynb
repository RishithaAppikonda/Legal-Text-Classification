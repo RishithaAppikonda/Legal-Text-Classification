{
  "nbformat": 4,
  "nbformat_minor": 0,
  "metadata": {
    "colab": {
      "provenance": [],
      "authorship_tag": "ABX9TyNv4GcBbOO6CFNtznr0+Pov",
      "include_colab_link": true
    },
    "kernelspec": {
      "name": "python3",
      "display_name": "Python 3"
    },
    "language_info": {
      "name": "python"
    }
  },
  "cells": [
    {
      "cell_type": "markdown",
      "metadata": {
        "id": "view-in-github",
        "colab_type": "text"
      },
      "source": [
        "<a href=\"https://colab.research.google.com/github/RishithaAppikonda/Legal-Text-Classification/blob/main/Legal_Text_Classification.ipynb\" target=\"_parent\"><img src=\"https://colab.research.google.com/assets/colab-badge.svg\" alt=\"Open In Colab\"/></a>"
      ]
    },
    {
      "cell_type": "code",
      "execution_count": null,
      "metadata": {
        "id": "KLU6FMoo4vvC"
      },
      "outputs": [],
      "source": [
        "#2\n",
        "import pandas as pd\n",
        "from nltk.tokenize import word_tokenize\n",
        "from nltk.corpus import stopwords\n",
        "from nltk.stem import PorterStemmer, WordNetLemmatizer\n",
        "import nltk\n",
        "import spacy\n",
        "\n",
        "# --------------------------------------------\n",
        "# Step 1: Download NLTK resources\n",
        "# --------------------------------------------\n",
        "nltk.download('punkt')\n",
        "nltk.download('stopwords')\n",
        "nltk.download('wordnet')\n",
        "nltk.download('punkt_tab')\n",
        "\n",
        "# --------------------------------------------\n",
        "# Step 2: Load your CSV dataset\n",
        "# --------------------------------------------\n",
        "# Replace 'my_data.csv' with your actual file name\n",
        "df = pd.read_csv('/content/legal_text_classification.csv')\n",
        "\n",
        "text_data = df['case_text'].dropna().tolist() #here keep name of the column containing text in df['text'] place\n",
        "\n",
        "# --------------------------------------------\n",
        "# Step 3: Process the first text entry\n",
        "# --------------------------------------------\n",
        "text = text_data[0]\n",
        "\n",
        "# Tokenization\n",
        "tokens = word_tokenize(text.lower())\n",
        "print(\"Tokenized Text:\\n\", tokens)\n",
        "\n",
        "# Stop Word Removal\n",
        "stop_words = set(stopwords.words('english'))\n",
        "filtered_tokens = [word for word in tokens if word.isalnum() and word not in stop_words]\n",
        "print(\"\\nAfter Stop Word Removal:\\n\", filtered_tokens)\n",
        "\n",
        "# Stemming\n",
        "stemmer = PorterStemmer()\n",
        "stemmed_tokens = [stemmer.stem(word) for word in filtered_tokens]\n",
        "print(\"\\nAfter Stemming:\\n\", stemmed_tokens)\n",
        "\n",
        "# Lemmatization (NLTK)\n",
        "lemmatizer = WordNetLemmatizer()\n",
        "lemmatized_tokens = [lemmatizer.lemmatize(word) for word in filtered_tokens]\n",
        "print(\"\\nAfter Lemmatization:\\n\", lemmatized_tokens)\n"
      ]
    }
  ]
}