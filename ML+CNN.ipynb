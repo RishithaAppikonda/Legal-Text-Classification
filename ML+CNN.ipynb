{
  "metadata": {
    "kernelspec": {
      "name": "python3",
      "display_name": "Python 3"
    },
    "language_info": {
      "name": "python",
      "version": "3.10.12",
      "mimetype": "text/x-python",
      "codemirror_mode": {
        "name": "ipython",
        "version": 3
      },
      "pygments_lexer": "ipython3",
      "nbconvert_exporter": "python",
      "file_extension": ".py"
    },
    "colab": {
      "provenance": [],
      "gpuType": "T4",
      "include_colab_link": true
    },
    "kaggle": {
      "accelerator": "nvidiaTeslaT4",
      "dataSources": [
        {
          "sourceId": 6723483,
          "sourceType": "datasetVersion",
          "datasetId": 3873453
        }
      ],
      "dockerImageVersionId": 30587,
      "isInternetEnabled": false,
      "language": "python",
      "sourceType": "notebook",
      "isGpuEnabled": true
    },
    "accelerator": "GPU"
  },
  "nbformat_minor": 0,
  "nbformat": 4,
  "cells": [
    {
      "cell_type": "markdown",
      "metadata": {
        "id": "view-in-github",
        "colab_type": "text"
      },
      "source": [
        "<a href=\"https://colab.research.google.com/github/RishithaAppikonda/Legal-Text-Classification/blob/main/ML%2BCNN.ipynb\" target=\"_parent\"><img src=\"https://colab.research.google.com/assets/colab-badge.svg\" alt=\"Open In Colab\"/></a>"
      ]
    },
    {
      "cell_type": "code",
      "source": [
        "import numpy as np\n",
        "import pandas as pd\n",
        "\n",
        "import sklearn\n",
        "from sklearn.model_selection import train_test_split\n",
        "from sklearn.feature_extraction.text import CountVectorizer, TfidfVectorizer\n",
        "from sklearn.linear_model import LogisticRegression\n",
        "from sklearn.metrics import confusion_matrix, f1_score, accuracy_score\n",
        "from sklearn.neighbors import KNeighborsClassifier\n",
        "from sklearn.preprocessing import LabelEncoder\n",
        "\n",
        "import matplotlib\n",
        "import matplotlib.pyplot as plt\n",
        "import seaborn as sns\n",
        "\n",
        "!pip install torchtext --upgrade --quiet\n",
        "import torch\n",
        "from torch import nn\n",
        "from torch.utils.data import TensorDataset, random_split, DataLoader, RandomSampler,Dataset\n",
        "import torch.optim as optim\n",
        "\n",
        "!pip install stop-words\n",
        "from stop_words import get_stop_words\n",
        "import nltk\n",
        "#nltk.download('wordnet')\n",
        "from nltk.stem import PorterStemmer\n",
        "from nltk.stem import WordNetLemmatizer\n",
        "from nltk.tokenize import word_tokenize\n",
        "!pip install gensim\n",
        "\n",
        "from gensim.models import Word2Vec, KeyedVectors, FastText\n",
        "\n",
        "import warnings\n",
        "warnings.filterwarnings('ignore')"
      ],
      "metadata": {
        "id": "a5f6fbc0",
        "outputId": "09ad8f9d-8d02-4c9f-fd53-10c2e7bb8feb",
        "trusted": true,
        "execution": {
          "iopub.status.busy": "2025-03-12T07:56:53.61468Z",
          "iopub.execute_input": "2025-03-12T07:56:53.615508Z",
          "iopub.status.idle": "2025-03-12T07:56:53.621238Z",
          "shell.execute_reply.started": "2025-03-12T07:56:53.615475Z",
          "shell.execute_reply": "2025-03-12T07:56:53.620289Z"
        },
        "colab": {
          "base_uri": "https://localhost:8080/"
        }
      },
      "outputs": [
        {
          "output_type": "stream",
          "name": "stdout",
          "text": [
            "Requirement already satisfied: stop-words in /usr/local/lib/python3.11/dist-packages (2018.7.23)\n",
            "Collecting gensim\n",
            "  Downloading gensim-4.3.3-cp311-cp311-manylinux_2_17_x86_64.manylinux2014_x86_64.whl.metadata (8.1 kB)\n",
            "Requirement already satisfied: numpy<2.0,>=1.18.5 in /usr/local/lib/python3.11/dist-packages (from gensim) (1.26.4)\n",
            "Collecting scipy<1.14.0,>=1.7.0 (from gensim)\n",
            "  Downloading scipy-1.13.1-cp311-cp311-manylinux_2_17_x86_64.manylinux2014_x86_64.whl.metadata (60 kB)\n",
            "\u001b[2K     \u001b[90m━━━━━━━━━━━━━━━━━━━━━━━━━━━━━━━━━━━━━━━━\u001b[0m \u001b[32m60.6/60.6 kB\u001b[0m \u001b[31m3.7 MB/s\u001b[0m eta \u001b[36m0:00:00\u001b[0m\n",
            "\u001b[?25hRequirement already satisfied: smart-open>=1.8.1 in /usr/local/lib/python3.11/dist-packages (from gensim) (7.1.0)\n",
            "Requirement already satisfied: wrapt in /usr/local/lib/python3.11/dist-packages (from smart-open>=1.8.1->gensim) (1.17.2)\n",
            "Downloading gensim-4.3.3-cp311-cp311-manylinux_2_17_x86_64.manylinux2014_x86_64.whl (26.7 MB)\n",
            "\u001b[2K   \u001b[90m━━━━━━━━━━━━━━━━━━━━━━━━━━━━━━━━━━━━━━━━\u001b[0m \u001b[32m26.7/26.7 MB\u001b[0m \u001b[31m73.2 MB/s\u001b[0m eta \u001b[36m0:00:00\u001b[0m\n",
            "\u001b[?25hDownloading scipy-1.13.1-cp311-cp311-manylinux_2_17_x86_64.manylinux2014_x86_64.whl (38.6 MB)\n",
            "\u001b[2K   \u001b[90m━━━━━━━━━━━━━━━━━━━━━━━━━━━━━━━━━━━━━━━━\u001b[0m \u001b[32m38.6/38.6 MB\u001b[0m \u001b[31m17.6 MB/s\u001b[0m eta \u001b[36m0:00:00\u001b[0m\n",
            "\u001b[?25hInstalling collected packages: scipy, gensim\n",
            "  Attempting uninstall: scipy\n",
            "    Found existing installation: scipy 1.14.1\n",
            "    Uninstalling scipy-1.14.1:\n",
            "      Successfully uninstalled scipy-1.14.1\n",
            "Successfully installed gensim-4.3.3 scipy-1.13.1\n"
          ]
        }
      ],
      "execution_count": null
    },
    {
      "cell_type": "markdown",
      "source": [
        "## EDA"
      ],
      "metadata": {
        "id": "d766d9c4"
      }
    },
    {
      "cell_type": "code",
      "source": [
        "df = pd.read_csv(\"/content/legal_text_classification.csv\")"
      ],
      "metadata": {
        "id": "3129faf0",
        "trusted": true,
        "execution": {
          "iopub.status.busy": "2025-03-12T07:56:53.622811Z",
          "iopub.execute_input": "2025-03-12T07:56:53.623125Z",
          "iopub.status.idle": "2025-03-12T07:56:54.214065Z",
          "shell.execute_reply.started": "2025-03-12T07:56:53.623095Z",
          "shell.execute_reply": "2025-03-12T07:56:54.213287Z"
        }
      },
      "outputs": [],
      "execution_count": null
    },
    {
      "cell_type": "code",
      "source": [
        "df"
      ],
      "metadata": {
        "id": "0a059a65",
        "outputId": "d5b58cc4-7220-4138-a5c9-f33e1c80a91f",
        "trusted": true,
        "execution": {
          "iopub.status.busy": "2025-03-12T07:56:54.215666Z",
          "iopub.execute_input": "2025-03-12T07:56:54.215961Z",
          "iopub.status.idle": "2025-03-12T07:56:54.227568Z",
          "shell.execute_reply.started": "2025-03-12T07:56:54.215936Z",
          "shell.execute_reply": "2025-03-12T07:56:54.226769Z"
        },
        "colab": {
          "base_uri": "https://localhost:8080/",
          "height": 597
        }
      },
      "outputs": [
        {
          "output_type": "execute_result",
          "data": {
            "text/plain": [
              "         case_id   case_outcome  \\\n",
              "0          Case1          cited   \n",
              "1          Case2          cited   \n",
              "2          Case3          cited   \n",
              "3          Case4          cited   \n",
              "4          Case5          cited   \n",
              "...          ...            ...   \n",
              "24980  Case25203          cited   \n",
              "24981  Case25204          cited   \n",
              "24982  Case25205          cited   \n",
              "24983  Case25206  distinguished   \n",
              "24984  Case25207  distinguished   \n",
              "\n",
              "                                              case_title  \\\n",
              "0      Alpine Hardwood (Aust) Pty Ltd v Hardys Pty Lt...   \n",
              "1      Black v Lipovac [1998] FCA 699 ; (1998) 217 AL...   \n",
              "2      Colgate Palmolive Co v Cussons Pty Ltd (1993) ...   \n",
              "3      Dais Studio Pty Ltd v Bullett Creative Pty Ltd...   \n",
              "4      Dr Martens Australia Pty Ltd v Figgins Holding...   \n",
              "...                                                  ...   \n",
              "24980  Reches Pty Ltd v Tadiran Pty Ltd (1998) 85 FCR...   \n",
              "24981  Sir Lindsay Parkinson &amp; Co Ltd v Triplan L...   \n",
              "24982  Spiel v Commodity Brokers Australia Pty Ltd (I...   \n",
              "24983  Tullock Ltd v Walker (Unreported, Supreme Cour...   \n",
              "24984  Yandil Holdings Pty Ltd v Insurance Co of Nort...   \n",
              "\n",
              "                                               case_text  \n",
              "0      Ordinarily that discretion will be exercised s...  \n",
              "1      The general principles governing the exercise ...  \n",
              "2      Ordinarily that discretion will be exercised s...  \n",
              "3      The general principles governing the exercise ...  \n",
              "4      The preceding general principles inform the ex...  \n",
              "...                                                  ...  \n",
              "24980  That is not confined to persons who control th...  \n",
              "24981  Once the threshold prescribed by s 1335 is sat...  \n",
              "24982  Once the threshold prescribed by s 1335 is sat...  \n",
              "24983  Given the extent to which Deumer stands to gai...  \n",
              "24984  In my view, it is clear that the Court may do ...  \n",
              "\n",
              "[24985 rows x 4 columns]"
            ],
            "text/html": [
              "\n",
              "  <div id=\"df-9640ea1f-093b-4428-98c3-56229ec18888\" class=\"colab-df-container\">\n",
              "    <div>\n",
              "<style scoped>\n",
              "    .dataframe tbody tr th:only-of-type {\n",
              "        vertical-align: middle;\n",
              "    }\n",
              "\n",
              "    .dataframe tbody tr th {\n",
              "        vertical-align: top;\n",
              "    }\n",
              "\n",
              "    .dataframe thead th {\n",
              "        text-align: right;\n",
              "    }\n",
              "</style>\n",
              "<table border=\"1\" class=\"dataframe\">\n",
              "  <thead>\n",
              "    <tr style=\"text-align: right;\">\n",
              "      <th></th>\n",
              "      <th>case_id</th>\n",
              "      <th>case_outcome</th>\n",
              "      <th>case_title</th>\n",
              "      <th>case_text</th>\n",
              "    </tr>\n",
              "  </thead>\n",
              "  <tbody>\n",
              "    <tr>\n",
              "      <th>0</th>\n",
              "      <td>Case1</td>\n",
              "      <td>cited</td>\n",
              "      <td>Alpine Hardwood (Aust) Pty Ltd v Hardys Pty Lt...</td>\n",
              "      <td>Ordinarily that discretion will be exercised s...</td>\n",
              "    </tr>\n",
              "    <tr>\n",
              "      <th>1</th>\n",
              "      <td>Case2</td>\n",
              "      <td>cited</td>\n",
              "      <td>Black v Lipovac [1998] FCA 699 ; (1998) 217 AL...</td>\n",
              "      <td>The general principles governing the exercise ...</td>\n",
              "    </tr>\n",
              "    <tr>\n",
              "      <th>2</th>\n",
              "      <td>Case3</td>\n",
              "      <td>cited</td>\n",
              "      <td>Colgate Palmolive Co v Cussons Pty Ltd (1993) ...</td>\n",
              "      <td>Ordinarily that discretion will be exercised s...</td>\n",
              "    </tr>\n",
              "    <tr>\n",
              "      <th>3</th>\n",
              "      <td>Case4</td>\n",
              "      <td>cited</td>\n",
              "      <td>Dais Studio Pty Ltd v Bullett Creative Pty Ltd...</td>\n",
              "      <td>The general principles governing the exercise ...</td>\n",
              "    </tr>\n",
              "    <tr>\n",
              "      <th>4</th>\n",
              "      <td>Case5</td>\n",
              "      <td>cited</td>\n",
              "      <td>Dr Martens Australia Pty Ltd v Figgins Holding...</td>\n",
              "      <td>The preceding general principles inform the ex...</td>\n",
              "    </tr>\n",
              "    <tr>\n",
              "      <th>...</th>\n",
              "      <td>...</td>\n",
              "      <td>...</td>\n",
              "      <td>...</td>\n",
              "      <td>...</td>\n",
              "    </tr>\n",
              "    <tr>\n",
              "      <th>24980</th>\n",
              "      <td>Case25203</td>\n",
              "      <td>cited</td>\n",
              "      <td>Reches Pty Ltd v Tadiran Pty Ltd (1998) 85 FCR...</td>\n",
              "      <td>That is not confined to persons who control th...</td>\n",
              "    </tr>\n",
              "    <tr>\n",
              "      <th>24981</th>\n",
              "      <td>Case25204</td>\n",
              "      <td>cited</td>\n",
              "      <td>Sir Lindsay Parkinson &amp;amp; Co Ltd v Triplan L...</td>\n",
              "      <td>Once the threshold prescribed by s 1335 is sat...</td>\n",
              "    </tr>\n",
              "    <tr>\n",
              "      <th>24982</th>\n",
              "      <td>Case25205</td>\n",
              "      <td>cited</td>\n",
              "      <td>Spiel v Commodity Brokers Australia Pty Ltd (I...</td>\n",
              "      <td>Once the threshold prescribed by s 1335 is sat...</td>\n",
              "    </tr>\n",
              "    <tr>\n",
              "      <th>24983</th>\n",
              "      <td>Case25206</td>\n",
              "      <td>distinguished</td>\n",
              "      <td>Tullock Ltd v Walker (Unreported, Supreme Cour...</td>\n",
              "      <td>Given the extent to which Deumer stands to gai...</td>\n",
              "    </tr>\n",
              "    <tr>\n",
              "      <th>24984</th>\n",
              "      <td>Case25207</td>\n",
              "      <td>distinguished</td>\n",
              "      <td>Yandil Holdings Pty Ltd v Insurance Co of Nort...</td>\n",
              "      <td>In my view, it is clear that the Court may do ...</td>\n",
              "    </tr>\n",
              "  </tbody>\n",
              "</table>\n",
              "<p>24985 rows × 4 columns</p>\n",
              "</div>\n",
              "    <div class=\"colab-df-buttons\">\n",
              "\n",
              "  <div class=\"colab-df-container\">\n",
              "    <button class=\"colab-df-convert\" onclick=\"convertToInteractive('df-9640ea1f-093b-4428-98c3-56229ec18888')\"\n",
              "            title=\"Convert this dataframe to an interactive table.\"\n",
              "            style=\"display:none;\">\n",
              "\n",
              "  <svg xmlns=\"http://www.w3.org/2000/svg\" height=\"24px\" viewBox=\"0 -960 960 960\">\n",
              "    <path d=\"M120-120v-720h720v720H120Zm60-500h600v-160H180v160Zm220 220h160v-160H400v160Zm0 220h160v-160H400v160ZM180-400h160v-160H180v160Zm440 0h160v-160H620v160ZM180-180h160v-160H180v160Zm440 0h160v-160H620v160Z\"/>\n",
              "  </svg>\n",
              "    </button>\n",
              "\n",
              "  <style>\n",
              "    .colab-df-container {\n",
              "      display:flex;\n",
              "      gap: 12px;\n",
              "    }\n",
              "\n",
              "    .colab-df-convert {\n",
              "      background-color: #E8F0FE;\n",
              "      border: none;\n",
              "      border-radius: 50%;\n",
              "      cursor: pointer;\n",
              "      display: none;\n",
              "      fill: #1967D2;\n",
              "      height: 32px;\n",
              "      padding: 0 0 0 0;\n",
              "      width: 32px;\n",
              "    }\n",
              "\n",
              "    .colab-df-convert:hover {\n",
              "      background-color: #E2EBFA;\n",
              "      box-shadow: 0px 1px 2px rgba(60, 64, 67, 0.3), 0px 1px 3px 1px rgba(60, 64, 67, 0.15);\n",
              "      fill: #174EA6;\n",
              "    }\n",
              "\n",
              "    .colab-df-buttons div {\n",
              "      margin-bottom: 4px;\n",
              "    }\n",
              "\n",
              "    [theme=dark] .colab-df-convert {\n",
              "      background-color: #3B4455;\n",
              "      fill: #D2E3FC;\n",
              "    }\n",
              "\n",
              "    [theme=dark] .colab-df-convert:hover {\n",
              "      background-color: #434B5C;\n",
              "      box-shadow: 0px 1px 3px 1px rgba(0, 0, 0, 0.15);\n",
              "      filter: drop-shadow(0px 1px 2px rgba(0, 0, 0, 0.3));\n",
              "      fill: #FFFFFF;\n",
              "    }\n",
              "  </style>\n",
              "\n",
              "    <script>\n",
              "      const buttonEl =\n",
              "        document.querySelector('#df-9640ea1f-093b-4428-98c3-56229ec18888 button.colab-df-convert');\n",
              "      buttonEl.style.display =\n",
              "        google.colab.kernel.accessAllowed ? 'block' : 'none';\n",
              "\n",
              "      async function convertToInteractive(key) {\n",
              "        const element = document.querySelector('#df-9640ea1f-093b-4428-98c3-56229ec18888');\n",
              "        const dataTable =\n",
              "          await google.colab.kernel.invokeFunction('convertToInteractive',\n",
              "                                                    [key], {});\n",
              "        if (!dataTable) return;\n",
              "\n",
              "        const docLinkHtml = 'Like what you see? Visit the ' +\n",
              "          '<a target=\"_blank\" href=https://colab.research.google.com/notebooks/data_table.ipynb>data table notebook</a>'\n",
              "          + ' to learn more about interactive tables.';\n",
              "        element.innerHTML = '';\n",
              "        dataTable['output_type'] = 'display_data';\n",
              "        await google.colab.output.renderOutput(dataTable, element);\n",
              "        const docLink = document.createElement('div');\n",
              "        docLink.innerHTML = docLinkHtml;\n",
              "        element.appendChild(docLink);\n",
              "      }\n",
              "    </script>\n",
              "  </div>\n",
              "\n",
              "\n",
              "<div id=\"df-8f9e3085-5f7e-4081-838b-a05bff6e1b6e\">\n",
              "  <button class=\"colab-df-quickchart\" onclick=\"quickchart('df-8f9e3085-5f7e-4081-838b-a05bff6e1b6e')\"\n",
              "            title=\"Suggest charts\"\n",
              "            style=\"display:none;\">\n",
              "\n",
              "<svg xmlns=\"http://www.w3.org/2000/svg\" height=\"24px\"viewBox=\"0 0 24 24\"\n",
              "     width=\"24px\">\n",
              "    <g>\n",
              "        <path d=\"M19 3H5c-1.1 0-2 .9-2 2v14c0 1.1.9 2 2 2h14c1.1 0 2-.9 2-2V5c0-1.1-.9-2-2-2zM9 17H7v-7h2v7zm4 0h-2V7h2v10zm4 0h-2v-4h2v4z\"/>\n",
              "    </g>\n",
              "</svg>\n",
              "  </button>\n",
              "\n",
              "<style>\n",
              "  .colab-df-quickchart {\n",
              "      --bg-color: #E8F0FE;\n",
              "      --fill-color: #1967D2;\n",
              "      --hover-bg-color: #E2EBFA;\n",
              "      --hover-fill-color: #174EA6;\n",
              "      --disabled-fill-color: #AAA;\n",
              "      --disabled-bg-color: #DDD;\n",
              "  }\n",
              "\n",
              "  [theme=dark] .colab-df-quickchart {\n",
              "      --bg-color: #3B4455;\n",
              "      --fill-color: #D2E3FC;\n",
              "      --hover-bg-color: #434B5C;\n",
              "      --hover-fill-color: #FFFFFF;\n",
              "      --disabled-bg-color: #3B4455;\n",
              "      --disabled-fill-color: #666;\n",
              "  }\n",
              "\n",
              "  .colab-df-quickchart {\n",
              "    background-color: var(--bg-color);\n",
              "    border: none;\n",
              "    border-radius: 50%;\n",
              "    cursor: pointer;\n",
              "    display: none;\n",
              "    fill: var(--fill-color);\n",
              "    height: 32px;\n",
              "    padding: 0;\n",
              "    width: 32px;\n",
              "  }\n",
              "\n",
              "  .colab-df-quickchart:hover {\n",
              "    background-color: var(--hover-bg-color);\n",
              "    box-shadow: 0 1px 2px rgba(60, 64, 67, 0.3), 0 1px 3px 1px rgba(60, 64, 67, 0.15);\n",
              "    fill: var(--button-hover-fill-color);\n",
              "  }\n",
              "\n",
              "  .colab-df-quickchart-complete:disabled,\n",
              "  .colab-df-quickchart-complete:disabled:hover {\n",
              "    background-color: var(--disabled-bg-color);\n",
              "    fill: var(--disabled-fill-color);\n",
              "    box-shadow: none;\n",
              "  }\n",
              "\n",
              "  .colab-df-spinner {\n",
              "    border: 2px solid var(--fill-color);\n",
              "    border-color: transparent;\n",
              "    border-bottom-color: var(--fill-color);\n",
              "    animation:\n",
              "      spin 1s steps(1) infinite;\n",
              "  }\n",
              "\n",
              "  @keyframes spin {\n",
              "    0% {\n",
              "      border-color: transparent;\n",
              "      border-bottom-color: var(--fill-color);\n",
              "      border-left-color: var(--fill-color);\n",
              "    }\n",
              "    20% {\n",
              "      border-color: transparent;\n",
              "      border-left-color: var(--fill-color);\n",
              "      border-top-color: var(--fill-color);\n",
              "    }\n",
              "    30% {\n",
              "      border-color: transparent;\n",
              "      border-left-color: var(--fill-color);\n",
              "      border-top-color: var(--fill-color);\n",
              "      border-right-color: var(--fill-color);\n",
              "    }\n",
              "    40% {\n",
              "      border-color: transparent;\n",
              "      border-right-color: var(--fill-color);\n",
              "      border-top-color: var(--fill-color);\n",
              "    }\n",
              "    60% {\n",
              "      border-color: transparent;\n",
              "      border-right-color: var(--fill-color);\n",
              "    }\n",
              "    80% {\n",
              "      border-color: transparent;\n",
              "      border-right-color: var(--fill-color);\n",
              "      border-bottom-color: var(--fill-color);\n",
              "    }\n",
              "    90% {\n",
              "      border-color: transparent;\n",
              "      border-bottom-color: var(--fill-color);\n",
              "    }\n",
              "  }\n",
              "</style>\n",
              "\n",
              "  <script>\n",
              "    async function quickchart(key) {\n",
              "      const quickchartButtonEl =\n",
              "        document.querySelector('#' + key + ' button');\n",
              "      quickchartButtonEl.disabled = true;  // To prevent multiple clicks.\n",
              "      quickchartButtonEl.classList.add('colab-df-spinner');\n",
              "      try {\n",
              "        const charts = await google.colab.kernel.invokeFunction(\n",
              "            'suggestCharts', [key], {});\n",
              "      } catch (error) {\n",
              "        console.error('Error during call to suggestCharts:', error);\n",
              "      }\n",
              "      quickchartButtonEl.classList.remove('colab-df-spinner');\n",
              "      quickchartButtonEl.classList.add('colab-df-quickchart-complete');\n",
              "    }\n",
              "    (() => {\n",
              "      let quickchartButtonEl =\n",
              "        document.querySelector('#df-8f9e3085-5f7e-4081-838b-a05bff6e1b6e button');\n",
              "      quickchartButtonEl.style.display =\n",
              "        google.colab.kernel.accessAllowed ? 'block' : 'none';\n",
              "    })();\n",
              "  </script>\n",
              "</div>\n",
              "\n",
              "  <div id=\"id_03e1f226-2b29-4c98-b7b6-281878aff31c\">\n",
              "    <style>\n",
              "      .colab-df-generate {\n",
              "        background-color: #E8F0FE;\n",
              "        border: none;\n",
              "        border-radius: 50%;\n",
              "        cursor: pointer;\n",
              "        display: none;\n",
              "        fill: #1967D2;\n",
              "        height: 32px;\n",
              "        padding: 0 0 0 0;\n",
              "        width: 32px;\n",
              "      }\n",
              "\n",
              "      .colab-df-generate:hover {\n",
              "        background-color: #E2EBFA;\n",
              "        box-shadow: 0px 1px 2px rgba(60, 64, 67, 0.3), 0px 1px 3px 1px rgba(60, 64, 67, 0.15);\n",
              "        fill: #174EA6;\n",
              "      }\n",
              "\n",
              "      [theme=dark] .colab-df-generate {\n",
              "        background-color: #3B4455;\n",
              "        fill: #D2E3FC;\n",
              "      }\n",
              "\n",
              "      [theme=dark] .colab-df-generate:hover {\n",
              "        background-color: #434B5C;\n",
              "        box-shadow: 0px 1px 3px 1px rgba(0, 0, 0, 0.15);\n",
              "        filter: drop-shadow(0px 1px 2px rgba(0, 0, 0, 0.3));\n",
              "        fill: #FFFFFF;\n",
              "      }\n",
              "    </style>\n",
              "    <button class=\"colab-df-generate\" onclick=\"generateWithVariable('df')\"\n",
              "            title=\"Generate code using this dataframe.\"\n",
              "            style=\"display:none;\">\n",
              "\n",
              "  <svg xmlns=\"http://www.w3.org/2000/svg\" height=\"24px\"viewBox=\"0 0 24 24\"\n",
              "       width=\"24px\">\n",
              "    <path d=\"M7,19H8.4L18.45,9,17,7.55,7,17.6ZM5,21V16.75L18.45,3.32a2,2,0,0,1,2.83,0l1.4,1.43a1.91,1.91,0,0,1,.58,1.4,1.91,1.91,0,0,1-.58,1.4L9.25,21ZM18.45,9,17,7.55Zm-12,3A5.31,5.31,0,0,0,4.9,8.1,5.31,5.31,0,0,0,1,6.5,5.31,5.31,0,0,0,4.9,4.9,5.31,5.31,0,0,0,6.5,1,5.31,5.31,0,0,0,8.1,4.9,5.31,5.31,0,0,0,12,6.5,5.46,5.46,0,0,0,6.5,12Z\"/>\n",
              "  </svg>\n",
              "    </button>\n",
              "    <script>\n",
              "      (() => {\n",
              "      const buttonEl =\n",
              "        document.querySelector('#id_03e1f226-2b29-4c98-b7b6-281878aff31c button.colab-df-generate');\n",
              "      buttonEl.style.display =\n",
              "        google.colab.kernel.accessAllowed ? 'block' : 'none';\n",
              "\n",
              "      buttonEl.onclick = () => {\n",
              "        google.colab.notebook.generateWithVariable('df');\n",
              "      }\n",
              "      })();\n",
              "    </script>\n",
              "  </div>\n",
              "\n",
              "    </div>\n",
              "  </div>\n"
            ],
            "application/vnd.google.colaboratory.intrinsic+json": {
              "type": "dataframe",
              "variable_name": "df",
              "summary": "{\n  \"name\": \"df\",\n  \"rows\": 24985,\n  \"fields\": [\n    {\n      \"column\": \"case_id\",\n      \"properties\": {\n        \"dtype\": \"string\",\n        \"num_unique_values\": 24985,\n        \"samples\": [\n          \"Case15689\",\n          \"Case9347\",\n          \"Case8483\"\n        ],\n        \"semantic_type\": \"\",\n        \"description\": \"\"\n      }\n    },\n    {\n      \"column\": \"case_outcome\",\n      \"properties\": {\n        \"dtype\": \"category\",\n        \"num_unique_values\": 10,\n        \"samples\": [\n          \"affirmed\",\n          \"applied\",\n          \"considered\"\n        ],\n        \"semantic_type\": \"\",\n        \"description\": \"\"\n      }\n    },\n    {\n      \"column\": \"case_title\",\n      \"properties\": {\n        \"dtype\": \"string\",\n        \"num_unique_values\": 18581,\n        \"samples\": [\n          \"SZMDG v Minister for Immigration and Anor [2008] FMCA 1075\",\n          \"Venus Adult Shops Pty Ltd and Others v Fraserside Holdings Ltd and Another [2006] FCAFC 188 ; (2006) 157 FCR 442\",\n          \"CPSU v Telstra Corporation Ltd [2001] FCA 267 ; (2001) 107 FCR 93 \"\n        ],\n        \"semantic_type\": \"\",\n        \"description\": \"\"\n      }\n    },\n    {\n      \"column\": \"case_text\",\n      \"properties\": {\n        \"dtype\": \"string\",\n        \"num_unique_values\": 17920,\n        \"samples\": [\n          \"need not recount in further detail the claims of estoppel, unfairness and waiver. In relation to \\\"substantive unfairness\\\", the applicants cite R v Inland Revenue Commissioner; Ex parte Preston [1984] UKHL 5 ; [1985] AC 835 at 866 7 (Templeman LJ) (for the principle that judicial review may be warranted where a commissioner's decision is unfair and amounting to a breach of contract or breach of representation, and therefore within the ambit of an abuse of power). They acknowledge the note of caution in relation to this principle that was sounded by Lehane J in Daihatsu Australia Pty Ltd v Deputy Commissioner of Taxation (2001) 182 ALR 239 (\\\" Daihatsu \\\") at [51] (that note of caution being that such a principle has not been the subject of extended consideration by Australian courts), but say that at the trial, they will submit that the principles of administrative law in Australia are developing to take account of a form of doctrine of substantive unfairness of the kind described by Lord Templeman. REASONING Order 20 of the FCRs and s 31A of the FCA Act Deloitte and Daihatsu concerned notices issued by the Commissioner under s 264 of the ITAA. In Deloitte , Goldberg J (at 451) expressed the opinion, and the Commissioner did not dispute, that the Commissioner's delegate was bound to have regard to the Guidelines when deciding to issue a notice under s 264. His Honour said that for this reason it was not necessary for him to deal with the Commissioner's submission that the Guidelines were not a source of rights. In Daihatsu , the taxpayer sought relief under s 16 of the AD(JR) Act and s 39B of the Judiciary Act in respect of notices issued under s 264 of the ITAA. Lehane J (at [68]) refused relief on the merits.\",\n          \"The Bankruptcy Act , it must nevertheless be accepted, confers no entitlement to trial by jury: Hubner v Australia and New Zealand Banking Group Ltd [1999] FCA 385 , 88 FCR 445. Cooper, Kiefel and Tamberlin JJ were there addressing s 30(3) of the 1966 Act, and not s 30(1)(i), but relevantly concluded: Jury [27] Mr and Mrs Hubner also say that the bankruptcy proceedings should be heard with a jury pursuant to s30(3) of the Act. That provision reads: \\\"(3) If in a proceeding before the Court under this Act a question of fact arises that a party desires to have trial before a jury, the Court may, if it thinks fit, direct the trial to that question to be had before a jury, and the trial may be had accordingly in the same manner as if it were the trail of an issue of fact in an action.\\\" [28] The appellants say that it is a civil right of all Queenslanders to have a trial by jury under s30(3). [29] In view of the approach taken by his Honour, which we consider to be correct, the question of a jury trial does not arise; so we do not accept the applicants' submissions in relation to this matter. Moreover, there was no relevant question of fact raised for a jury to determine. The Court under s30(3) has a wide discretion and there is no entitlement to a jury trial given by the section. We are not persuaded, given the necessity for a clear case of error to be shown on a matter of principle that there is any justification for ordering a jury trial in the present case. We see no error on the part of his Honour. Section 30(3) is not beyond the legislative competence of Commonwealth Parliament and is not invalid because of any unfounded assertion that it \\\" undermines or perverts \\\" the Constitution : Commonwealth Bank of Australia v Heinrich [2000] FCA 1255 at [18] [25] per Mansfield J. Nor is there any entitlement to trial by jury arising by reason of either some \\\" unwritten law \\\" such as natural justice or by reason of Schedule 2 to the Human Rights and Equal Opportunity Commission Act 1986 (Cth): Hubner v ANZ Banking Group Ltd [2000] FCA 140 at [9] [10], [2000] FCA 140 ; 101 FCR 71 at 73 per Drummond, Dowsett and Katz JJ.\",\n          \"The Tribunal found that \\\"it is difficult to consider a commercial funeral business as having an objective of the advancement of religion\\\" and that \\\"the business was a commercial operation for the purpose of making a commercial profit\\\" . The Tribunal relied on the decision of Priestley JA (with whom McHugh JA agreed) in Glebe Administration Board v Commissioner of Pay-roll Tax (1987) 10 NSWLR 352, where his Honour said, at 365: \\\"In my opinion the Board was not at any relevant time a religious institution. It was a statutory corporation doing commercial work within limitations fixed by reference to religious principles. It was staffed by persons who wished to observe the religious principles giving rise to the limitations on the Board's commercial activities. The property in its ownership both increased in value and gave rise to revenue. Capital was held for the benefit of a religious institution and large amounts of revenue were handed over to that institution. To my mind all these matters result in it being accurate to describe the Board as a legal entity working in a commercial area, guiding its commercial conduct by the principles of a religious institution and, in ordinary language, working for that religious institution. I do not think that this legal entity can either by an ordinary or a technical use of language be accurately called a religious institution.\\\" 57 This case does not aid the Commissioner. Its facts are distinguishable from the present case. It concerned a statutory body exercising property ownership and investment powers given to it by statute. The Board was required by statute to hold and invest church property and to deal with any proceeds. Its purposes were thus defined by statute. This is to be contrasted with Word, which is an independent organisation which has chosen to apply funds that it raises to Wycliffe and other religious bodies. The Board's manner of operation was also different from Word's. It lent money for short terms at commercial interest rates and applied funds for church activities generally, rather than the specific activities supported by Word. Finally, the Board claimed to be a religious institution not, as in the present case, a charitable institution. Word concedes that it cannot be a religious institution. 58 In my view, in concluding that the running of a funeral business could not advance religion, the Tribunal fell into two errors. The first was to consider the funeral business in isolation from the remainder of Word's operations. There was no evidence to suggest that, from the commencement of Bethel Funerals, Word ceased receiving money from investors. The entity claiming to be a charitable organisation is Word, not the Bethel Funerals operations of Word. Word's activities as a whole must be considered when determining whether its purposes were charitable. 59 When such a consideration is undertaken, the second error becomes clear. Word's purposes as a whole were to raise money for provision to Wycliffe and similar organisations. This was true both before and after the establishment of Bethel Funerals. It was only the manner of raising the money that changed; the purpose for doing it remained the same. The Tribunal's error appears to have involved drawing an unwarranted distinction between active and passive investment. It seems to have assumed that it may be charitable for an organisation to receive funds from investors who may or may not have been encouraged to support its goals and ideals, but that it cannot be charitable for the organisation to actively establish a business to derive similar income. 60 The Tribunal's distinction is at odds with the practice of contemporary charitable organisations. With the decline of the welfare state, charitable organisations are expected to do more with the same resources. Reliance on donations alone will, in many cases, be insufficient. Hence many charitable organisations have established business ventures to generate the income necessary to support their activities. There may appear to be a vast difference between selling lamingtons at a church f&ecirc;te and selling funeral services, but where the object of raising the funds is the same, I can no see no reason to draw a legal distinction between the two. I again refer in this connection to the cases referred to at [33]-[35]. 61 It follows that, for the period from 1 July 2000 to 1 July 2002, Word was a charitable institution under item 1.1 of the table at s 50-5 of the Act and is entitled to endorsement accordingly. The cross-appeal is therefore allowed. Word's alternative argument that its articles and memorandum of association created an instrument of trust need not be considered. 62 As set out above at [16], Word established the Foundation from 1 July 2002 to carry on the business of Bethel Funerals. This effected a significant change from the position prior to that date, when Bethel Funerals was merely a part of Word rather than run through a separate legal entity. The Tribunal held that \\\"the activities after 1 July 2002, being the same as those prior to 1996, entitle [Word] to endorsement as a charitable institution from that date.\\\"\"\n        ],\n        \"semantic_type\": \"\",\n        \"description\": \"\"\n      }\n    }\n  ]\n}"
            }
          },
          "metadata": {},
          "execution_count": 13
        }
      ],
      "execution_count": null
    },
    {
      "cell_type": "code",
      "source": [
        "df.describe()"
      ],
      "metadata": {
        "id": "ac88bb34",
        "outputId": "ffa8797f-677b-4031-99e5-399d6e8dfc7c",
        "trusted": true,
        "execution": {
          "iopub.status.busy": "2025-03-12T07:56:54.22877Z",
          "iopub.execute_input": "2025-03-12T07:56:54.229125Z",
          "iopub.status.idle": "2025-03-12T07:56:54.32038Z",
          "shell.execute_reply.started": "2025-03-12T07:56:54.229093Z",
          "shell.execute_reply": "2025-03-12T07:56:54.319722Z"
        },
        "colab": {
          "base_uri": "https://localhost:8080/",
          "height": 192
        }
      },
      "outputs": [
        {
          "output_type": "execute_result",
          "data": {
            "text/plain": [
              "          case_id case_outcome  \\\n",
              "count       24985        24985   \n",
              "unique      24985           10   \n",
              "top     Case25207        cited   \n",
              "freq            1        12219   \n",
              "\n",
              "                                               case_title  \\\n",
              "count                                               24985   \n",
              "unique                                              18581   \n",
              "top     Minister for Immigration and Ethnic Affairs v ...   \n",
              "freq                                                   70   \n",
              "\n",
              "                                                case_text  \n",
              "count                                               24809  \n",
              "unique                                              17920  \n",
              "top     submitted that this Court should hold that the...  \n",
              "freq                                                   42  "
            ],
            "text/html": [
              "\n",
              "  <div id=\"df-7b1c0327-5e89-405f-9835-36de35c8b4f5\" class=\"colab-df-container\">\n",
              "    <div>\n",
              "<style scoped>\n",
              "    .dataframe tbody tr th:only-of-type {\n",
              "        vertical-align: middle;\n",
              "    }\n",
              "\n",
              "    .dataframe tbody tr th {\n",
              "        vertical-align: top;\n",
              "    }\n",
              "\n",
              "    .dataframe thead th {\n",
              "        text-align: right;\n",
              "    }\n",
              "</style>\n",
              "<table border=\"1\" class=\"dataframe\">\n",
              "  <thead>\n",
              "    <tr style=\"text-align: right;\">\n",
              "      <th></th>\n",
              "      <th>case_id</th>\n",
              "      <th>case_outcome</th>\n",
              "      <th>case_title</th>\n",
              "      <th>case_text</th>\n",
              "    </tr>\n",
              "  </thead>\n",
              "  <tbody>\n",
              "    <tr>\n",
              "      <th>count</th>\n",
              "      <td>24985</td>\n",
              "      <td>24985</td>\n",
              "      <td>24985</td>\n",
              "      <td>24809</td>\n",
              "    </tr>\n",
              "    <tr>\n",
              "      <th>unique</th>\n",
              "      <td>24985</td>\n",
              "      <td>10</td>\n",
              "      <td>18581</td>\n",
              "      <td>17920</td>\n",
              "    </tr>\n",
              "    <tr>\n",
              "      <th>top</th>\n",
              "      <td>Case25207</td>\n",
              "      <td>cited</td>\n",
              "      <td>Minister for Immigration and Ethnic Affairs v ...</td>\n",
              "      <td>submitted that this Court should hold that the...</td>\n",
              "    </tr>\n",
              "    <tr>\n",
              "      <th>freq</th>\n",
              "      <td>1</td>\n",
              "      <td>12219</td>\n",
              "      <td>70</td>\n",
              "      <td>42</td>\n",
              "    </tr>\n",
              "  </tbody>\n",
              "</table>\n",
              "</div>\n",
              "    <div class=\"colab-df-buttons\">\n",
              "\n",
              "  <div class=\"colab-df-container\">\n",
              "    <button class=\"colab-df-convert\" onclick=\"convertToInteractive('df-7b1c0327-5e89-405f-9835-36de35c8b4f5')\"\n",
              "            title=\"Convert this dataframe to an interactive table.\"\n",
              "            style=\"display:none;\">\n",
              "\n",
              "  <svg xmlns=\"http://www.w3.org/2000/svg\" height=\"24px\" viewBox=\"0 -960 960 960\">\n",
              "    <path d=\"M120-120v-720h720v720H120Zm60-500h600v-160H180v160Zm220 220h160v-160H400v160Zm0 220h160v-160H400v160ZM180-400h160v-160H180v160Zm440 0h160v-160H620v160ZM180-180h160v-160H180v160Zm440 0h160v-160H620v160Z\"/>\n",
              "  </svg>\n",
              "    </button>\n",
              "\n",
              "  <style>\n",
              "    .colab-df-container {\n",
              "      display:flex;\n",
              "      gap: 12px;\n",
              "    }\n",
              "\n",
              "    .colab-df-convert {\n",
              "      background-color: #E8F0FE;\n",
              "      border: none;\n",
              "      border-radius: 50%;\n",
              "      cursor: pointer;\n",
              "      display: none;\n",
              "      fill: #1967D2;\n",
              "      height: 32px;\n",
              "      padding: 0 0 0 0;\n",
              "      width: 32px;\n",
              "    }\n",
              "\n",
              "    .colab-df-convert:hover {\n",
              "      background-color: #E2EBFA;\n",
              "      box-shadow: 0px 1px 2px rgba(60, 64, 67, 0.3), 0px 1px 3px 1px rgba(60, 64, 67, 0.15);\n",
              "      fill: #174EA6;\n",
              "    }\n",
              "\n",
              "    .colab-df-buttons div {\n",
              "      margin-bottom: 4px;\n",
              "    }\n",
              "\n",
              "    [theme=dark] .colab-df-convert {\n",
              "      background-color: #3B4455;\n",
              "      fill: #D2E3FC;\n",
              "    }\n",
              "\n",
              "    [theme=dark] .colab-df-convert:hover {\n",
              "      background-color: #434B5C;\n",
              "      box-shadow: 0px 1px 3px 1px rgba(0, 0, 0, 0.15);\n",
              "      filter: drop-shadow(0px 1px 2px rgba(0, 0, 0, 0.3));\n",
              "      fill: #FFFFFF;\n",
              "    }\n",
              "  </style>\n",
              "\n",
              "    <script>\n",
              "      const buttonEl =\n",
              "        document.querySelector('#df-7b1c0327-5e89-405f-9835-36de35c8b4f5 button.colab-df-convert');\n",
              "      buttonEl.style.display =\n",
              "        google.colab.kernel.accessAllowed ? 'block' : 'none';\n",
              "\n",
              "      async function convertToInteractive(key) {\n",
              "        const element = document.querySelector('#df-7b1c0327-5e89-405f-9835-36de35c8b4f5');\n",
              "        const dataTable =\n",
              "          await google.colab.kernel.invokeFunction('convertToInteractive',\n",
              "                                                    [key], {});\n",
              "        if (!dataTable) return;\n",
              "\n",
              "        const docLinkHtml = 'Like what you see? Visit the ' +\n",
              "          '<a target=\"_blank\" href=https://colab.research.google.com/notebooks/data_table.ipynb>data table notebook</a>'\n",
              "          + ' to learn more about interactive tables.';\n",
              "        element.innerHTML = '';\n",
              "        dataTable['output_type'] = 'display_data';\n",
              "        await google.colab.output.renderOutput(dataTable, element);\n",
              "        const docLink = document.createElement('div');\n",
              "        docLink.innerHTML = docLinkHtml;\n",
              "        element.appendChild(docLink);\n",
              "      }\n",
              "    </script>\n",
              "  </div>\n",
              "\n",
              "\n",
              "<div id=\"df-9014bb31-8c3b-413f-8028-b8911e731254\">\n",
              "  <button class=\"colab-df-quickchart\" onclick=\"quickchart('df-9014bb31-8c3b-413f-8028-b8911e731254')\"\n",
              "            title=\"Suggest charts\"\n",
              "            style=\"display:none;\">\n",
              "\n",
              "<svg xmlns=\"http://www.w3.org/2000/svg\" height=\"24px\"viewBox=\"0 0 24 24\"\n",
              "     width=\"24px\">\n",
              "    <g>\n",
              "        <path d=\"M19 3H5c-1.1 0-2 .9-2 2v14c0 1.1.9 2 2 2h14c1.1 0 2-.9 2-2V5c0-1.1-.9-2-2-2zM9 17H7v-7h2v7zm4 0h-2V7h2v10zm4 0h-2v-4h2v4z\"/>\n",
              "    </g>\n",
              "</svg>\n",
              "  </button>\n",
              "\n",
              "<style>\n",
              "  .colab-df-quickchart {\n",
              "      --bg-color: #E8F0FE;\n",
              "      --fill-color: #1967D2;\n",
              "      --hover-bg-color: #E2EBFA;\n",
              "      --hover-fill-color: #174EA6;\n",
              "      --disabled-fill-color: #AAA;\n",
              "      --disabled-bg-color: #DDD;\n",
              "  }\n",
              "\n",
              "  [theme=dark] .colab-df-quickchart {\n",
              "      --bg-color: #3B4455;\n",
              "      --fill-color: #D2E3FC;\n",
              "      --hover-bg-color: #434B5C;\n",
              "      --hover-fill-color: #FFFFFF;\n",
              "      --disabled-bg-color: #3B4455;\n",
              "      --disabled-fill-color: #666;\n",
              "  }\n",
              "\n",
              "  .colab-df-quickchart {\n",
              "    background-color: var(--bg-color);\n",
              "    border: none;\n",
              "    border-radius: 50%;\n",
              "    cursor: pointer;\n",
              "    display: none;\n",
              "    fill: var(--fill-color);\n",
              "    height: 32px;\n",
              "    padding: 0;\n",
              "    width: 32px;\n",
              "  }\n",
              "\n",
              "  .colab-df-quickchart:hover {\n",
              "    background-color: var(--hover-bg-color);\n",
              "    box-shadow: 0 1px 2px rgba(60, 64, 67, 0.3), 0 1px 3px 1px rgba(60, 64, 67, 0.15);\n",
              "    fill: var(--button-hover-fill-color);\n",
              "  }\n",
              "\n",
              "  .colab-df-quickchart-complete:disabled,\n",
              "  .colab-df-quickchart-complete:disabled:hover {\n",
              "    background-color: var(--disabled-bg-color);\n",
              "    fill: var(--disabled-fill-color);\n",
              "    box-shadow: none;\n",
              "  }\n",
              "\n",
              "  .colab-df-spinner {\n",
              "    border: 2px solid var(--fill-color);\n",
              "    border-color: transparent;\n",
              "    border-bottom-color: var(--fill-color);\n",
              "    animation:\n",
              "      spin 1s steps(1) infinite;\n",
              "  }\n",
              "\n",
              "  @keyframes spin {\n",
              "    0% {\n",
              "      border-color: transparent;\n",
              "      border-bottom-color: var(--fill-color);\n",
              "      border-left-color: var(--fill-color);\n",
              "    }\n",
              "    20% {\n",
              "      border-color: transparent;\n",
              "      border-left-color: var(--fill-color);\n",
              "      border-top-color: var(--fill-color);\n",
              "    }\n",
              "    30% {\n",
              "      border-color: transparent;\n",
              "      border-left-color: var(--fill-color);\n",
              "      border-top-color: var(--fill-color);\n",
              "      border-right-color: var(--fill-color);\n",
              "    }\n",
              "    40% {\n",
              "      border-color: transparent;\n",
              "      border-right-color: var(--fill-color);\n",
              "      border-top-color: var(--fill-color);\n",
              "    }\n",
              "    60% {\n",
              "      border-color: transparent;\n",
              "      border-right-color: var(--fill-color);\n",
              "    }\n",
              "    80% {\n",
              "      border-color: transparent;\n",
              "      border-right-color: var(--fill-color);\n",
              "      border-bottom-color: var(--fill-color);\n",
              "    }\n",
              "    90% {\n",
              "      border-color: transparent;\n",
              "      border-bottom-color: var(--fill-color);\n",
              "    }\n",
              "  }\n",
              "</style>\n",
              "\n",
              "  <script>\n",
              "    async function quickchart(key) {\n",
              "      const quickchartButtonEl =\n",
              "        document.querySelector('#' + key + ' button');\n",
              "      quickchartButtonEl.disabled = true;  // To prevent multiple clicks.\n",
              "      quickchartButtonEl.classList.add('colab-df-spinner');\n",
              "      try {\n",
              "        const charts = await google.colab.kernel.invokeFunction(\n",
              "            'suggestCharts', [key], {});\n",
              "      } catch (error) {\n",
              "        console.error('Error during call to suggestCharts:', error);\n",
              "      }\n",
              "      quickchartButtonEl.classList.remove('colab-df-spinner');\n",
              "      quickchartButtonEl.classList.add('colab-df-quickchart-complete');\n",
              "    }\n",
              "    (() => {\n",
              "      let quickchartButtonEl =\n",
              "        document.querySelector('#df-9014bb31-8c3b-413f-8028-b8911e731254 button');\n",
              "      quickchartButtonEl.style.display =\n",
              "        google.colab.kernel.accessAllowed ? 'block' : 'none';\n",
              "    })();\n",
              "  </script>\n",
              "</div>\n",
              "\n",
              "    </div>\n",
              "  </div>\n"
            ],
            "application/vnd.google.colaboratory.intrinsic+json": {
              "type": "dataframe",
              "summary": "{\n  \"name\": \"df\",\n  \"rows\": 4,\n  \"fields\": [\n    {\n      \"column\": \"case_id\",\n      \"properties\": {\n        \"dtype\": \"string\",\n        \"num_unique_values\": 3,\n        \"samples\": [\n          \"24985\",\n          \"Case25207\",\n          \"1\"\n        ],\n        \"semantic_type\": \"\",\n        \"description\": \"\"\n      }\n    },\n    {\n      \"column\": \"case_outcome\",\n      \"properties\": {\n        \"dtype\": \"string\",\n        \"num_unique_values\": 4,\n        \"samples\": [\n          10,\n          \"12219\",\n          \"24985\"\n        ],\n        \"semantic_type\": \"\",\n        \"description\": \"\"\n      }\n    },\n    {\n      \"column\": \"case_title\",\n      \"properties\": {\n        \"dtype\": \"string\",\n        \"num_unique_values\": 4,\n        \"samples\": [\n          18581,\n          \"70\",\n          \"24985\"\n        ],\n        \"semantic_type\": \"\",\n        \"description\": \"\"\n      }\n    },\n    {\n      \"column\": \"case_text\",\n      \"properties\": {\n        \"dtype\": \"string\",\n        \"num_unique_values\": 4,\n        \"samples\": [\n          17920,\n          \"42\",\n          \"24809\"\n        ],\n        \"semantic_type\": \"\",\n        \"description\": \"\"\n      }\n    }\n  ]\n}"
            }
          },
          "metadata": {},
          "execution_count": 14
        }
      ],
      "execution_count": null
    },
    {
      "cell_type": "code",
      "source": [
        "df.case_outcome.unique()"
      ],
      "metadata": {
        "id": "67f7c493",
        "outputId": "817d1e2f-8dc9-438f-ffa7-e87e7e6b8286",
        "trusted": true,
        "execution": {
          "iopub.status.busy": "2025-03-12T07:56:54.322697Z",
          "iopub.execute_input": "2025-03-12T07:56:54.322988Z",
          "iopub.status.idle": "2025-03-12T07:56:54.332609Z",
          "shell.execute_reply.started": "2025-03-12T07:56:54.322965Z",
          "shell.execute_reply": "2025-03-12T07:56:54.331972Z"
        },
        "colab": {
          "base_uri": "https://localhost:8080/"
        }
      },
      "outputs": [
        {
          "output_type": "execute_result",
          "data": {
            "text/plain": [
              "array(['cited', 'applied', 'followed', 'referred to', 'related',\n",
              "       'considered', 'discussed', 'distinguished', 'affirmed', 'approved'],\n",
              "      dtype=object)"
            ]
          },
          "metadata": {},
          "execution_count": 15
        }
      ],
      "execution_count": null
    },
    {
      "cell_type": "code",
      "source": [
        "df.case_outcome.value_counts()"
      ],
      "metadata": {
        "id": "226d7a9b",
        "outputId": "7bdfd4ea-80da-447e-bc91-54f6b7cc906d",
        "trusted": true,
        "execution": {
          "iopub.status.busy": "2025-03-12T07:56:54.333549Z",
          "iopub.execute_input": "2025-03-12T07:56:54.333808Z",
          "iopub.status.idle": "2025-03-12T07:56:54.343407Z",
          "shell.execute_reply.started": "2025-03-12T07:56:54.333783Z",
          "shell.execute_reply": "2025-03-12T07:56:54.342808Z"
        },
        "colab": {
          "base_uri": "https://localhost:8080/",
          "height": 429
        }
      },
      "outputs": [
        {
          "output_type": "execute_result",
          "data": {
            "text/plain": [
              "case_outcome\n",
              "cited            12219\n",
              "referred to       4384\n",
              "applied           2448\n",
              "followed          2256\n",
              "considered        1712\n",
              "discussed         1024\n",
              "distinguished      608\n",
              "related            113\n",
              "affirmed           113\n",
              "approved           108\n",
              "Name: count, dtype: int64"
            ],
            "text/html": [
              "<div>\n",
              "<style scoped>\n",
              "    .dataframe tbody tr th:only-of-type {\n",
              "        vertical-align: middle;\n",
              "    }\n",
              "\n",
              "    .dataframe tbody tr th {\n",
              "        vertical-align: top;\n",
              "    }\n",
              "\n",
              "    .dataframe thead th {\n",
              "        text-align: right;\n",
              "    }\n",
              "</style>\n",
              "<table border=\"1\" class=\"dataframe\">\n",
              "  <thead>\n",
              "    <tr style=\"text-align: right;\">\n",
              "      <th></th>\n",
              "      <th>count</th>\n",
              "    </tr>\n",
              "    <tr>\n",
              "      <th>case_outcome</th>\n",
              "      <th></th>\n",
              "    </tr>\n",
              "  </thead>\n",
              "  <tbody>\n",
              "    <tr>\n",
              "      <th>cited</th>\n",
              "      <td>12219</td>\n",
              "    </tr>\n",
              "    <tr>\n",
              "      <th>referred to</th>\n",
              "      <td>4384</td>\n",
              "    </tr>\n",
              "    <tr>\n",
              "      <th>applied</th>\n",
              "      <td>2448</td>\n",
              "    </tr>\n",
              "    <tr>\n",
              "      <th>followed</th>\n",
              "      <td>2256</td>\n",
              "    </tr>\n",
              "    <tr>\n",
              "      <th>considered</th>\n",
              "      <td>1712</td>\n",
              "    </tr>\n",
              "    <tr>\n",
              "      <th>discussed</th>\n",
              "      <td>1024</td>\n",
              "    </tr>\n",
              "    <tr>\n",
              "      <th>distinguished</th>\n",
              "      <td>608</td>\n",
              "    </tr>\n",
              "    <tr>\n",
              "      <th>related</th>\n",
              "      <td>113</td>\n",
              "    </tr>\n",
              "    <tr>\n",
              "      <th>affirmed</th>\n",
              "      <td>113</td>\n",
              "    </tr>\n",
              "    <tr>\n",
              "      <th>approved</th>\n",
              "      <td>108</td>\n",
              "    </tr>\n",
              "  </tbody>\n",
              "</table>\n",
              "</div><br><label><b>dtype:</b> int64</label>"
            ]
          },
          "metadata": {},
          "execution_count": 16
        }
      ],
      "execution_count": null
    },
    {
      "cell_type": "markdown",
      "source": [
        "Видна проблема сильного дизбаланса классов"
      ],
      "metadata": {
        "id": "NNNYZMA6XxvX"
      }
    },
    {
      "cell_type": "code",
      "source": [
        "plt.pie(df.case_outcome.value_counts(),labels=df.case_outcome.unique());"
      ],
      "metadata": {
        "trusted": true,
        "execution": {
          "iopub.status.busy": "2025-03-12T07:56:54.344271Z",
          "iopub.execute_input": "2025-03-12T07:56:54.344493Z",
          "iopub.status.idle": "2025-03-12T07:56:54.616547Z",
          "shell.execute_reply.started": "2025-03-12T07:56:54.344474Z",
          "shell.execute_reply": "2025-03-12T07:56:54.615436Z"
        },
        "id": "li5CIR8pXxvX",
        "outputId": "3703f67f-3b73-44bd-f622-8ade146fd5c2",
        "colab": {
          "base_uri": "https://localhost:8080/",
          "height": 406
        }
      },
      "outputs": [
        {
          "output_type": "display_data",
          "data": {
            "text/plain": [
              "<Figure size 640x480 with 1 Axes>"
            ],
            "image/png": "[encoded data removed]"
          },
          "metadata": {}
        }
      ],
      "execution_count": null
    },
    {
      "cell_type": "code",
      "source": [
        "df.isna().sum()"
      ],
      "metadata": {
        "id": "062d12e4",
        "outputId": "012e39c5-267e-4e3f-ea0c-ed53311aef17",
        "trusted": true,
        "execution": {
          "iopub.status.busy": "2025-03-12T07:56:54.618059Z",
          "iopub.execute_input": "2025-03-12T07:56:54.618486Z",
          "iopub.status.idle": "2025-03-12T07:56:54.64429Z",
          "shell.execute_reply.started": "2025-03-12T07:56:54.618444Z",
          "shell.execute_reply": "2025-03-12T07:56:54.642857Z"
        },
        "colab": {
          "base_uri": "https://localhost:8080/",
          "height": 210
        }
      },
      "outputs": [
        {
          "output_type": "execute_result",
          "data": {
            "text/plain": [
              "case_id           0\n",
              "case_outcome      0\n",
              "case_title        0\n",
              "case_text       176\n",
              "dtype: int64"
            ],
            "text/html": [
              "<div>\n",
              "<style scoped>\n",
              "    .dataframe tbody tr th:only-of-type {\n",
              "        vertical-align: middle;\n",
              "    }\n",
              "\n",
              "    .dataframe tbody tr th {\n",
              "        vertical-align: top;\n",
              "    }\n",
              "\n",
              "    .dataframe thead th {\n",
              "        text-align: right;\n",
              "    }\n",
              "</style>\n",
              "<table border=\"1\" class=\"dataframe\">\n",
              "  <thead>\n",
              "    <tr style=\"text-align: right;\">\n",
              "      <th></th>\n",
              "      <th>0</th>\n",
              "    </tr>\n",
              "  </thead>\n",
              "  <tbody>\n",
              "    <tr>\n",
              "      <th>case_id</th>\n",
              "      <td>0</td>\n",
              "    </tr>\n",
              "    <tr>\n",
              "      <th>case_outcome</th>\n",
              "      <td>0</td>\n",
              "    </tr>\n",
              "    <tr>\n",
              "      <th>case_title</th>\n",
              "      <td>0</td>\n",
              "    </tr>\n",
              "    <tr>\n",
              "      <th>case_text</th>\n",
              "      <td>176</td>\n",
              "    </tr>\n",
              "  </tbody>\n",
              "</table>\n",
              "</div><br><label><b>dtype:</b> int64</label>"
            ]
          },
          "metadata": {},
          "execution_count": 18
        }
      ],
      "execution_count": null
    },
    {
      "cell_type": "code",
      "source": [
        "df = df.fillna('')"
      ],
      "metadata": {
        "id": "2ec47016",
        "scrolled": true,
        "trusted": true,
        "execution": {
          "iopub.status.busy": "2025-03-12T07:56:54.646268Z",
          "iopub.execute_input": "2025-03-12T07:56:54.647257Z",
          "iopub.status.idle": "2025-03-12T07:56:54.677548Z",
          "shell.execute_reply.started": "2025-03-12T07:56:54.647218Z",
          "shell.execute_reply": "2025-03-12T07:56:54.676511Z"
        }
      },
      "outputs": [],
      "execution_count": null
    },
    {
      "cell_type": "code",
      "source": [
        "df.isna().sum()"
      ],
      "metadata": {
        "id": "1b187988",
        "outputId": "72d034a1-92e3-4c26-dd1e-22b677bc8375",
        "trusted": true,
        "execution": {
          "iopub.status.busy": "2025-03-12T07:56:54.678555Z",
          "iopub.execute_input": "2025-03-12T07:56:54.678846Z",
          "iopub.status.idle": "2025-03-12T07:56:54.691523Z",
          "shell.execute_reply.started": "2025-03-12T07:56:54.678823Z",
          "shell.execute_reply": "2025-03-12T07:56:54.690807Z"
        },
        "colab": {
          "base_uri": "https://localhost:8080/",
          "height": 210
        }
      },
      "outputs": [
        {
          "output_type": "execute_result",
          "data": {
            "text/plain": [
              "case_id         0\n",
              "case_outcome    0\n",
              "case_title      0\n",
              "case_text       0\n",
              "dtype: int64"
            ],
            "text/html": [
              "<div>\n",
              "<style scoped>\n",
              "    .dataframe tbody tr th:only-of-type {\n",
              "        vertical-align: middle;\n",
              "    }\n",
              "\n",
              "    .dataframe tbody tr th {\n",
              "        vertical-align: top;\n",
              "    }\n",
              "\n",
              "    .dataframe thead th {\n",
              "        text-align: right;\n",
              "    }\n",
              "</style>\n",
              "<table border=\"1\" class=\"dataframe\">\n",
              "  <thead>\n",
              "    <tr style=\"text-align: right;\">\n",
              "      <th></th>\n",
              "      <th>0</th>\n",
              "    </tr>\n",
              "  </thead>\n",
              "  <tbody>\n",
              "    <tr>\n",
              "      <th>case_id</th>\n",
              "      <td>0</td>\n",
              "    </tr>\n",
              "    <tr>\n",
              "      <th>case_outcome</th>\n",
              "      <td>0</td>\n",
              "    </tr>\n",
              "    <tr>\n",
              "      <th>case_title</th>\n",
              "      <td>0</td>\n",
              "    </tr>\n",
              "    <tr>\n",
              "      <th>case_text</th>\n",
              "      <td>0</td>\n",
              "    </tr>\n",
              "  </tbody>\n",
              "</table>\n",
              "</div><br><label><b>dtype:</b> int64</label>"
            ]
          },
          "metadata": {},
          "execution_count": 20
        }
      ],
      "execution_count": null
    },
    {
      "cell_type": "code",
      "source": [
        "df['case_text_sum'] = df[\"case_title\"] + df[\"case_text\"]"
      ],
      "metadata": {
        "id": "47421df8",
        "trusted": true,
        "execution": {
          "iopub.status.busy": "2025-03-12T07:56:54.695561Z",
          "iopub.execute_input": "2025-03-12T07:56:54.695996Z",
          "iopub.status.idle": "2025-03-12T07:56:54.766017Z",
          "shell.execute_reply.started": "2025-03-12T07:56:54.695955Z",
          "shell.execute_reply": "2025-03-12T07:56:54.76516Z"
        }
      },
      "outputs": [],
      "execution_count": null
    },
    {
      "cell_type": "code",
      "source": [
        "mask = df[\"case_text_sum\"].str.contains(r\"https?://\\S+|www\\.\\S+\")\n",
        "res = df.loc[mask]"
      ],
      "metadata": {
        "id": "6e5b724f",
        "trusted": true,
        "execution": {
          "iopub.status.busy": "2025-03-12T07:56:54.766992Z",
          "iopub.execute_input": "2025-03-12T07:56:54.767307Z",
          "iopub.status.idle": "2025-03-12T07:56:55.39725Z",
          "shell.execute_reply.started": "2025-03-12T07:56:54.767268Z",
          "shell.execute_reply": "2025-03-12T07:56:55.396342Z"
        }
      },
      "outputs": [],
      "execution_count": null
    },
    {
      "cell_type": "code",
      "source": [
        "res.case_text[9]"
      ],
      "metadata": {
        "id": "a315b97f",
        "outputId": "1bace104-beae-4396-a848-00e032b45e84",
        "trusted": true,
        "execution": {
          "iopub.status.busy": "2025-03-12T07:56:55.398547Z",
          "iopub.execute_input": "2025-03-12T07:56:55.398841Z",
          "iopub.status.idle": "2025-03-12T07:56:55.404593Z",
          "shell.execute_reply.started": "2025-03-12T07:56:55.398817Z",
          "shell.execute_reply": "2025-03-12T07:56:55.403695Z"
        },
        "colab": {
          "base_uri": "https://localhost:8080/",
          "height": 226
        }
      },
      "outputs": [
        {
          "output_type": "execute_result",
          "data": {
            "text/plain": [
              "'Hexal Australia Pty Ltd v Roche Therapeutics Inc (2005) 66 IPR 325, the likelihood of irreparable harm was regarded by Stone J as, indeed, a separate element that had to be established by an applicant for an interlocutory injunction. Her Honour cited the well-known passage from the judgment of Mason ACJ in Castlemaine Tooheys Ltd v South Australia [1986] HCA 58 ; (1986) 161 CLR 148 (at 153) as support for that proposition. Had it not been for the fact that there will be a speedy trial of this matter, which Stone J regarded as a relevant consideration in Hexal v Roche (at [78]), I might have been inclined to grant some, at least, of the orders sought by CSL. I will give the parties an opportunity to be heard in relation to the matter of costs. I certify that the preceding one hundred and seven (107) numbered paragraphs are a true copy of the Reasons for Judgment herein of the Honourable Justice Weinberg. Associate: Dated: 3 October 2006 Counsel for the Applicant: Mr B.N. Caine SC and Dr W.A. Rothnie Solicitor for the Applicant: Blake Dawson Waldron Counsel for the Respondent: Mr P.W. Collinson SC and Ms H.M.J. Rofe Solicitor for the Respondent: Deacons Date of Hearing: 22 September 2006 Date of Judgment: 3 October 2006 AustLII: Copyright Policy | Disclaimers | Privacy Policy | Feedback URL: http://www.austlii.edu.au/au/cases/cth/FCA/2006/1301.html'"
            ],
            "application/vnd.google.colaboratory.intrinsic+json": {
              "type": "string"
            }
          },
          "metadata": {},
          "execution_count": 23
        }
      ],
      "execution_count": null
    },
    {
      "cell_type": "code",
      "source": [
        "le = LabelEncoder()\n",
        "df['case_outcome_num'] = le.fit_transform(df.case_outcome)"
      ],
      "metadata": {
        "trusted": true,
        "execution": {
          "iopub.status.busy": "2025-03-12T07:56:55.405928Z",
          "iopub.execute_input": "2025-03-12T07:56:55.406459Z",
          "iopub.status.idle": "2025-03-12T07:56:55.426302Z",
          "shell.execute_reply.started": "2025-03-12T07:56:55.406427Z",
          "shell.execute_reply": "2025-03-12T07:56:55.425525Z"
        },
        "id": "j9GPW0PzXxvY"
      },
      "outputs": [],
      "execution_count": null
    },
    {
      "cell_type": "markdown",
      "source": [
        "## Preproccessing"
      ],
      "metadata": {
        "id": "b29d675b"
      }
    },
    {
      "cell_type": "markdown",
      "source": [
        "### Cleaning data"
      ],
      "metadata": {
        "id": "39b29966"
      }
    },
    {
      "cell_type": "code",
      "source": [
        "# Чистка текста\n",
        "def cleaning(inp_str):\n",
        "    marks ='''!()-[]{};?@#$%:'\"\\,|./^&;*_1234567890'''\n",
        "    inp_str = inp_str.lower()\n",
        "    inp_str = inp_str.replace(r'https?://\\S+|www\\.\\S+', '')\n",
        "    for x in inp_str:\n",
        "        if x in marks:\n",
        "            inp_str = inp_str.replace(x, \"\")\n",
        "    inp_str = inp_str.replace('url','').replace('privacy policy','')\\\n",
        "                     .replace('disclaimers','').replace('disclaimer','').replace('copyright policy','')\n",
        "    return inp_str\n",
        "def beauty_df(df,col='case_text_sum'):\n",
        "    return df[col].apply(lambda x: cleaning(x)).str.split().apply(lambda x: \" \".join(x))\n",
        "def split_df(df,col='case_text_sum',beauty=True):\n",
        "    if beauty:\n",
        "        return beauty_df(df,col).str.split()\n",
        "    else:\n",
        "        df[col].str.split()\n",
        "def df_to_dict_unique(df,col='case_text_sum'):\n",
        "    a = dict()\n",
        "    df = split_df(df,'case_text_sum')\n",
        "    for i in df:\n",
        "        for j in i:\n",
        "            if j not in a.keys():\n",
        "                a[j] = 0\n",
        "            else:\n",
        "                a[j] += 1\n",
        "    return a"
      ],
      "metadata": {
        "id": "a63df73a",
        "trusted": true,
        "execution": {
          "iopub.status.busy": "2025-03-12T07:56:55.427363Z",
          "iopub.execute_input": "2025-03-12T07:56:55.427639Z",
          "iopub.status.idle": "2025-03-12T07:56:55.441858Z",
          "shell.execute_reply.started": "2025-03-12T07:56:55.427612Z",
          "shell.execute_reply": "2025-03-12T07:56:55.441052Z"
        }
      },
      "outputs": [],
      "execution_count": null
    },
    {
      "cell_type": "code",
      "source": [
        "stop_words = get_stop_words('en')"
      ],
      "metadata": {
        "id": "670a2955",
        "trusted": true,
        "execution": {
          "iopub.status.busy": "2025-03-12T07:56:55.44293Z",
          "iopub.execute_input": "2025-03-12T07:56:55.443203Z",
          "iopub.status.idle": "2025-03-12T07:56:55.461889Z",
          "shell.execute_reply.started": "2025-03-12T07:56:55.44317Z",
          "shell.execute_reply": "2025-03-12T07:56:55.461078Z"
        }
      },
      "outputs": [],
      "execution_count": null
    },
    {
      "cell_type": "code",
      "source": [
        "splited_df = split_df(df,col='case_text_sum',beauty=True)"
      ],
      "metadata": {
        "id": "0a18cd7e",
        "trusted": true,
        "execution": {
          "iopub.status.busy": "2025-03-12T07:56:55.463009Z",
          "iopub.execute_input": "2025-03-12T07:56:55.463287Z",
          "iopub.status.idle": "2025-03-12T07:57:48.646022Z",
          "shell.execute_reply.started": "2025-03-12T07:56:55.463265Z",
          "shell.execute_reply": "2025-03-12T07:57:48.645292Z"
        }
      },
      "outputs": [],
      "execution_count": null
    },
    {
      "cell_type": "code",
      "source": [
        "wsw = splited_df.apply(lambda x:[i for i in x if i not in stop_words and len(i) > 2])\n",
        "wsw"
      ],
      "metadata": {
        "id": "37303655",
        "outputId": "5898e8f7-3223-42cc-cb2d-4cb3877e28b2",
        "trusted": true,
        "execution": {
          "iopub.status.busy": "2025-03-12T07:57:48.647022Z",
          "iopub.execute_input": "2025-03-12T07:57:48.647273Z",
          "iopub.status.idle": "2025-03-12T07:58:06.320473Z",
          "shell.execute_reply.started": "2025-03-12T07:57:48.647251Z",
          "shell.execute_reply": "2025-03-12T07:58:06.319691Z"
        },
        "colab": {
          "base_uri": "https://localhost:8080/",
          "height": 458
        }
      },
      "outputs": [
        {
          "output_type": "execute_result",
          "data": {
            "text/plain": [
              "0        [alpine, hardwood, aust, pty, ltd, hardys, pty...\n",
              "1        [black, lipovac, fca, alr, general, principles...\n",
              "2        [colgate, palmolive, cussons, pty, ltd, fcr, o...\n",
              "3        [dais, studio, pty, ltd, bullett, creative, pt...\n",
              "4        [martens, australia, pty, ltd, figgins, holdin...\n",
              "                               ...                        \n",
              "24980    [reches, pty, ltd, tadiran, pty, ltd, fcr, con...\n",
              "24981    [sir, lindsay, parkinson, amp, ltd, triplan, l...\n",
              "24982    [spiel, commodity, brokers, australia, pty, lt...\n",
              "24983    [tullock, ltd, walker, unreported, supreme, co...\n",
              "24984    [yandil, holdings, pty, ltd, insurance, north,...\n",
              "Name: case_text_sum, Length: 24985, dtype: object"
            ],
            "text/html": [
              "<div>\n",
              "<style scoped>\n",
              "    .dataframe tbody tr th:only-of-type {\n",
              "        vertical-align: middle;\n",
              "    }\n",
              "\n",
              "    .dataframe tbody tr th {\n",
              "        vertical-align: top;\n",
              "    }\n",
              "\n",
              "    .dataframe thead th {\n",
              "        text-align: right;\n",
              "    }\n",
              "</style>\n",
              "<table border=\"1\" class=\"dataframe\">\n",
              "  <thead>\n",
              "    <tr style=\"text-align: right;\">\n",
              "      <th></th>\n",
              "      <th>case_text_sum</th>\n",
              "    </tr>\n",
              "  </thead>\n",
              "  <tbody>\n",
              "    <tr>\n",
              "      <th>0</th>\n",
              "      <td>[alpine, hardwood, aust, pty, ltd, hardys, pty...</td>\n",
              "    </tr>\n",
              "    <tr>\n",
              "      <th>1</th>\n",
              "      <td>[black, lipovac, fca, alr, general, principles...</td>\n",
              "    </tr>\n",
              "    <tr>\n",
              "      <th>2</th>\n",
              "      <td>[colgate, palmolive, cussons, pty, ltd, fcr, o...</td>\n",
              "    </tr>\n",
              "    <tr>\n",
              "      <th>3</th>\n",
              "      <td>[dais, studio, pty, ltd, bullett, creative, pt...</td>\n",
              "    </tr>\n",
              "    <tr>\n",
              "      <th>4</th>\n",
              "      <td>[martens, australia, pty, ltd, figgins, holdin...</td>\n",
              "    </tr>\n",
              "    <tr>\n",
              "      <th>...</th>\n",
              "      <td>...</td>\n",
              "    </tr>\n",
              "    <tr>\n",
              "      <th>24980</th>\n",
              "      <td>[reches, pty, ltd, tadiran, pty, ltd, fcr, con...</td>\n",
              "    </tr>\n",
              "    <tr>\n",
              "      <th>24981</th>\n",
              "      <td>[sir, lindsay, parkinson, amp, ltd, triplan, l...</td>\n",
              "    </tr>\n",
              "    <tr>\n",
              "      <th>24982</th>\n",
              "      <td>[spiel, commodity, brokers, australia, pty, lt...</td>\n",
              "    </tr>\n",
              "    <tr>\n",
              "      <th>24983</th>\n",
              "      <td>[tullock, ltd, walker, unreported, supreme, co...</td>\n",
              "    </tr>\n",
              "    <tr>\n",
              "      <th>24984</th>\n",
              "      <td>[yandil, holdings, pty, ltd, insurance, north,...</td>\n",
              "    </tr>\n",
              "  </tbody>\n",
              "</table>\n",
              "<p>24985 rows × 1 columns</p>\n",
              "</div><br><label><b>dtype:</b> object</label>"
            ]
          },
          "metadata": {},
          "execution_count": 28
        }
      ],
      "execution_count": null
    },
    {
      "cell_type": "markdown",
      "source": [
        "### Stemming and Lemmatization"
      ],
      "metadata": {
        "id": "25520c0d"
      }
    },
    {
      "cell_type": "code",
      "source": [
        "def get_lem_word(word):\n",
        "    wnl = WordNetLemmatizer()\n",
        "    return wnl.lemmatize(word, pos=\"v\")\n",
        "def get_stm_word(word):\n",
        "    ps = PorterStemmer()\n",
        "    return ps.stem(word)"
      ],
      "metadata": {
        "id": "c02d74ac",
        "trusted": true,
        "execution": {
          "iopub.status.busy": "2025-03-12T07:58:06.3214Z",
          "iopub.execute_input": "2025-03-12T07:58:06.321622Z",
          "iopub.status.idle": "2025-03-12T07:58:06.32596Z",
          "shell.execute_reply.started": "2025-03-12T07:58:06.321603Z",
          "shell.execute_reply": "2025-03-12T07:58:06.325197Z"
        }
      },
      "outputs": [],
      "execution_count": null
    },
    {
      "cell_type": "code",
      "source": [
        "with_lem = wsw.apply(lambda x: [get_lem_word(i) for i in x])\n",
        "with_lem"
      ],
      "metadata": {
        "id": "eb9c435a",
        "outputId": "959e366b-ba01-44f1-8f86-838c99cbfe13",
        "trusted": true,
        "execution": {
          "iopub.status.busy": "2025-03-12T07:58:06.326974Z",
          "iopub.execute_input": "2025-03-12T07:58:06.327264Z",
          "iopub.status.idle": "2025-03-12T07:58:07.441571Z",
          "shell.execute_reply.started": "2025-03-12T07:58:06.327241Z",
          "shell.execute_reply": "2025-03-12T07:58:07.431106Z"
        },
        "colab": {
          "base_uri": "https://localhost:8080/",
          "height": 1000
        }
      },
      "outputs": [
        {
          "output_type": "error",
          "ename": "LookupError",
          "evalue": "\n**********************************************************************\n  Resource \u001b[93mwordnet\u001b[0m not found.\n  Please use the NLTK Downloader to obtain the resource:\n\n  \u001b[31m>>> import nltk\n  >>> nltk.download('wordnet')\n  \u001b[0m\n  For more information see: https://www.nltk.org/data.html\n\n  Attempted to load \u001b[93mcorpora/wordnet\u001b[0m\n\n  Searched in:\n    - '/root/nltk_data'\n    - '/usr/nltk_data'\n    - '/usr/share/nltk_data'\n    - '/usr/lib/nltk_data'\n    - '/usr/share/nltk_data'\n    - '/usr/local/share/nltk_data'\n    - '/usr/lib/nltk_data'\n    - '/usr/local/lib/nltk_data'\n**********************************************************************\n",
          "traceback": [
            "\u001b[0;31m---------------------------------------------------------------------------\u001b[0m",
            "\u001b[0;31mLookupError\u001b[0m                               Traceback (most recent call last)",
            "\u001b[0;32m/usr/local/lib/python3.11/dist-packages/nltk/corpus/util.py\u001b[0m in \u001b[0;36m__load\u001b[0;34m(self)\u001b[0m\n\u001b[1;32m     83\u001b[0m                 \u001b[0;32mtry\u001b[0m\u001b[0;34m:\u001b[0m\u001b[0;34m\u001b[0m\u001b[0;34m\u001b[0m\u001b[0m\n\u001b[0;32m---> 84\u001b[0;31m                     \u001b[0mroot\u001b[0m \u001b[0;34m=\u001b[0m \u001b[0mnltk\u001b[0m\u001b[0;34m.\u001b[0m\u001b[0mdata\u001b[0m\u001b[0;34m.\u001b[0m\u001b[0mfind\u001b[0m\u001b[0;34m(\u001b[0m\u001b[0;34mf\"{self.subdir}/{zip_name}\"\u001b[0m\u001b[0;34m)\u001b[0m\u001b[0;34m\u001b[0m\u001b[0;34m\u001b[0m\u001b[0m\n\u001b[0m\u001b[1;32m     85\u001b[0m                 \u001b[0;32mexcept\u001b[0m \u001b[0mLookupError\u001b[0m\u001b[0;34m:\u001b[0m\u001b[0;34m\u001b[0m\u001b[0;34m\u001b[0m\u001b[0m\n",
            "\u001b[0;32m/usr/local/lib/python3.11/dist-packages/nltk/data.py\u001b[0m in \u001b[0;36mfind\u001b[0;34m(resource_name, paths)\u001b[0m\n\u001b[1;32m    578\u001b[0m     \u001b[0mresource_not_found\u001b[0m \u001b[0;34m=\u001b[0m \u001b[0;34mf\"\\n{sep}\\n{msg}\\n{sep}\\n\"\u001b[0m\u001b[0;34m\u001b[0m\u001b[0;34m\u001b[0m\u001b[0m\n\u001b[0;32m--> 579\u001b[0;31m     \u001b[0;32mraise\u001b[0m \u001b[0mLookupError\u001b[0m\u001b[0;34m(\u001b[0m\u001b[0mresource_not_found\u001b[0m\u001b[0;34m)\u001b[0m\u001b[0;34m\u001b[0m\u001b[0;34m\u001b[0m\u001b[0m\n\u001b[0m\u001b[1;32m    580\u001b[0m \u001b[0;34m\u001b[0m\u001b[0m\n",
            "\u001b[0;31mLookupError\u001b[0m: \n**********************************************************************\n  Resource \u001b[93mwordnet\u001b[0m not found.\n  Please use the NLTK Downloader to obtain the resource:\n\n  \u001b[31m>>> import nltk\n  >>> nltk.download('wordnet')\n  \u001b[0m\n  For more information see: https://www.nltk.org/data.html\n\n  Attempted to load \u001b[93mcorpora/wordnet.zip/wordnet/\u001b[0m\n\n  Searched in:\n    - '/root/nltk_data'\n    - '/usr/nltk_data'\n    - '/usr/share/nltk_data'\n    - '/usr/lib/nltk_data'\n    - '/usr/share/nltk_data'\n    - '/usr/local/share/nltk_data'\n    - '/usr/lib/nltk_data'\n    - '/usr/local/lib/nltk_data'\n**********************************************************************\n",
            "\nDuring handling of the above exception, another exception occurred:\n",
            "\u001b[0;31mLookupError\u001b[0m                               Traceback (most recent call last)",
            "\u001b[0;32m<ipython-input-31-4e198d8a3726>\u001b[0m in \u001b[0;36m<cell line: 0>\u001b[0;34m()\u001b[0m\n\u001b[0;32m----> 1\u001b[0;31m \u001b[0mwith_lem\u001b[0m \u001b[0;34m=\u001b[0m \u001b[0mwsw\u001b[0m\u001b[0;34m.\u001b[0m\u001b[0mapply\u001b[0m\u001b[0;34m(\u001b[0m\u001b[0;32mlambda\u001b[0m \u001b[0mx\u001b[0m\u001b[0;34m:\u001b[0m \u001b[0;34m[\u001b[0m\u001b[0mget_lem_word\u001b[0m\u001b[0;34m(\u001b[0m\u001b[0mi\u001b[0m\u001b[0;34m)\u001b[0m \u001b[0;32mfor\u001b[0m \u001b[0mi\u001b[0m \u001b[0;32min\u001b[0m \u001b[0mx\u001b[0m\u001b[0;34m]\u001b[0m\u001b[0;34m)\u001b[0m\u001b[0;34m\u001b[0m\u001b[0;34m\u001b[0m\u001b[0m\n\u001b[0m\u001b[1;32m      2\u001b[0m \u001b[0mwith_lem\u001b[0m\u001b[0;34m\u001b[0m\u001b[0;34m\u001b[0m\u001b[0m\n",
            "\u001b[0;32m/usr/local/lib/python3.11/dist-packages/pandas/core/series.py\u001b[0m in \u001b[0;36mapply\u001b[0;34m(self, func, convert_dtype, args, by_row, **kwargs)\u001b[0m\n\u001b[1;32m   4922\u001b[0m             \u001b[0margs\u001b[0m\u001b[0;34m=\u001b[0m\u001b[0margs\u001b[0m\u001b[0;34m,\u001b[0m\u001b[0;34m\u001b[0m\u001b[0;34m\u001b[0m\u001b[0m\n\u001b[1;32m   4923\u001b[0m             \u001b[0mkwargs\u001b[0m\u001b[0;34m=\u001b[0m\u001b[0mkwargs\u001b[0m\u001b[0;34m,\u001b[0m\u001b[0;34m\u001b[0m\u001b[0;34m\u001b[0m\u001b[0m\n\u001b[0;32m-> 4924\u001b[0;31m         ).apply()\n\u001b[0m\u001b[1;32m   4925\u001b[0m \u001b[0;34m\u001b[0m\u001b[0m\n\u001b[1;32m   4926\u001b[0m     def _reindex_indexer(\n",
            "\u001b[0;32m/usr/local/lib/python3.11/dist-packages/pandas/core/apply.py\u001b[0m in \u001b[0;36mapply\u001b[0;34m(self)\u001b[0m\n\u001b[1;32m   1425\u001b[0m \u001b[0;34m\u001b[0m\u001b[0m\n\u001b[1;32m   1426\u001b[0m         \u001b[0;31m# self.func is Callable\u001b[0m\u001b[0;34m\u001b[0m\u001b[0;34m\u001b[0m\u001b[0m\n\u001b[0;32m-> 1427\u001b[0;31m         \u001b[0;32mreturn\u001b[0m \u001b[0mself\u001b[0m\u001b[0;34m.\u001b[0m\u001b[0mapply_standard\u001b[0m\u001b[0;34m(\u001b[0m\u001b[0;34m)\u001b[0m\u001b[0;34m\u001b[0m\u001b[0;34m\u001b[0m\u001b[0m\n\u001b[0m\u001b[1;32m   1428\u001b[0m \u001b[0;34m\u001b[0m\u001b[0m\n\u001b[1;32m   1429\u001b[0m     \u001b[0;32mdef\u001b[0m \u001b[0magg\u001b[0m\u001b[0;34m(\u001b[0m\u001b[0mself\u001b[0m\u001b[0;34m)\u001b[0m\u001b[0;34m:\u001b[0m\u001b[0;34m\u001b[0m\u001b[0;34m\u001b[0m\u001b[0m\n",
            "\u001b[0;32m/usr/local/lib/python3.11/dist-packages/pandas/core/apply.py\u001b[0m in \u001b[0;36mapply_standard\u001b[0;34m(self)\u001b[0m\n\u001b[1;32m   1505\u001b[0m         \u001b[0;31m#  Categorical (GH51645).\u001b[0m\u001b[0;34m\u001b[0m\u001b[0;34m\u001b[0m\u001b[0m\n\u001b[1;32m   1506\u001b[0m         \u001b[0maction\u001b[0m \u001b[0;34m=\u001b[0m \u001b[0;34m\"ignore\"\u001b[0m \u001b[0;32mif\u001b[0m \u001b[0misinstance\u001b[0m\u001b[0;34m(\u001b[0m\u001b[0mobj\u001b[0m\u001b[0;34m.\u001b[0m\u001b[0mdtype\u001b[0m\u001b[0;34m,\u001b[0m \u001b[0mCategoricalDtype\u001b[0m\u001b[0;34m)\u001b[0m \u001b[0;32melse\u001b[0m \u001b[0;32mNone\u001b[0m\u001b[0;34m\u001b[0m\u001b[0;34m\u001b[0m\u001b[0m\n\u001b[0;32m-> 1507\u001b[0;31m         mapped = obj._map_values(\n\u001b[0m\u001b[1;32m   1508\u001b[0m             \u001b[0mmapper\u001b[0m\u001b[0;34m=\u001b[0m\u001b[0mcurried\u001b[0m\u001b[0;34m,\u001b[0m \u001b[0mna_action\u001b[0m\u001b[0;34m=\u001b[0m\u001b[0maction\u001b[0m\u001b[0;34m,\u001b[0m \u001b[0mconvert\u001b[0m\u001b[0;34m=\u001b[0m\u001b[0mself\u001b[0m\u001b[0;34m.\u001b[0m\u001b[0mconvert_dtype\u001b[0m\u001b[0;34m\u001b[0m\u001b[0;34m\u001b[0m\u001b[0m\n\u001b[1;32m   1509\u001b[0m         )\n",
            "\u001b[0;32m/usr/local/lib/python3.11/dist-packages/pandas/core/base.py\u001b[0m in \u001b[0;36m_map_values\u001b[0;34m(self, mapper, na_action, convert)\u001b[0m\n\u001b[1;32m    919\u001b[0m             \u001b[0;32mreturn\u001b[0m \u001b[0marr\u001b[0m\u001b[0;34m.\u001b[0m\u001b[0mmap\u001b[0m\u001b[0;34m(\u001b[0m\u001b[0mmapper\u001b[0m\u001b[0;34m,\u001b[0m \u001b[0mna_action\u001b[0m\u001b[0;34m=\u001b[0m\u001b[0mna_action\u001b[0m\u001b[0;34m)\u001b[0m\u001b[0;34m\u001b[0m\u001b[0;34m\u001b[0m\u001b[0m\n\u001b[1;32m    920\u001b[0m \u001b[0;34m\u001b[0m\u001b[0m\n\u001b[0;32m--> 921\u001b[0;31m         \u001b[0;32mreturn\u001b[0m \u001b[0malgorithms\u001b[0m\u001b[0;34m.\u001b[0m\u001b[0mmap_array\u001b[0m\u001b[0;34m(\u001b[0m\u001b[0marr\u001b[0m\u001b[0;34m,\u001b[0m \u001b[0mmapper\u001b[0m\u001b[0;34m,\u001b[0m \u001b[0mna_action\u001b[0m\u001b[0;34m=\u001b[0m\u001b[0mna_action\u001b[0m\u001b[0;34m,\u001b[0m \u001b[0mconvert\u001b[0m\u001b[0;34m=\u001b[0m\u001b[0mconvert\u001b[0m\u001b[0;34m)\u001b[0m\u001b[0;34m\u001b[0m\u001b[0;34m\u001b[0m\u001b[0m\n\u001b[0m\u001b[1;32m    922\u001b[0m \u001b[0;34m\u001b[0m\u001b[0m\n\u001b[1;32m    923\u001b[0m     \u001b[0;34m@\u001b[0m\u001b[0mfinal\u001b[0m\u001b[0;34m\u001b[0m\u001b[0;34m\u001b[0m\u001b[0m\n",
            "\u001b[0;32m/usr/local/lib/python3.11/dist-packages/pandas/core/algorithms.py\u001b[0m in \u001b[0;36mmap_array\u001b[0;34m(arr, mapper, na_action, convert)\u001b[0m\n\u001b[1;32m   1741\u001b[0m     \u001b[0mvalues\u001b[0m \u001b[0;34m=\u001b[0m \u001b[0marr\u001b[0m\u001b[0;34m.\u001b[0m\u001b[0mastype\u001b[0m\u001b[0;34m(\u001b[0m\u001b[0mobject\u001b[0m\u001b[0;34m,\u001b[0m \u001b[0mcopy\u001b[0m\u001b[0;34m=\u001b[0m\u001b[0;32mFalse\u001b[0m\u001b[0;34m)\u001b[0m\u001b[0;34m\u001b[0m\u001b[0;34m\u001b[0m\u001b[0m\n\u001b[1;32m   1742\u001b[0m     \u001b[0;32mif\u001b[0m \u001b[0mna_action\u001b[0m \u001b[0;32mis\u001b[0m \u001b[0;32mNone\u001b[0m\u001b[0;34m:\u001b[0m\u001b[0;34m\u001b[0m\u001b[0;34m\u001b[0m\u001b[0m\n\u001b[0;32m-> 1743\u001b[0;31m         \u001b[0;32mreturn\u001b[0m \u001b[0mlib\u001b[0m\u001b[0;34m.\u001b[0m\u001b[0mmap_infer\u001b[0m\u001b[0;34m(\u001b[0m\u001b[0mvalues\u001b[0m\u001b[0;34m,\u001b[0m \u001b[0mmapper\u001b[0m\u001b[0;34m,\u001b[0m \u001b[0mconvert\u001b[0m\u001b[0;34m=\u001b[0m\u001b[0mconvert\u001b[0m\u001b[0;34m)\u001b[0m\u001b[0;34m\u001b[0m\u001b[0;34m\u001b[0m\u001b[0m\n\u001b[0m\u001b[1;32m   1744\u001b[0m     \u001b[0;32melse\u001b[0m\u001b[0;34m:\u001b[0m\u001b[0;34m\u001b[0m\u001b[0;34m\u001b[0m\u001b[0m\n\u001b[1;32m   1745\u001b[0m         return lib.map_infer_mask(\n",
            "\u001b[0;32mlib.pyx\u001b[0m in \u001b[0;36mpandas._libs.lib.map_infer\u001b[0;34m()\u001b[0m\n",
            "\u001b[0;32m<ipython-input-31-4e198d8a3726>\u001b[0m in \u001b[0;36m<lambda>\u001b[0;34m(x)\u001b[0m\n\u001b[0;32m----> 1\u001b[0;31m \u001b[0mwith_lem\u001b[0m \u001b[0;34m=\u001b[0m \u001b[0mwsw\u001b[0m\u001b[0;34m.\u001b[0m\u001b[0mapply\u001b[0m\u001b[0;34m(\u001b[0m\u001b[0;32mlambda\u001b[0m \u001b[0mx\u001b[0m\u001b[0;34m:\u001b[0m \u001b[0;34m[\u001b[0m\u001b[0mget_lem_word\u001b[0m\u001b[0;34m(\u001b[0m\u001b[0mi\u001b[0m\u001b[0;34m)\u001b[0m \u001b[0;32mfor\u001b[0m \u001b[0mi\u001b[0m \u001b[0;32min\u001b[0m \u001b[0mx\u001b[0m\u001b[0;34m]\u001b[0m\u001b[0;34m)\u001b[0m\u001b[0;34m\u001b[0m\u001b[0;34m\u001b[0m\u001b[0m\n\u001b[0m\u001b[1;32m      2\u001b[0m \u001b[0mwith_lem\u001b[0m\u001b[0;34m\u001b[0m\u001b[0;34m\u001b[0m\u001b[0m\n",
            "\u001b[0;32m<ipython-input-31-4e198d8a3726>\u001b[0m in \u001b[0;36m<listcomp>\u001b[0;34m(.0)\u001b[0m\n\u001b[0;32m----> 1\u001b[0;31m \u001b[0mwith_lem\u001b[0m \u001b[0;34m=\u001b[0m \u001b[0mwsw\u001b[0m\u001b[0;34m.\u001b[0m\u001b[0mapply\u001b[0m\u001b[0;34m(\u001b[0m\u001b[0;32mlambda\u001b[0m \u001b[0mx\u001b[0m\u001b[0;34m:\u001b[0m \u001b[0;34m[\u001b[0m\u001b[0mget_lem_word\u001b[0m\u001b[0;34m(\u001b[0m\u001b[0mi\u001b[0m\u001b[0;34m)\u001b[0m \u001b[0;32mfor\u001b[0m \u001b[0mi\u001b[0m \u001b[0;32min\u001b[0m \u001b[0mx\u001b[0m\u001b[0;34m]\u001b[0m\u001b[0;34m)\u001b[0m\u001b[0;34m\u001b[0m\u001b[0;34m\u001b[0m\u001b[0m\n\u001b[0m\u001b[1;32m      2\u001b[0m \u001b[0mwith_lem\u001b[0m\u001b[0;34m\u001b[0m\u001b[0;34m\u001b[0m\u001b[0m\n",
            "\u001b[0;32m<ipython-input-29-d165ae0e4d57>\u001b[0m in \u001b[0;36mget_lem_word\u001b[0;34m(word)\u001b[0m\n\u001b[1;32m      1\u001b[0m \u001b[0;32mdef\u001b[0m \u001b[0mget_lem_word\u001b[0m\u001b[0;34m(\u001b[0m\u001b[0mword\u001b[0m\u001b[0;34m)\u001b[0m\u001b[0;34m:\u001b[0m\u001b[0;34m\u001b[0m\u001b[0;34m\u001b[0m\u001b[0m\n\u001b[1;32m      2\u001b[0m     \u001b[0mwnl\u001b[0m \u001b[0;34m=\u001b[0m \u001b[0mWordNetLemmatizer\u001b[0m\u001b[0;34m(\u001b[0m\u001b[0;34m)\u001b[0m\u001b[0;34m\u001b[0m\u001b[0;34m\u001b[0m\u001b[0m\n\u001b[0;32m----> 3\u001b[0;31m     \u001b[0;32mreturn\u001b[0m \u001b[0mwnl\u001b[0m\u001b[0;34m.\u001b[0m\u001b[0mlemmatize\u001b[0m\u001b[0;34m(\u001b[0m\u001b[0mword\u001b[0m\u001b[0;34m,\u001b[0m \u001b[0mpos\u001b[0m\u001b[0;34m=\u001b[0m\u001b[0;34m\"v\"\u001b[0m\u001b[0;34m)\u001b[0m\u001b[0;34m\u001b[0m\u001b[0;34m\u001b[0m\u001b[0m\n\u001b[0m\u001b[1;32m      4\u001b[0m \u001b[0;32mdef\u001b[0m \u001b[0mget_stm_word\u001b[0m\u001b[0;34m(\u001b[0m\u001b[0mword\u001b[0m\u001b[0;34m)\u001b[0m\u001b[0;34m:\u001b[0m\u001b[0;34m\u001b[0m\u001b[0;34m\u001b[0m\u001b[0m\n\u001b[1;32m      5\u001b[0m     \u001b[0mps\u001b[0m \u001b[0;34m=\u001b[0m \u001b[0mPorterStemmer\u001b[0m\u001b[0;34m(\u001b[0m\u001b[0;34m)\u001b[0m\u001b[0;34m\u001b[0m\u001b[0;34m\u001b[0m\u001b[0m\n",
            "\u001b[0;32m/usr/local/lib/python3.11/dist-packages/nltk/stem/wordnet.py\u001b[0m in \u001b[0;36mlemmatize\u001b[0;34m(self, word, pos)\u001b[0m\n\u001b[1;32m     83\u001b[0m         \u001b[0;34m:\u001b[0m\u001b[0;32mreturn\u001b[0m\u001b[0;34m:\u001b[0m \u001b[0mThe\u001b[0m \u001b[0mshortest\u001b[0m \u001b[0mlemma\u001b[0m \u001b[0mof\u001b[0m\u001b[0;31m \u001b[0m\u001b[0;31m`\u001b[0m\u001b[0mword\u001b[0m\u001b[0;31m`\u001b[0m\u001b[0;34m,\u001b[0m \u001b[0;32mfor\u001b[0m \u001b[0mthe\u001b[0m \u001b[0mgiven\u001b[0m\u001b[0;31m \u001b[0m\u001b[0;31m`\u001b[0m\u001b[0mpos\u001b[0m\u001b[0;31m`\u001b[0m\u001b[0;34m.\u001b[0m\u001b[0;34m\u001b[0m\u001b[0;34m\u001b[0m\u001b[0m\n\u001b[1;32m     84\u001b[0m         \"\"\"\n\u001b[0;32m---> 85\u001b[0;31m         \u001b[0mlemmas\u001b[0m \u001b[0;34m=\u001b[0m \u001b[0mself\u001b[0m\u001b[0;34m.\u001b[0m\u001b[0m_morphy\u001b[0m\u001b[0;34m(\u001b[0m\u001b[0mword\u001b[0m\u001b[0;34m,\u001b[0m \u001b[0mpos\u001b[0m\u001b[0;34m)\u001b[0m\u001b[0;34m\u001b[0m\u001b[0;34m\u001b[0m\u001b[0m\n\u001b[0m\u001b[1;32m     86\u001b[0m         \u001b[0;32mreturn\u001b[0m \u001b[0mmin\u001b[0m\u001b[0;34m(\u001b[0m\u001b[0mlemmas\u001b[0m\u001b[0;34m,\u001b[0m \u001b[0mkey\u001b[0m\u001b[0;34m=\u001b[0m\u001b[0mlen\u001b[0m\u001b[0;34m)\u001b[0m \u001b[0;32mif\u001b[0m \u001b[0mlemmas\u001b[0m \u001b[0;32melse\u001b[0m \u001b[0mword\u001b[0m\u001b[0;34m\u001b[0m\u001b[0;34m\u001b[0m\u001b[0m\n\u001b[1;32m     87\u001b[0m \u001b[0;34m\u001b[0m\u001b[0m\n",
            "\u001b[0;32m/usr/local/lib/python3.11/dist-packages/nltk/stem/wordnet.py\u001b[0m in \u001b[0;36m_morphy\u001b[0;34m(self, form, pos, check_exceptions)\u001b[0m\n\u001b[1;32m     39\u001b[0m         \u001b[0;32mfrom\u001b[0m \u001b[0mnltk\u001b[0m\u001b[0;34m.\u001b[0m\u001b[0mcorpus\u001b[0m \u001b[0;32mimport\u001b[0m \u001b[0mwordnet\u001b[0m \u001b[0;32mas\u001b[0m \u001b[0mwn\u001b[0m\u001b[0;34m\u001b[0m\u001b[0;34m\u001b[0m\u001b[0m\n\u001b[1;32m     40\u001b[0m \u001b[0;34m\u001b[0m\u001b[0m\n\u001b[0;32m---> 41\u001b[0;31m         \u001b[0;32mreturn\u001b[0m \u001b[0mwn\u001b[0m\u001b[0;34m.\u001b[0m\u001b[0m_morphy\u001b[0m\u001b[0;34m(\u001b[0m\u001b[0mform\u001b[0m\u001b[0;34m,\u001b[0m \u001b[0mpos\u001b[0m\u001b[0;34m,\u001b[0m \u001b[0mcheck_exceptions\u001b[0m\u001b[0;34m)\u001b[0m\u001b[0;34m\u001b[0m\u001b[0;34m\u001b[0m\u001b[0m\n\u001b[0m\u001b[1;32m     42\u001b[0m \u001b[0;34m\u001b[0m\u001b[0m\n\u001b[1;32m     43\u001b[0m     \u001b[0;32mdef\u001b[0m \u001b[0mmorphy\u001b[0m\u001b[0;34m(\u001b[0m\u001b[0mself\u001b[0m\u001b[0;34m,\u001b[0m \u001b[0mform\u001b[0m\u001b[0;34m,\u001b[0m \u001b[0mpos\u001b[0m\u001b[0;34m=\u001b[0m\u001b[0;32mNone\u001b[0m\u001b[0;34m,\u001b[0m \u001b[0mcheck_exceptions\u001b[0m\u001b[0;34m=\u001b[0m\u001b[0;32mTrue\u001b[0m\u001b[0;34m)\u001b[0m\u001b[0;34m:\u001b[0m\u001b[0;34m\u001b[0m\u001b[0;34m\u001b[0m\u001b[0m\n",
            "\u001b[0;32m/usr/local/lib/python3.11/dist-packages/nltk/corpus/util.py\u001b[0m in \u001b[0;36m__getattr__\u001b[0;34m(self, attr)\u001b[0m\n\u001b[1;32m    118\u001b[0m             \u001b[0;32mraise\u001b[0m \u001b[0mAttributeError\u001b[0m\u001b[0;34m(\u001b[0m\u001b[0;34m\"LazyCorpusLoader object has no attribute '__bases__'\"\u001b[0m\u001b[0;34m)\u001b[0m\u001b[0;34m\u001b[0m\u001b[0;34m\u001b[0m\u001b[0m\n\u001b[1;32m    119\u001b[0m \u001b[0;34m\u001b[0m\u001b[0m\n\u001b[0;32m--> 120\u001b[0;31m         \u001b[0mself\u001b[0m\u001b[0;34m.\u001b[0m\u001b[0m__load\u001b[0m\u001b[0;34m(\u001b[0m\u001b[0;34m)\u001b[0m\u001b[0;34m\u001b[0m\u001b[0;34m\u001b[0m\u001b[0m\n\u001b[0m\u001b[1;32m    121\u001b[0m         \u001b[0;31m# This looks circular, but its not, since __load() changes our\u001b[0m\u001b[0;34m\u001b[0m\u001b[0;34m\u001b[0m\u001b[0m\n\u001b[1;32m    122\u001b[0m         \u001b[0;31m# __class__ to something new:\u001b[0m\u001b[0;34m\u001b[0m\u001b[0;34m\u001b[0m\u001b[0m\n",
            "\u001b[0;32m/usr/local/lib/python3.11/dist-packages/nltk/corpus/util.py\u001b[0m in \u001b[0;36m__load\u001b[0;34m(self)\u001b[0m\n\u001b[1;32m     84\u001b[0m                     \u001b[0mroot\u001b[0m \u001b[0;34m=\u001b[0m \u001b[0mnltk\u001b[0m\u001b[0;34m.\u001b[0m\u001b[0mdata\u001b[0m\u001b[0;34m.\u001b[0m\u001b[0mfind\u001b[0m\u001b[0;34m(\u001b[0m\u001b[0;34mf\"{self.subdir}/{zip_name}\"\u001b[0m\u001b[0;34m)\u001b[0m\u001b[0;34m\u001b[0m\u001b[0;34m\u001b[0m\u001b[0m\n\u001b[1;32m     85\u001b[0m                 \u001b[0;32mexcept\u001b[0m \u001b[0mLookupError\u001b[0m\u001b[0;34m:\u001b[0m\u001b[0;34m\u001b[0m\u001b[0;34m\u001b[0m\u001b[0m\n\u001b[0;32m---> 86\u001b[0;31m                     \u001b[0;32mraise\u001b[0m \u001b[0me\u001b[0m\u001b[0;34m\u001b[0m\u001b[0;34m\u001b[0m\u001b[0m\n\u001b[0m\u001b[1;32m     87\u001b[0m \u001b[0;34m\u001b[0m\u001b[0m\n\u001b[1;32m     88\u001b[0m         \u001b[0;31m# Load the corpus.\u001b[0m\u001b[0;34m\u001b[0m\u001b[0;34m\u001b[0m\u001b[0m\n",
            "\u001b[0;32m/usr/local/lib/python3.11/dist-packages/nltk/corpus/util.py\u001b[0m in \u001b[0;36m__load\u001b[0;34m(self)\u001b[0m\n\u001b[1;32m     79\u001b[0m         \u001b[0;32melse\u001b[0m\u001b[0;34m:\u001b[0m\u001b[0;34m\u001b[0m\u001b[0;34m\u001b[0m\u001b[0m\n\u001b[1;32m     80\u001b[0m             \u001b[0;32mtry\u001b[0m\u001b[0;34m:\u001b[0m\u001b[0;34m\u001b[0m\u001b[0;34m\u001b[0m\u001b[0m\n\u001b[0;32m---> 81\u001b[0;31m                 \u001b[0mroot\u001b[0m \u001b[0;34m=\u001b[0m \u001b[0mnltk\u001b[0m\u001b[0;34m.\u001b[0m\u001b[0mdata\u001b[0m\u001b[0;34m.\u001b[0m\u001b[0mfind\u001b[0m\u001b[0;34m(\u001b[0m\u001b[0;34mf\"{self.subdir}/{self.__name}\"\u001b[0m\u001b[0;34m)\u001b[0m\u001b[0;34m\u001b[0m\u001b[0;34m\u001b[0m\u001b[0m\n\u001b[0m\u001b[1;32m     82\u001b[0m             \u001b[0;32mexcept\u001b[0m \u001b[0mLookupError\u001b[0m \u001b[0;32mas\u001b[0m \u001b[0me\u001b[0m\u001b[0;34m:\u001b[0m\u001b[0;34m\u001b[0m\u001b[0;34m\u001b[0m\u001b[0m\n\u001b[1;32m     83\u001b[0m                 \u001b[0;32mtry\u001b[0m\u001b[0;34m:\u001b[0m\u001b[0;34m\u001b[0m\u001b[0;34m\u001b[0m\u001b[0m\n",
            "\u001b[0;32m/usr/local/lib/python3.11/dist-packages/nltk/data.py\u001b[0m in \u001b[0;36mfind\u001b[0;34m(resource_name, paths)\u001b[0m\n\u001b[1;32m    577\u001b[0m     \u001b[0msep\u001b[0m \u001b[0;34m=\u001b[0m \u001b[0;34m\"*\"\u001b[0m \u001b[0;34m*\u001b[0m \u001b[0;36m70\u001b[0m\u001b[0;34m\u001b[0m\u001b[0;34m\u001b[0m\u001b[0m\n\u001b[1;32m    578\u001b[0m     \u001b[0mresource_not_found\u001b[0m \u001b[0;34m=\u001b[0m \u001b[0;34mf\"\\n{sep}\\n{msg}\\n{sep}\\n\"\u001b[0m\u001b[0;34m\u001b[0m\u001b[0;34m\u001b[0m\u001b[0m\n\u001b[0;32m--> 579\u001b[0;31m     \u001b[0;32mraise\u001b[0m \u001b[0mLookupError\u001b[0m\u001b[0;34m(\u001b[0m\u001b[0mresource_not_found\u001b[0m\u001b[0;34m)\u001b[0m\u001b[0;34m\u001b[0m\u001b[0;34m\u001b[0m\u001b[0m\n\u001b[0m\u001b[1;32m    580\u001b[0m \u001b[0;34m\u001b[0m\u001b[0m\n\u001b[1;32m    581\u001b[0m \u001b[0;34m\u001b[0m\u001b[0m\n",
            "\u001b[0;31mLookupError\u001b[0m: \n**********************************************************************\n  Resource \u001b[93mwordnet\u001b[0m not found.\n  Please use the NLTK Downloader to obtain the resource:\n\n  \u001b[31m>>> import nltk\n  >>> nltk.download('wordnet')\n  \u001b[0m\n  For more information see: https://www.nltk.org/data.html\n\n  Attempted to load \u001b[93mcorpora/wordnet\u001b[0m\n\n  Searched in:\n    - '/root/nltk_data'\n    - '/usr/nltk_data'\n    - '/usr/share/nltk_data'\n    - '/usr/lib/nltk_data'\n    - '/usr/share/nltk_data'\n    - '/usr/local/share/nltk_data'\n    - '/usr/lib/nltk_data'\n    - '/usr/local/lib/nltk_data'\n**********************************************************************\n"
          ]
        }
      ],
      "execution_count": null
    },
    {
      "cell_type": "code",
      "source": [
        "with_stm = wsw.apply(lambda x: [get_stm_word(i) for i in x])\n",
        "with_stm"
      ],
      "metadata": {
        "id": "0b9f0bd3",
        "trusted": true,
        "execution": {
          "iopub.status.busy": "2025-03-12T07:58:07.442268Z",
          "iopub.status.idle": "2025-03-12T07:58:07.442568Z",
          "shell.execute_reply.started": "2025-03-12T07:58:07.442428Z",
          "shell.execute_reply": "2025-03-12T07:58:07.442442Z"
        }
      },
      "outputs": [],
      "execution_count": null
    },
    {
      "cell_type": "markdown",
      "source": [
        "### train test split"
      ],
      "metadata": {
        "id": "627eda21"
      }
    },
    {
      "cell_type": "code",
      "source": [
        "train_stm, test_stm, y_train_stm, y_test_stm = train_test_split(with_stm, df['case_outcome_num'], test_size=0.1)\n",
        "train_lem, test_lem, y_train_lem, y_test_lem  = train_test_split(with_lem, df['case_outcome_num'], test_size=0.1)"
      ],
      "metadata": {
        "id": "4c4eb7ab",
        "trusted": true,
        "execution": {
          "iopub.status.busy": "2025-03-12T07:58:07.443634Z",
          "iopub.status.idle": "2025-03-12T07:58:07.443939Z",
          "shell.execute_reply.started": "2025-03-12T07:58:07.443804Z",
          "shell.execute_reply": "2025-03-12T07:58:07.443819Z"
        }
      },
      "outputs": [],
      "execution_count": null
    },
    {
      "cell_type": "code",
      "source": [
        "train_stm = train_stm.sort_index().reset_index().drop('index',axis=1)\n",
        "test_stm = test_stm.sort_index().reset_index().drop('index',axis=1)\n",
        "train_lem = train_lem.sort_index().reset_index().drop('index',axis=1)\n",
        "test_lem = test_lem.sort_index().reset_index().drop('index',axis=1)\n",
        "y_train_stm = y_train_stm.sort_index().reset_index().drop('index',axis=1)\n",
        "y_test_stm = y_test_stm.sort_index().reset_index().drop('index',axis=1)\n",
        "y_train_lem = y_train_lem.sort_index().reset_index().drop('index',axis=1)\n",
        "y_test_lem = y_test_lem.sort_index().reset_index().drop('index',axis=1)"
      ],
      "metadata": {
        "id": "LUnLjwu1kqs-",
        "trusted": true,
        "execution": {
          "iopub.status.busy": "2025-03-12T07:58:07.445631Z",
          "iopub.status.idle": "2025-03-12T07:58:07.445932Z",
          "shell.execute_reply.started": "2025-03-12T07:58:07.445797Z",
          "shell.execute_reply": "2025-03-12T07:58:07.445811Z"
        }
      },
      "outputs": [],
      "execution_count": null
    },
    {
      "cell_type": "code",
      "source": [
        "train_stm_ser = train_stm.case_text_sum\n",
        "test_stm_ser = test_stm.case_text_sum\n",
        "train_lem_ser = train_lem.case_text_sum\n",
        "test_lem_ser = test_lem.case_text_sum"
      ],
      "metadata": {
        "id": "TuQtUBz0xx8p",
        "trusted": true,
        "execution": {
          "iopub.status.busy": "2025-03-12T07:58:07.446944Z",
          "iopub.status.idle": "2025-03-12T07:58:07.447197Z",
          "shell.execute_reply.started": "2025-03-12T07:58:07.447075Z",
          "shell.execute_reply": "2025-03-12T07:58:07.447087Z"
        }
      },
      "outputs": [],
      "execution_count": null
    },
    {
      "cell_type": "markdown",
      "source": [
        "## Word embeddings"
      ],
      "metadata": {
        "id": "4539dc58"
      }
    },
    {
      "cell_type": "markdown",
      "source": [
        "### CountVectorizer"
      ],
      "metadata": {
        "id": "89315bd7"
      }
    },
    {
      "cell_type": "markdown",
      "source": [
        "#### stemming"
      ],
      "metadata": {
        "id": "439fd5a6"
      }
    },
    {
      "cell_type": "code",
      "source": [
        "count_vectorizer_stm = CountVectorizer(max_features=2500)\n",
        "count_vectors_stm = count_vectorizer_stm.fit_transform(train_stm_ser.apply(' '.join))"
      ],
      "metadata": {
        "id": "2ae5ce5b",
        "trusted": true,
        "execution": {
          "iopub.status.busy": "2025-03-12T07:58:07.448603Z",
          "iopub.status.idle": "2025-03-12T07:58:07.448902Z",
          "shell.execute_reply.started": "2025-03-12T07:58:07.448761Z",
          "shell.execute_reply": "2025-03-12T07:58:07.448779Z"
        }
      },
      "outputs": [],
      "execution_count": null
    },
    {
      "cell_type": "code",
      "source": [
        "x_train_stm_count_vec = count_vectors_stm.toarray()\n",
        "x_test_stm_count_vec = count_vectorizer_stm.transform(test_stm_ser.apply(' '.join)).toarray()"
      ],
      "metadata": {
        "id": "db16e9e0",
        "trusted": true,
        "execution": {
          "iopub.status.busy": "2025-03-12T07:58:07.449868Z",
          "iopub.status.idle": "2025-03-12T07:58:07.450153Z",
          "shell.execute_reply.started": "2025-03-12T07:58:07.450019Z",
          "shell.execute_reply": "2025-03-12T07:58:07.450033Z"
        }
      },
      "outputs": [],
      "execution_count": null
    },
    {
      "cell_type": "markdown",
      "source": [
        "#### lemmatization"
      ],
      "metadata": {
        "id": "951affc2"
      }
    },
    {
      "cell_type": "code",
      "source": [
        "count_vectorizer_lem = CountVectorizer(max_features=2500)\n",
        "count_vectors_lem = count_vectorizer_lem.fit_transform(train_lem_ser.apply(' '.join))"
      ],
      "metadata": {
        "id": "cc66a804",
        "trusted": true,
        "execution": {
          "iopub.status.busy": "2025-03-12T07:58:07.451574Z",
          "iopub.status.idle": "2025-03-12T07:58:07.451888Z",
          "shell.execute_reply.started": "2025-03-12T07:58:07.451719Z",
          "shell.execute_reply": "2025-03-12T07:58:07.451732Z"
        }
      },
      "outputs": [],
      "execution_count": null
    },
    {
      "cell_type": "code",
      "source": [
        "x_train_lem_count_vec = count_vectors_lem.toarray()\n",
        "x_test_lem_count_vec = count_vectorizer_lem.transform(test_lem_ser.apply(' '.join)).toarray()"
      ],
      "metadata": {
        "id": "464306c0",
        "trusted": true,
        "execution": {
          "iopub.status.busy": "2025-03-12T07:58:07.452773Z",
          "iopub.status.idle": "2025-03-12T07:58:07.453065Z",
          "shell.execute_reply.started": "2025-03-12T07:58:07.452924Z",
          "shell.execute_reply": "2025-03-12T07:58:07.452938Z"
        }
      },
      "outputs": [],
      "execution_count": null
    },
    {
      "cell_type": "markdown",
      "source": [
        "### TF-IDF"
      ],
      "metadata": {
        "id": "020b4678"
      }
    },
    {
      "cell_type": "markdown",
      "source": [
        "#### stemming"
      ],
      "metadata": {
        "id": "6e784f0d"
      }
    },
    {
      "cell_type": "code",
      "source": [
        "tf_idf_vectorizer_stm = TfidfVectorizer(max_features=2500)\n",
        "tf_idf_vectors_stm = tf_idf_vectorizer_stm.fit_transform(train_stm_ser.apply(' '.join))\n",
        "tf_idf_vectors_stm.shape"
      ],
      "metadata": {
        "id": "893465a7",
        "trusted": true,
        "execution": {
          "iopub.status.busy": "2025-03-12T07:58:07.454095Z",
          "iopub.status.idle": "2025-03-12T07:58:07.454378Z",
          "shell.execute_reply.started": "2025-03-12T07:58:07.454244Z",
          "shell.execute_reply": "2025-03-12T07:58:07.454258Z"
        }
      },
      "outputs": [],
      "execution_count": null
    },
    {
      "cell_type": "code",
      "source": [
        "tf_idf_vectorizer_stm.get_feature_names_out()"
      ],
      "metadata": {
        "id": "02643170",
        "trusted": true,
        "execution": {
          "iopub.status.busy": "2025-03-12T07:58:07.455211Z",
          "iopub.status.idle": "2025-03-12T07:58:07.45552Z",
          "shell.execute_reply.started": "2025-03-12T07:58:07.455362Z",
          "shell.execute_reply": "2025-03-12T07:58:07.455376Z"
        }
      },
      "outputs": [],
      "execution_count": null
    },
    {
      "cell_type": "code",
      "source": [
        "x_train_stm_tf_idf = (tf_idf_vectors_stm.toarray() * 100).astype('int64')\n",
        "x_test_stm_tf_idf = (tf_idf_vectorizer_stm.transform(test_stm.case_text_sum.apply(' '.join)).toarray()* 100).astype('int64')"
      ],
      "metadata": {
        "id": "293fd073",
        "trusted": true,
        "execution": {
          "iopub.status.busy": "2025-03-12T07:58:07.456799Z",
          "iopub.status.idle": "2025-03-12T07:58:07.457087Z",
          "shell.execute_reply.started": "2025-03-12T07:58:07.456951Z",
          "shell.execute_reply": "2025-03-12T07:58:07.456964Z"
        }
      },
      "outputs": [],
      "execution_count": null
    },
    {
      "cell_type": "markdown",
      "source": [
        "Для демонстрации изменений"
      ],
      "metadata": {
        "id": "Dg9qyJz6Xxvf"
      }
    },
    {
      "cell_type": "code",
      "source": [
        "x_train_stm_tf_idf_ = tf_idf_vectors_stm.toarray()\n",
        "x_test_stm_tf_idf_ = tf_idf_vectorizer_stm.transform(test_stm.case_text_sum.apply(' '.join)).toarray()"
      ],
      "metadata": {
        "trusted": true,
        "execution": {
          "iopub.status.busy": "2025-03-12T07:58:07.458856Z",
          "iopub.status.idle": "2025-03-12T07:58:07.459152Z",
          "shell.execute_reply.started": "2025-03-12T07:58:07.459007Z",
          "shell.execute_reply": "2025-03-12T07:58:07.459025Z"
        },
        "id": "CXywc5mWXxvf"
      },
      "outputs": [],
      "execution_count": null
    },
    {
      "cell_type": "markdown",
      "source": [
        "#### lemmatization"
      ],
      "metadata": {
        "id": "bf33fb68"
      }
    },
    {
      "cell_type": "code",
      "source": [
        "tf_idf_vectorizer_lem = TfidfVectorizer(max_features=2500)\n",
        "tf_idf_vectors_lem = tf_idf_vectorizer_lem.fit_transform(train_lem_ser.apply(' '.join))\n",
        "tf_idf_vectors_lem.shape"
      ],
      "metadata": {
        "id": "17f064aa",
        "trusted": true,
        "execution": {
          "iopub.status.busy": "2025-03-12T07:58:07.460603Z",
          "iopub.status.idle": "2025-03-12T07:58:07.460901Z",
          "shell.execute_reply.started": "2025-03-12T07:58:07.460735Z",
          "shell.execute_reply": "2025-03-12T07:58:07.460774Z"
        }
      },
      "outputs": [],
      "execution_count": null
    },
    {
      "cell_type": "code",
      "source": [
        "tf_idf_vectorizer_lem.get_feature_names_out()"
      ],
      "metadata": {
        "id": "e94ac019",
        "trusted": true,
        "execution": {
          "iopub.status.busy": "2025-03-12T07:58:07.462074Z",
          "iopub.status.idle": "2025-03-12T07:58:07.462361Z",
          "shell.execute_reply.started": "2025-03-12T07:58:07.46222Z",
          "shell.execute_reply": "2025-03-12T07:58:07.46224Z"
        }
      },
      "outputs": [],
      "execution_count": null
    },
    {
      "cell_type": "code",
      "source": [
        "x_train_lem_tf_idf = (tf_idf_vectors_lem.toarray()* 100).astype('int64')\n",
        "x_test_lem_tf_idf = (tf_idf_vectorizer_lem.transform(test_lem_ser.apply(' '.join)).toarray()* 100).astype('int64')"
      ],
      "metadata": {
        "id": "729e0370",
        "trusted": true,
        "execution": {
          "iopub.status.busy": "2025-03-12T07:58:07.46361Z",
          "iopub.status.idle": "2025-03-12T07:58:07.463906Z",
          "shell.execute_reply.started": "2025-03-12T07:58:07.463762Z",
          "shell.execute_reply": "2025-03-12T07:58:07.463784Z"
        }
      },
      "outputs": [],
      "execution_count": null
    },
    {
      "cell_type": "markdown",
      "source": [
        "Для демонстрации изменений"
      ],
      "metadata": {
        "id": "7xULTDw8Xxvf"
      }
    },
    {
      "cell_type": "code",
      "source": [
        "x_train_lem_tf_idf_ = tf_idf_vectors_lem.toarray()\n",
        "x_test_lem_tf_idf_ = tf_idf_vectorizer_lem.transform(test_lem_ser.apply(' '.join)).toarray()"
      ],
      "metadata": {
        "trusted": true,
        "execution": {
          "iopub.status.busy": "2025-03-12T07:58:07.465412Z",
          "iopub.status.idle": "2025-03-12T07:58:07.46567Z",
          "shell.execute_reply.started": "2025-03-12T07:58:07.465546Z",
          "shell.execute_reply": "2025-03-12T07:58:07.465558Z"
        },
        "id": "-DEcF7k_Xxvf"
      },
      "outputs": [],
      "execution_count": null
    },
    {
      "cell_type": "markdown",
      "source": [
        "### Word2Vec"
      ],
      "metadata": {
        "id": "5ba0b6b1"
      }
    },
    {
      "cell_type": "code",
      "source": [
        "size_len_ = 1000"
      ],
      "metadata": {
        "trusted": true,
        "execution": {
          "iopub.status.busy": "2025-03-12T07:58:07.466805Z",
          "iopub.status.idle": "2025-03-12T07:58:07.467222Z",
          "shell.execute_reply.started": "2025-03-12T07:58:07.467063Z",
          "shell.execute_reply": "2025-03-12T07:58:07.467079Z"
        },
        "id": "ZouwNBTwXxvf"
      },
      "outputs": [],
      "execution_count": null
    },
    {
      "cell_type": "code",
      "source": [
        "def word_vector(model,tokens, size):\n",
        "    vec = np.zeros(size).reshape((1, size))\n",
        "    count = 0\n",
        "\n",
        "    for word in tokens:\n",
        "        try:\n",
        "            vec += model.wv[word].reshape((1, size))\n",
        "            count += 1\n",
        "        except KeyError:\n",
        "            continue\n",
        "\n",
        "    if count != 0:\n",
        "        vec /= count\n",
        "\n",
        "    return vec"
      ],
      "metadata": {
        "id": "3af5f6fe",
        "trusted": true,
        "execution": {
          "iopub.status.busy": "2025-03-12T07:58:07.468672Z",
          "iopub.status.idle": "2025-03-12T07:58:07.468968Z",
          "shell.execute_reply.started": "2025-03-12T07:58:07.468834Z",
          "shell.execute_reply": "2025-03-12T07:58:07.468848Z"
        }
      },
      "outputs": [],
      "execution_count": null
    },
    {
      "cell_type": "markdown",
      "source": [
        "#### stemming"
      ],
      "metadata": {
        "id": "d0acded4"
      }
    },
    {
      "cell_type": "code",
      "source": [
        "w2v_model_stm = Word2Vec(train_stm_ser\n",
        "                     , vector_size=size_len_\n",
        "                     , min_count=3\n",
        "                     , workers=4)\n",
        "w2v_model_stm.build_vocab(train_stm_ser)\n",
        "w2v_model_stm.train(train_stm_ser\n",
        "                , total_examples= w2v_model_stm.corpus_count\n",
        "                , epochs=w2v_model_stm.epochs)"
      ],
      "metadata": {
        "id": "9089c885",
        "trusted": true,
        "execution": {
          "iopub.status.busy": "2025-03-12T07:58:07.469761Z",
          "iopub.status.idle": "2025-03-12T07:58:07.470036Z",
          "shell.execute_reply.started": "2025-03-12T07:58:07.469902Z",
          "shell.execute_reply": "2025-03-12T07:58:07.469914Z"
        }
      },
      "outputs": [],
      "execution_count": null
    },
    {
      "cell_type": "code",
      "source": [
        "w2v_model_stm.wv.key_to_index['week']"
      ],
      "metadata": {
        "trusted": true,
        "execution": {
          "iopub.status.busy": "2025-03-12T07:58:07.471362Z",
          "iopub.status.idle": "2025-03-12T07:58:07.471617Z",
          "shell.execute_reply.started": "2025-03-12T07:58:07.471495Z",
          "shell.execute_reply": "2025-03-12T07:58:07.471507Z"
        },
        "id": "v3CWTyT-Xxvg"
      },
      "outputs": [],
      "execution_count": null
    },
    {
      "cell_type": "code",
      "source": [
        "w2v_model_stm.wv.vectors.shape"
      ],
      "metadata": {
        "id": "12525a8b",
        "trusted": true,
        "execution": {
          "iopub.status.busy": "2025-03-12T07:58:07.473393Z",
          "iopub.status.idle": "2025-03-12T07:58:07.47365Z",
          "shell.execute_reply.started": "2025-03-12T07:58:07.473527Z",
          "shell.execute_reply": "2025-03-12T07:58:07.473539Z"
        }
      },
      "outputs": [],
      "execution_count": null
    },
    {
      "cell_type": "code",
      "source": [
        "w2v_model_stm.wv.most_similar(positive='world', topn=7)"
      ],
      "metadata": {
        "id": "52e37f7a",
        "trusted": true,
        "execution": {
          "iopub.status.busy": "2025-03-12T07:58:07.475632Z",
          "iopub.status.idle": "2025-03-12T07:58:07.475959Z",
          "shell.execute_reply.started": "2025-03-12T07:58:07.475805Z",
          "shell.execute_reply": "2025-03-12T07:58:07.47582Z"
        }
      },
      "outputs": [],
      "execution_count": null
    },
    {
      "cell_type": "code",
      "source": [
        "train_stm_word_vec = np.zeros((len(train_stm_ser), size_len_))\n",
        "test_stm_word_vec = np.zeros((len(test_stm_ser), size_len_))\n",
        "for i in range(len(train_stm_ser)):\n",
        "    train_stm_word_vec[i,:] = word_vector(w2v_model_stm,train_stm_ser[i], size_len_)\n",
        "for i in range(len(test_stm_ser)):\n",
        "    test_stm_word_vec[i,:] = word_vector(w2v_model_stm,test_stm_ser[i], size_len_)\n",
        "train_stm_word_vec = (train_stm_word_vec*100).astype('int64')\n",
        "test_stm_word_vec = (test_stm_word_vec*100).astype('int64')\n",
        "print(train_stm_word_vec.shape)\n",
        "print(test_stm_word_vec.shape)"
      ],
      "metadata": {
        "id": "360dbec7",
        "trusted": true,
        "execution": {
          "iopub.status.busy": "2025-03-12T07:58:07.476789Z",
          "iopub.status.idle": "2025-03-12T07:58:07.477078Z",
          "shell.execute_reply.started": "2025-03-12T07:58:07.476937Z",
          "shell.execute_reply": "2025-03-12T07:58:07.476951Z"
        }
      },
      "outputs": [],
      "execution_count": null
    },
    {
      "cell_type": "markdown",
      "source": [
        "#### lemmatization"
      ],
      "metadata": {
        "id": "ac938c99"
      }
    },
    {
      "cell_type": "code",
      "source": [
        "w2v_model_lem = Word2Vec(train_lem_ser\n",
        "                     , vector_size=1000\n",
        "                     , min_count=3\n",
        "                     , workers=4)\n",
        "w2v_model_lem.build_vocab(train_lem_ser)"
      ],
      "metadata": {
        "trusted": true,
        "execution": {
          "iopub.status.busy": "2025-03-12T07:58:07.478121Z",
          "iopub.status.idle": "2025-03-12T07:58:07.478385Z",
          "shell.execute_reply.started": "2025-03-12T07:58:07.47826Z",
          "shell.execute_reply": "2025-03-12T07:58:07.478272Z"
        },
        "id": "6jSOJBXwXxvh"
      },
      "outputs": [],
      "execution_count": null
    },
    {
      "cell_type": "code",
      "source": [
        "w2v_model_lem.train(train_lem_ser\n",
        "                , total_examples= w2v_model_lem.corpus_count\n",
        "                , epochs=w2v_model_lem.epochs)"
      ],
      "metadata": {
        "id": "7fa7d0ec",
        "trusted": true,
        "execution": {
          "iopub.status.busy": "2025-03-12T07:58:07.479164Z",
          "iopub.status.idle": "2025-03-12T07:58:07.479451Z",
          "shell.execute_reply.started": "2025-03-12T07:58:07.479317Z",
          "shell.execute_reply": "2025-03-12T07:58:07.479331Z"
        }
      },
      "outputs": [],
      "execution_count": null
    },
    {
      "cell_type": "code",
      "source": [
        "w2v_model_lem.wv.vectors.shape"
      ],
      "metadata": {
        "trusted": true,
        "execution": {
          "iopub.status.busy": "2025-03-12T07:58:07.480563Z",
          "iopub.status.idle": "2025-03-12T07:58:07.481001Z",
          "shell.execute_reply.started": "2025-03-12T07:58:07.48078Z",
          "shell.execute_reply": "2025-03-12T07:58:07.480801Z"
        },
        "id": "T9BugSFOXxvh"
      },
      "outputs": [],
      "execution_count": null
    },
    {
      "cell_type": "code",
      "source": [
        "w2v_model_lem.wv.most_similar(positive='world', topn=7)"
      ],
      "metadata": {
        "trusted": true,
        "execution": {
          "iopub.status.busy": "2025-03-12T07:58:07.482446Z",
          "iopub.status.idle": "2025-03-12T07:58:07.482876Z",
          "shell.execute_reply.started": "2025-03-12T07:58:07.48264Z",
          "shell.execute_reply": "2025-03-12T07:58:07.482659Z"
        },
        "id": "D19qXwwhXxvh"
      },
      "outputs": [],
      "execution_count": null
    },
    {
      "cell_type": "code",
      "source": [
        "train_lem_word_vec = np.zeros((len(train_lem_ser), 1000))\n",
        "test_lem_word_vec = np.zeros((len(test_lem_ser), 1000))\n",
        "for i in range(len(train_lem_ser)):\n",
        "    train_lem_word_vec[i,:] = word_vector(w2v_model_lem,train_lem_ser[i], 1000)\n",
        "for i in range(len(test_lem_ser)):\n",
        "    test_lem_word_vec[i,:] = word_vector(w2v_model_lem,test_lem_ser[i], 1000)\n",
        "train_lem_word_vec = (train_lem_word_vec * 100).astype('int64')\n",
        "test_lem_word_vec = (test_lem_word_vec*100).astype('int64')\n",
        "print(train_lem_word_vec.shape)\n",
        "print(test_lem_word_vec.shape)"
      ],
      "metadata": {
        "trusted": true,
        "execution": {
          "iopub.status.busy": "2025-03-12T07:58:07.484447Z",
          "iopub.status.idle": "2025-03-12T07:58:07.484873Z",
          "shell.execute_reply.started": "2025-03-12T07:58:07.484641Z",
          "shell.execute_reply": "2025-03-12T07:58:07.484661Z"
        },
        "id": "MHcqaOR1Xxvh"
      },
      "outputs": [],
      "execution_count": null
    },
    {
      "cell_type": "markdown",
      "source": [
        "### FastText"
      ],
      "metadata": {
        "id": "aysZbGdBXxvh"
      }
    },
    {
      "cell_type": "markdown",
      "source": [
        "min_count (int, optional) – The model ignores all words with total frequency lower than this.\n",
        "\n",
        "vector_size (int, optional) – Dimensionality of the word vectors.\n",
        "\n",
        "window (int, optional) – The maximum distance between the current and predicted word within a sentence."
      ],
      "metadata": {
        "id": "zFR7xkVaXxvh"
      }
    },
    {
      "cell_type": "markdown",
      "source": [
        "#### stemming"
      ],
      "metadata": {
        "id": "F5mg7HVwXxvh"
      }
    },
    {
      "cell_type": "code",
      "source": [
        "ft_model_stm = FastText(vector_size=500, window=3, min_count=2)\n",
        "ft_model_stm.build_vocab(train_stm_ser)\n",
        "ft_model_stm.train(train_stm_ser\n",
        "                   ,total_examples=len(train_stm_ser)\n",
        "                   ,epochs=10)"
      ],
      "metadata": {
        "trusted": true,
        "execution": {
          "iopub.status.busy": "2025-03-12T07:58:07.485876Z",
          "iopub.status.idle": "2025-03-12T07:58:07.486279Z",
          "shell.execute_reply.started": "2025-03-12T07:58:07.486075Z",
          "shell.execute_reply": "2025-03-12T07:58:07.486095Z"
        },
        "id": "DW0Qnj2QXxvh"
      },
      "outputs": [],
      "execution_count": null
    },
    {
      "cell_type": "code",
      "source": [
        "ft_model_stm.wv['world']"
      ],
      "metadata": {
        "scrolled": true,
        "trusted": true,
        "execution": {
          "iopub.status.busy": "2025-03-12T07:58:07.490237Z",
          "iopub.status.idle": "2025-03-12T07:58:07.490979Z",
          "shell.execute_reply.started": "2025-03-12T07:58:07.490719Z",
          "shell.execute_reply": "2025-03-12T07:58:07.490757Z"
        },
        "id": "zumM8jFIXxvi"
      },
      "outputs": [],
      "execution_count": null
    },
    {
      "cell_type": "code",
      "source": [
        "ft_model_stm.wv.most_similar(positive='piece', topn=7)"
      ],
      "metadata": {
        "trusted": true,
        "execution": {
          "iopub.status.busy": "2025-03-12T07:58:07.491857Z",
          "iopub.status.idle": "2025-03-12T07:58:07.492271Z",
          "shell.execute_reply.started": "2025-03-12T07:58:07.492063Z",
          "shell.execute_reply": "2025-03-12T07:58:07.492083Z"
        },
        "id": "yDWb4oHNXxvi"
      },
      "outputs": [],
      "execution_count": null
    },
    {
      "cell_type": "code",
      "source": [
        "train_stm_ft = np.zeros((len(train_stm_ser), 500))\n",
        "test_stm_ft = np.zeros((len(test_stm_ser), 500))\n",
        "for i in range(len(train_stm_ser)):\n",
        "    train_stm_ft[i,:] = word_vector(ft_model_stm,train_stm_ser[i], 500)\n",
        "for i in range(len(test_stm_ser)):\n",
        "    test_stm_ft[i,:] = word_vector(ft_model_stm,test_stm_ser[i], 500)\n",
        "train_stm_ft = (train_stm_ft*100).astype('int64')\n",
        "test_stm_ft = (test_stm_ft*100).astype('int64')\n",
        "print(train_stm_ft.shape)\n",
        "print(test_stm_ft.shape)"
      ],
      "metadata": {
        "trusted": true,
        "execution": {
          "iopub.status.busy": "2025-03-12T07:58:07.493523Z",
          "iopub.status.idle": "2025-03-12T07:58:07.493957Z",
          "shell.execute_reply.started": "2025-03-12T07:58:07.493717Z",
          "shell.execute_reply": "2025-03-12T07:58:07.493736Z"
        },
        "id": "J0fWWdEZXxvi"
      },
      "outputs": [],
      "execution_count": null
    },
    {
      "cell_type": "markdown",
      "source": [
        "#### lemmatization"
      ],
      "metadata": {
        "id": "JSs74cp6Xxvi"
      }
    },
    {
      "cell_type": "code",
      "source": [
        "ft_model_lem = FastText(vector_size=500, window=3, min_count=2)\n",
        "ft_model_lem.build_vocab(train_lem_ser)\n",
        "ft_model_lem.train(train_lem_ser\n",
        "                   ,total_examples=len(train_lem_ser)\n",
        "                   ,epochs=10)"
      ],
      "metadata": {
        "trusted": true,
        "execution": {
          "iopub.status.busy": "2025-03-12T07:58:07.495219Z",
          "iopub.status.idle": "2025-03-12T07:58:07.495624Z",
          "shell.execute_reply.started": "2025-03-12T07:58:07.495417Z",
          "shell.execute_reply": "2025-03-12T07:58:07.495436Z"
        },
        "id": "Y9T-CHlaXxvi"
      },
      "outputs": [],
      "execution_count": null
    },
    {
      "cell_type": "code",
      "source": [
        "ft_model_lem.wv['world']"
      ],
      "metadata": {
        "trusted": true,
        "execution": {
          "iopub.status.busy": "2025-03-12T07:58:07.497138Z",
          "iopub.status.idle": "2025-03-12T07:58:07.497575Z",
          "shell.execute_reply.started": "2025-03-12T07:58:07.49735Z",
          "shell.execute_reply": "2025-03-12T07:58:07.497372Z"
        },
        "id": "pi1pNqYqXxvi"
      },
      "outputs": [],
      "execution_count": null
    },
    {
      "cell_type": "code",
      "source": [
        "ft_model_lem.wv.most_similar(positive='piece', topn=7)"
      ],
      "metadata": {
        "trusted": true,
        "execution": {
          "iopub.status.busy": "2025-03-12T07:58:07.498492Z",
          "iopub.status.idle": "2025-03-12T07:58:07.498922Z",
          "shell.execute_reply.started": "2025-03-12T07:58:07.498685Z",
          "shell.execute_reply": "2025-03-12T07:58:07.498704Z"
        },
        "id": "v6MksDf0Xxvi"
      },
      "outputs": [],
      "execution_count": null
    },
    {
      "cell_type": "code",
      "source": [
        "train_lem_ft = np.zeros((len(train_lem_ser), 500))\n",
        "test_lem_ft = np.zeros((len(test_lem_ser), 500))\n",
        "for i in range(len(train_lem_ser)):\n",
        "    train_lem_ft[i,:] = word_vector(ft_model_lem,train_lem_ser[i], 500)\n",
        "for i in range(len(test_lem_ser)):\n",
        "    test_lem_ft[i,:] = word_vector(ft_model_lem,test_lem_ser[i], 500)\n",
        "train_lem_ft = (train_lem_ft*100).astype('int64')\n",
        "test_lem_ft = (test_lem_ft*100).astype('int64')\n",
        "print(train_lem_ft.shape)\n",
        "print(test_lem_ft.shape)"
      ],
      "metadata": {
        "trusted": true,
        "execution": {
          "iopub.status.busy": "2025-03-12T07:58:07.500551Z",
          "iopub.status.idle": "2025-03-12T07:58:07.501009Z",
          "shell.execute_reply.started": "2025-03-12T07:58:07.500782Z",
          "shell.execute_reply": "2025-03-12T07:58:07.500803Z"
        },
        "id": "tSwHyWpXXxvi"
      },
      "outputs": [],
      "execution_count": null
    },
    {
      "cell_type": "markdown",
      "source": [
        "## Logistic Regression"
      ],
      "metadata": {
        "id": "109d7568"
      }
    },
    {
      "cell_type": "code",
      "source": [
        "def compute_metrics(y_test, pred, first_lines=None):\n",
        "    if first_lines != None:\n",
        "        for i in range(first_lines):\n",
        "            print(\"\\n\" + first_line)\n",
        "    print(f\"Accuracy: {round(accuracy_score(y_test, pred)*100, 3)}%\")\n",
        "    print(f\"F1 score: {round(f1_score(y_test, pred, average='macro')*100, 3)}%\")"
      ],
      "metadata": {
        "trusted": true,
        "execution": {
          "iopub.status.busy": "2025-03-12T07:58:07.502162Z",
          "iopub.status.idle": "2025-03-12T07:58:07.502422Z",
          "shell.execute_reply.started": "2025-03-12T07:58:07.502299Z",
          "shell.execute_reply": "2025-03-12T07:58:07.502311Z"
        },
        "id": "ZtxWUWSBXxvj"
      },
      "outputs": [],
      "execution_count": null
    },
    {
      "cell_type": "markdown",
      "source": [
        "### Count vectorizer with stemming"
      ],
      "metadata": {
        "id": "pSdYInMaXxvj"
      }
    },
    {
      "cell_type": "code",
      "source": [
        "lr_model_stm_count_vec = LogisticRegression()\n",
        "lr_model_stm_count_vec.fit(x_train_stm_count_vec, y_train_stm)"
      ],
      "metadata": {
        "trusted": true,
        "execution": {
          "iopub.status.busy": "2025-03-12T07:58:07.503785Z",
          "iopub.status.idle": "2025-03-12T07:58:07.504086Z",
          "shell.execute_reply.started": "2025-03-12T07:58:07.503942Z",
          "shell.execute_reply": "2025-03-12T07:58:07.503955Z"
        },
        "id": "bt6c7GsVXxvj"
      },
      "outputs": [],
      "execution_count": null
    },
    {
      "cell_type": "code",
      "source": [
        "lr_pred_stm_count_vec_ = lr_model_stm_count_vec.predict(x_train_stm_count_vec)\n",
        "sns.heatmap(confusion_matrix(y_train_stm, lr_pred_stm_count_vec_)\n",
        "            , cmap='YlGnBu', linewidths=1, annot=True\n",
        "            , square=True, fmt='d', cbar=False)"
      ],
      "metadata": {
        "trusted": true,
        "execution": {
          "iopub.status.busy": "2025-03-12T07:58:07.505215Z",
          "iopub.status.idle": "2025-03-12T07:58:07.505469Z",
          "shell.execute_reply.started": "2025-03-12T07:58:07.505345Z",
          "shell.execute_reply": "2025-03-12T07:58:07.505356Z"
        },
        "id": "CbSXKk-CXxvj"
      },
      "outputs": [],
      "execution_count": null
    },
    {
      "cell_type": "code",
      "source": [
        "compute_metrics(y_train_stm, lr_pred_stm_count_vec_)"
      ],
      "metadata": {
        "trusted": true,
        "execution": {
          "iopub.status.busy": "2025-03-12T07:58:07.506395Z",
          "iopub.status.idle": "2025-03-12T07:58:07.506644Z",
          "shell.execute_reply.started": "2025-03-12T07:58:07.506522Z",
          "shell.execute_reply": "2025-03-12T07:58:07.506534Z"
        },
        "id": "sn4SFpltXxvj"
      },
      "outputs": [],
      "execution_count": null
    },
    {
      "cell_type": "code",
      "source": [
        "lr_pred_stm_count_vec = lr_model_stm_count_vec.predict(x_test_stm_count_vec)"
      ],
      "metadata": {
        "trusted": true,
        "execution": {
          "iopub.status.busy": "2025-03-12T07:58:07.507992Z",
          "iopub.status.idle": "2025-03-12T07:58:07.508274Z",
          "shell.execute_reply.started": "2025-03-12T07:58:07.508141Z",
          "shell.execute_reply": "2025-03-12T07:58:07.508154Z"
        },
        "id": "tmxNMBMJXxvj"
      },
      "outputs": [],
      "execution_count": null
    },
    {
      "cell_type": "code",
      "source": [
        "sns.heatmap(confusion_matrix(y_test_stm, lr_pred_stm_count_vec)\n",
        "            , cmap='YlGnBu', linewidths=1, annot=True\n",
        "            , square=True, fmt='d', cbar=False)"
      ],
      "metadata": {
        "trusted": true,
        "execution": {
          "iopub.status.busy": "2025-03-12T07:58:07.509471Z",
          "iopub.status.idle": "2025-03-12T07:58:07.509726Z",
          "shell.execute_reply.started": "2025-03-12T07:58:07.5096Z",
          "shell.execute_reply": "2025-03-12T07:58:07.509612Z"
        },
        "id": "l9Prth_1Xxvj"
      },
      "outputs": [],
      "execution_count": null
    },
    {
      "cell_type": "code",
      "source": [
        "compute_metrics(y_test_stm, lr_pred_stm_count_vec)"
      ],
      "metadata": {
        "trusted": true,
        "execution": {
          "iopub.status.busy": "2025-03-12T07:58:07.510559Z",
          "iopub.status.idle": "2025-03-12T07:58:07.510881Z",
          "shell.execute_reply.started": "2025-03-12T07:58:07.510713Z",
          "shell.execute_reply": "2025-03-12T07:58:07.510727Z"
        },
        "id": "O9IFLl6qXxvj"
      },
      "outputs": [],
      "execution_count": null
    },
    {
      "cell_type": "markdown",
      "source": [
        "### Count vectorizer with lemmatization"
      ],
      "metadata": {
        "id": "2psPzDNnXxvj"
      }
    },
    {
      "cell_type": "code",
      "source": [
        "lr_model_lem_count_vec = LogisticRegression()\n",
        "lr_model_lem_count_vec.fit(x_train_lem_count_vec, y_train_lem)"
      ],
      "metadata": {
        "trusted": true,
        "execution": {
          "iopub.status.busy": "2025-03-12T07:58:07.512548Z",
          "iopub.status.idle": "2025-03-12T07:58:07.51297Z",
          "shell.execute_reply.started": "2025-03-12T07:58:07.51276Z",
          "shell.execute_reply": "2025-03-12T07:58:07.512781Z"
        },
        "id": "zGTboIeeXxvj"
      },
      "outputs": [],
      "execution_count": null
    },
    {
      "cell_type": "code",
      "source": [
        "lr_pred_lem_count_vec_ = lr_model_lem_count_vec.predict(x_train_lem_count_vec)\n",
        "sns.heatmap(confusion_matrix(y_train_lem, lr_pred_lem_count_vec_)\n",
        "            , cmap='YlGnBu', linewidths=1, annot=True\n",
        "            , square=True, fmt='d', cbar=False)"
      ],
      "metadata": {
        "trusted": true,
        "execution": {
          "iopub.status.busy": "2025-03-12T07:58:07.514584Z",
          "iopub.status.idle": "2025-03-12T07:58:07.515007Z",
          "shell.execute_reply.started": "2025-03-12T07:58:07.514794Z",
          "shell.execute_reply": "2025-03-12T07:58:07.514814Z"
        },
        "id": "5Hi74PbuXxvk"
      },
      "outputs": [],
      "execution_count": null
    },
    {
      "cell_type": "code",
      "source": [
        "compute_metrics(y_train_lem, lr_pred_lem_count_vec_)"
      ],
      "metadata": {
        "trusted": true,
        "execution": {
          "iopub.status.busy": "2025-03-12T07:58:07.5163Z",
          "iopub.status.idle": "2025-03-12T07:58:07.516699Z",
          "shell.execute_reply.started": "2025-03-12T07:58:07.516494Z",
          "shell.execute_reply": "2025-03-12T07:58:07.516513Z"
        },
        "id": "_1J_1DjsXxvk"
      },
      "outputs": [],
      "execution_count": null
    },
    {
      "cell_type": "code",
      "source": [
        "lr_pred_lem_count_vec = lr_model_lem_count_vec.predict(x_test_lem_count_vec)"
      ],
      "metadata": {
        "trusted": true,
        "execution": {
          "iopub.status.busy": "2025-03-12T07:58:07.51785Z",
          "iopub.status.idle": "2025-03-12T07:58:07.51835Z",
          "shell.execute_reply.started": "2025-03-12T07:58:07.518071Z",
          "shell.execute_reply": "2025-03-12T07:58:07.518093Z"
        },
        "id": "ToASJkC0Xxvk"
      },
      "outputs": [],
      "execution_count": null
    },
    {
      "cell_type": "code",
      "source": [
        "sns.heatmap(confusion_matrix(y_test_lem, lr_pred_lem_count_vec)\n",
        "            , cmap='YlGnBu', linewidths=1, annot=True\n",
        "            , square=True, fmt='d', cbar=False)"
      ],
      "metadata": {
        "trusted": true,
        "execution": {
          "iopub.status.busy": "2025-03-12T07:58:07.519907Z",
          "iopub.status.idle": "2025-03-12T07:58:07.520323Z",
          "shell.execute_reply.started": "2025-03-12T07:58:07.520101Z",
          "shell.execute_reply": "2025-03-12T07:58:07.520122Z"
        },
        "id": "JR6ogTarXxvk"
      },
      "outputs": [],
      "execution_count": null
    },
    {
      "cell_type": "code",
      "source": [
        "compute_metrics(y_test_lem, lr_pred_lem_count_vec)"
      ],
      "metadata": {
        "trusted": true,
        "execution": {
          "iopub.status.busy": "2025-03-12T07:58:07.521402Z",
          "iopub.status.idle": "2025-03-12T07:58:07.521817Z",
          "shell.execute_reply.started": "2025-03-12T07:58:07.521592Z",
          "shell.execute_reply": "2025-03-12T07:58:07.521612Z"
        },
        "id": "k0jpWX2MXxvk"
      },
      "outputs": [],
      "execution_count": null
    },
    {
      "cell_type": "markdown",
      "source": [
        "### TF IDF with stemming"
      ],
      "metadata": {
        "id": "2YM--9dSXxvk"
      }
    },
    {
      "cell_type": "code",
      "source": [
        "lr_model_stm_tf_idf = LogisticRegression()\n",
        "lr_model_stm_tf_idf.fit(x_train_stm_tf_idf, y_train_stm)"
      ],
      "metadata": {
        "trusted": true,
        "execution": {
          "iopub.status.busy": "2025-03-12T07:58:07.523119Z",
          "iopub.status.idle": "2025-03-12T07:58:07.523534Z",
          "shell.execute_reply.started": "2025-03-12T07:58:07.523324Z",
          "shell.execute_reply": "2025-03-12T07:58:07.523344Z"
        },
        "id": "tzOLaOh9Xxvk"
      },
      "outputs": [],
      "execution_count": null
    },
    {
      "cell_type": "code",
      "source": [
        "lr_pred_stm_tf_idf_ = lr_model_stm_tf_idf.predict(x_train_stm_tf_idf)\n",
        "sns.heatmap(confusion_matrix(y_train_stm, lr_pred_stm_tf_idf_)\n",
        "            , cmap='YlGnBu', linewidths=1, annot=True\n",
        "            , square=True, fmt='d', cbar=False)"
      ],
      "metadata": {
        "trusted": true,
        "execution": {
          "iopub.status.busy": "2025-03-12T07:58:07.524409Z",
          "iopub.status.idle": "2025-03-12T07:58:07.524786Z",
          "shell.execute_reply.started": "2025-03-12T07:58:07.52454Z",
          "shell.execute_reply": "2025-03-12T07:58:07.524552Z"
        },
        "id": "hSL7BTtIXxvk"
      },
      "outputs": [],
      "execution_count": null
    },
    {
      "cell_type": "code",
      "source": [
        "compute_metrics(y_train_stm, lr_pred_stm_tf_idf_)"
      ],
      "metadata": {
        "trusted": true,
        "execution": {
          "iopub.status.busy": "2025-03-12T07:58:07.526182Z",
          "iopub.status.idle": "2025-03-12T07:58:07.526449Z",
          "shell.execute_reply.started": "2025-03-12T07:58:07.526324Z",
          "shell.execute_reply": "2025-03-12T07:58:07.526336Z"
        },
        "id": "Nl3YvHFPXxvk"
      },
      "outputs": [],
      "execution_count": null
    },
    {
      "cell_type": "code",
      "source": [
        "lr_pred_stm_tf_idf = lr_model_stm_tf_idf.predict(x_test_stm_tf_idf)"
      ],
      "metadata": {
        "trusted": true,
        "execution": {
          "iopub.status.busy": "2025-03-12T07:58:07.527154Z",
          "iopub.status.idle": "2025-03-12T07:58:07.527413Z",
          "shell.execute_reply.started": "2025-03-12T07:58:07.527288Z",
          "shell.execute_reply": "2025-03-12T07:58:07.5273Z"
        },
        "id": "KsdGKwxaXxvk"
      },
      "outputs": [],
      "execution_count": null
    },
    {
      "cell_type": "code",
      "source": [
        "sns.heatmap(confusion_matrix(y_test_stm, lr_pred_stm_tf_idf)\n",
        "            , cmap='YlGnBu', linewidths=1, annot=True\n",
        "            , square=True, fmt='d', cbar=False)"
      ],
      "metadata": {
        "trusted": true,
        "execution": {
          "iopub.status.busy": "2025-03-12T07:58:07.528783Z",
          "iopub.status.idle": "2025-03-12T07:58:07.529047Z",
          "shell.execute_reply.started": "2025-03-12T07:58:07.528919Z",
          "shell.execute_reply": "2025-03-12T07:58:07.528931Z"
        },
        "id": "TiCsClPsXxvl"
      },
      "outputs": [],
      "execution_count": null
    },
    {
      "cell_type": "code",
      "source": [
        "compute_metrics(y_test_stm, lr_pred_stm_tf_idf)"
      ],
      "metadata": {
        "trusted": true,
        "execution": {
          "iopub.status.busy": "2025-03-12T07:58:07.529927Z",
          "iopub.status.idle": "2025-03-12T07:58:07.530214Z",
          "shell.execute_reply.started": "2025-03-12T07:58:07.530079Z",
          "shell.execute_reply": "2025-03-12T07:58:07.530092Z"
        },
        "id": "A3bL_ASKXxvl"
      },
      "outputs": [],
      "execution_count": null
    },
    {
      "cell_type": "markdown",
      "source": [
        "#### Без перевода в целые"
      ],
      "metadata": {
        "id": "gZJLcydGXxvl"
      }
    },
    {
      "cell_type": "code",
      "source": [
        "lr_model_stm_tf_idf_o = LogisticRegression()\n",
        "lr_model_stm_tf_idf_o.fit(x_train_stm_tf_idf_, y_train_stm)"
      ],
      "metadata": {
        "trusted": true,
        "execution": {
          "iopub.status.busy": "2025-03-12T07:58:07.531772Z",
          "iopub.status.idle": "2025-03-12T07:58:07.532178Z",
          "shell.execute_reply.started": "2025-03-12T07:58:07.531967Z",
          "shell.execute_reply": "2025-03-12T07:58:07.531986Z"
        },
        "id": "iXkRoc3hXxvl"
      },
      "outputs": [],
      "execution_count": null
    },
    {
      "cell_type": "code",
      "source": [
        "lr_pred_stm_tf_idf_o = lr_model_stm_tf_idf_o.predict(x_train_stm_tf_idf_)\n",
        "sns.heatmap(confusion_matrix(y_train_stm, lr_pred_stm_tf_idf_o)\n",
        "            , cmap='YlGnBu', linewidths=1, annot=True\n",
        "            , square=True, fmt='d', cbar=False)"
      ],
      "metadata": {
        "trusted": true,
        "execution": {
          "iopub.status.busy": "2025-03-12T07:58:07.534143Z",
          "iopub.status.idle": "2025-03-12T07:58:07.534552Z",
          "shell.execute_reply.started": "2025-03-12T07:58:07.534344Z",
          "shell.execute_reply": "2025-03-12T07:58:07.534364Z"
        },
        "id": "75JtaukoXxvl"
      },
      "outputs": [],
      "execution_count": null
    },
    {
      "cell_type": "code",
      "source": [
        "compute_metrics(y_train_stm, lr_pred_stm_tf_idf_o)"
      ],
      "metadata": {
        "trusted": true,
        "execution": {
          "iopub.status.busy": "2025-03-12T07:58:07.535592Z",
          "iopub.status.idle": "2025-03-12T07:58:07.536008Z",
          "shell.execute_reply.started": "2025-03-12T07:58:07.535799Z",
          "shell.execute_reply": "2025-03-12T07:58:07.535818Z"
        },
        "id": "X-lTejQTXxvl"
      },
      "outputs": [],
      "execution_count": null
    },
    {
      "cell_type": "code",
      "source": [
        "lr_pred_stm_tf_idf_t = lr_model_stm_tf_idf_o.predict(x_test_stm_tf_idf_)"
      ],
      "metadata": {
        "trusted": true,
        "execution": {
          "iopub.status.busy": "2025-03-12T07:58:07.537256Z",
          "iopub.status.idle": "2025-03-12T07:58:07.537649Z",
          "shell.execute_reply.started": "2025-03-12T07:58:07.537444Z",
          "shell.execute_reply": "2025-03-12T07:58:07.537463Z"
        },
        "id": "qMcFB9_gXxvl"
      },
      "outputs": [],
      "execution_count": null
    },
    {
      "cell_type": "code",
      "source": [
        "sns.heatmap(confusion_matrix(y_test_stm, lr_pred_stm_tf_idf_t)\n",
        "            , cmap='YlGnBu', linewidths=1, annot=True\n",
        "            , square=True, fmt='d', cbar=False)"
      ],
      "metadata": {
        "trusted": true,
        "execution": {
          "iopub.status.busy": "2025-03-12T07:58:07.539042Z",
          "iopub.status.idle": "2025-03-12T07:58:07.539454Z",
          "shell.execute_reply.started": "2025-03-12T07:58:07.539244Z",
          "shell.execute_reply": "2025-03-12T07:58:07.539264Z"
        },
        "id": "O7aZ9jmGXxvl"
      },
      "outputs": [],
      "execution_count": null
    },
    {
      "cell_type": "code",
      "source": [
        "compute_metrics(y_test_stm, lr_pred_stm_tf_idf_t)"
      ],
      "metadata": {
        "trusted": true,
        "execution": {
          "iopub.status.busy": "2025-03-12T07:58:07.544759Z",
          "iopub.status.idle": "2025-03-12T07:58:07.545083Z",
          "shell.execute_reply.started": "2025-03-12T07:58:07.544928Z",
          "shell.execute_reply": "2025-03-12T07:58:07.544952Z"
        },
        "id": "8S7lAPglXxvl"
      },
      "outputs": [],
      "execution_count": null
    },
    {
      "cell_type": "markdown",
      "source": [
        "### TF IDF with lemmatization"
      ],
      "metadata": {
        "id": "0NaoNeKCXxvl"
      }
    },
    {
      "cell_type": "code",
      "source": [
        "lr_model_lem_tf_idf = LogisticRegression()\n",
        "lr_model_lem_tf_idf.fit(x_train_lem_tf_idf, y_train_lem)"
      ],
      "metadata": {
        "trusted": true,
        "execution": {
          "iopub.status.busy": "2025-03-12T07:58:07.546709Z",
          "iopub.status.idle": "2025-03-12T07:58:07.54714Z",
          "shell.execute_reply.started": "2025-03-12T07:58:07.546924Z",
          "shell.execute_reply": "2025-03-12T07:58:07.546943Z"
        },
        "id": "RMC03XZBXxvm"
      },
      "outputs": [],
      "execution_count": null
    },
    {
      "cell_type": "code",
      "source": [
        "lr_pred_lem_tf_idf_ = lr_model_lem_tf_idf.predict(x_train_lem_tf_idf)\n",
        "sns.heatmap(confusion_matrix(y_train_lem, lr_pred_lem_tf_idf_)\n",
        "            , cmap='YlGnBu', linewidths=1, annot=True\n",
        "            , square=True, fmt='d', cbar=False)"
      ],
      "metadata": {
        "trusted": true,
        "execution": {
          "iopub.status.busy": "2025-03-12T07:58:07.548094Z",
          "iopub.status.idle": "2025-03-12T07:58:07.548499Z",
          "shell.execute_reply.started": "2025-03-12T07:58:07.548292Z",
          "shell.execute_reply": "2025-03-12T07:58:07.548313Z"
        },
        "id": "b84aef6aXxvm"
      },
      "outputs": [],
      "execution_count": null
    },
    {
      "cell_type": "code",
      "source": [
        "compute_metrics(y_train_lem, lr_pred_lem_tf_idf_)"
      ],
      "metadata": {
        "trusted": true,
        "execution": {
          "iopub.status.busy": "2025-03-12T07:58:07.549498Z",
          "iopub.status.idle": "2025-03-12T07:58:07.549933Z",
          "shell.execute_reply.started": "2025-03-12T07:58:07.549696Z",
          "shell.execute_reply": "2025-03-12T07:58:07.549726Z"
        },
        "id": "twAZFjyzXxvm"
      },
      "outputs": [],
      "execution_count": null
    },
    {
      "cell_type": "code",
      "source": [
        "lr_pred_lem_tf_idf = lr_model_lem_tf_idf.predict(x_test_lem_tf_idf)"
      ],
      "metadata": {
        "trusted": true,
        "execution": {
          "iopub.status.busy": "2025-03-12T07:58:07.551507Z",
          "iopub.status.idle": "2025-03-12T07:58:07.551862Z",
          "shell.execute_reply.started": "2025-03-12T07:58:07.551673Z",
          "shell.execute_reply": "2025-03-12T07:58:07.551686Z"
        },
        "id": "FwvwPVaUXxvm"
      },
      "outputs": [],
      "execution_count": null
    },
    {
      "cell_type": "code",
      "source": [
        "sns.heatmap(confusion_matrix(y_test_lem, lr_pred_lem_tf_idf)\n",
        "            , cmap='YlGnBu', linewidths=1, annot=True\n",
        "            , square=True, fmt='d', cbar=False)"
      ],
      "metadata": {
        "trusted": true,
        "execution": {
          "iopub.status.busy": "2025-03-12T07:58:07.553551Z",
          "iopub.status.idle": "2025-03-12T07:58:07.553889Z",
          "shell.execute_reply.started": "2025-03-12T07:58:07.553712Z",
          "shell.execute_reply": "2025-03-12T07:58:07.553726Z"
        },
        "id": "iiS-xKXwXxvm"
      },
      "outputs": [],
      "execution_count": null
    },
    {
      "cell_type": "code",
      "source": [
        "compute_metrics(y_test_lem, lr_pred_lem_tf_idf)"
      ],
      "metadata": {
        "trusted": true,
        "execution": {
          "iopub.status.busy": "2025-03-12T07:58:07.555189Z",
          "iopub.status.idle": "2025-03-12T07:58:07.555472Z",
          "shell.execute_reply.started": "2025-03-12T07:58:07.55534Z",
          "shell.execute_reply": "2025-03-12T07:58:07.555353Z"
        },
        "id": "0XQPhPBhXxvm"
      },
      "outputs": [],
      "execution_count": null
    },
    {
      "cell_type": "markdown",
      "source": [
        "### Word2Vec with stemming"
      ],
      "metadata": {
        "id": "GSBf_h1WXxvm"
      }
    },
    {
      "cell_type": "code",
      "source": [
        "lr_model_stm_word_vec = LogisticRegression()\n",
        "lr_model_stm_word_vec.fit(train_stm_word_vec, y_train_stm)"
      ],
      "metadata": {
        "trusted": true,
        "execution": {
          "iopub.status.busy": "2025-03-12T07:58:07.556762Z",
          "iopub.status.idle": "2025-03-12T07:58:07.557038Z",
          "shell.execute_reply.started": "2025-03-12T07:58:07.556906Z",
          "shell.execute_reply": "2025-03-12T07:58:07.556918Z"
        },
        "id": "K-l15FH7Xxvm"
      },
      "outputs": [],
      "execution_count": null
    },
    {
      "cell_type": "code",
      "source": [
        "lr_pred_stm_word_vec_ = lr_model_stm_word_vec.predict(train_stm_word_vec)\n",
        "sns.heatmap(confusion_matrix(y_train_stm, lr_pred_stm_word_vec_)\n",
        "            , cmap='YlGnBu', linewidths=1, annot=True\n",
        "            , square=True, fmt='d', cbar=False)"
      ],
      "metadata": {
        "trusted": true,
        "execution": {
          "iopub.status.busy": "2025-03-12T07:58:07.558532Z",
          "iopub.status.idle": "2025-03-12T07:58:07.55885Z",
          "shell.execute_reply.started": "2025-03-12T07:58:07.55868Z",
          "shell.execute_reply": "2025-03-12T07:58:07.558694Z"
        },
        "id": "LdC2433gXxvm"
      },
      "outputs": [],
      "execution_count": null
    },
    {
      "cell_type": "code",
      "source": [
        "compute_metrics(y_train_stm, lr_pred_stm_word_vec_)"
      ],
      "metadata": {
        "trusted": true,
        "execution": {
          "iopub.status.busy": "2025-03-12T07:58:07.560577Z",
          "iopub.status.idle": "2025-03-12T07:58:07.560902Z",
          "shell.execute_reply.started": "2025-03-12T07:58:07.560729Z",
          "shell.execute_reply": "2025-03-12T07:58:07.560767Z"
        },
        "id": "yeTOcwi9Xxvm"
      },
      "outputs": [],
      "execution_count": null
    },
    {
      "cell_type": "code",
      "source": [
        "lr_pred_stm_word_vec = lr_model_stm_word_vec.predict(test_stm_word_vec)"
      ],
      "metadata": {
        "trusted": true,
        "execution": {
          "iopub.status.busy": "2025-03-12T07:58:07.561689Z",
          "iopub.status.idle": "2025-03-12T07:58:07.561986Z",
          "shell.execute_reply.started": "2025-03-12T07:58:07.561855Z",
          "shell.execute_reply": "2025-03-12T07:58:07.561868Z"
        },
        "id": "tFhDoy-RXxvm"
      },
      "outputs": [],
      "execution_count": null
    },
    {
      "cell_type": "code",
      "source": [
        "sns.heatmap(confusion_matrix(y_test_stm, lr_pred_stm_word_vec)\n",
        "            , cmap='YlGnBu', linewidths=1, annot=True\n",
        "            , square=True, fmt='d', cbar=False)"
      ],
      "metadata": {
        "trusted": true,
        "execution": {
          "iopub.status.busy": "2025-03-12T07:58:07.563488Z",
          "iopub.status.idle": "2025-03-12T07:58:07.563804Z",
          "shell.execute_reply.started": "2025-03-12T07:58:07.563642Z",
          "shell.execute_reply": "2025-03-12T07:58:07.563656Z"
        },
        "id": "VQpaFdbsXxvn"
      },
      "outputs": [],
      "execution_count": null
    },
    {
      "cell_type": "code",
      "source": [
        "compute_metrics(y_test_stm, lr_pred_stm_word_vec)"
      ],
      "metadata": {
        "trusted": true,
        "execution": {
          "iopub.status.busy": "2025-03-12T07:58:07.566321Z",
          "iopub.status.idle": "2025-03-12T07:58:07.566614Z",
          "shell.execute_reply.started": "2025-03-12T07:58:07.566479Z",
          "shell.execute_reply": "2025-03-12T07:58:07.566493Z"
        },
        "id": "AxoyfBn-Xxvn"
      },
      "outputs": [],
      "execution_count": null
    },
    {
      "cell_type": "markdown",
      "source": [
        "### Word2Vec with lemmatization"
      ],
      "metadata": {
        "id": "EKNalA_yXxvn"
      }
    },
    {
      "cell_type": "code",
      "source": [
        "lr_model_lem_word_vec = LogisticRegression()\n",
        "lr_model_lem_word_vec.fit(train_lem_word_vec, y_train_lem)"
      ],
      "metadata": {
        "trusted": true,
        "execution": {
          "iopub.status.busy": "2025-03-12T07:58:07.567977Z",
          "iopub.status.idle": "2025-03-12T07:58:07.568277Z",
          "shell.execute_reply.started": "2025-03-12T07:58:07.568136Z",
          "shell.execute_reply": "2025-03-12T07:58:07.56815Z"
        },
        "id": "0jS1POokXxvn"
      },
      "outputs": [],
      "execution_count": null
    },
    {
      "cell_type": "code",
      "source": [
        "lr_pred_lem_word_vec_ = lr_model_lem_word_vec.predict(train_lem_word_vec)\n",
        "sns.heatmap(confusion_matrix(y_train_lem, lr_pred_lem_word_vec_)\n",
        "            , cmap='YlGnBu', linewidths=1, annot=True\n",
        "            , square=True, fmt='d', cbar=False)"
      ],
      "metadata": {
        "trusted": true,
        "execution": {
          "iopub.status.busy": "2025-03-12T07:58:07.56963Z",
          "iopub.status.idle": "2025-03-12T07:58:07.569942Z",
          "shell.execute_reply.started": "2025-03-12T07:58:07.569804Z",
          "shell.execute_reply": "2025-03-12T07:58:07.569818Z"
        },
        "id": "99r4fyazXxvn"
      },
      "outputs": [],
      "execution_count": null
    },
    {
      "cell_type": "code",
      "source": [
        "compute_metrics(y_train_lem, lr_pred_lem_word_vec_)"
      ],
      "metadata": {
        "trusted": true,
        "execution": {
          "iopub.status.busy": "2025-03-12T07:58:07.571178Z",
          "iopub.status.idle": "2025-03-12T07:58:07.571468Z",
          "shell.execute_reply.started": "2025-03-12T07:58:07.571334Z",
          "shell.execute_reply": "2025-03-12T07:58:07.571349Z"
        },
        "id": "0rj9Ul48Xxvn"
      },
      "outputs": [],
      "execution_count": null
    },
    {
      "cell_type": "code",
      "source": [
        "lr_pred_lem_word_vec = lr_model_lem_word_vec.predict(test_lem_word_vec)"
      ],
      "metadata": {
        "trusted": true,
        "execution": {
          "iopub.status.busy": "2025-03-12T07:58:07.572716Z",
          "iopub.status.idle": "2025-03-12T07:58:07.573012Z",
          "shell.execute_reply.started": "2025-03-12T07:58:07.572883Z",
          "shell.execute_reply": "2025-03-12T07:58:07.572896Z"
        },
        "id": "880rQTu_Xxvn"
      },
      "outputs": [],
      "execution_count": null
    },
    {
      "cell_type": "code",
      "source": [
        "sns.heatmap(confusion_matrix(y_test_lem, lr_pred_lem_word_vec)\n",
        "            , cmap='YlGnBu', linewidths=1, annot=True\n",
        "            , square=True, fmt='d', cbar=False)"
      ],
      "metadata": {
        "trusted": true,
        "execution": {
          "iopub.status.busy": "2025-03-12T07:58:07.574717Z",
          "iopub.status.idle": "2025-03-12T07:58:07.57505Z",
          "shell.execute_reply.started": "2025-03-12T07:58:07.574912Z",
          "shell.execute_reply": "2025-03-12T07:58:07.574926Z"
        },
        "id": "Fkm56kJtXxvn"
      },
      "outputs": [],
      "execution_count": null
    },
    {
      "cell_type": "code",
      "source": [
        "compute_metrics(y_test_lem, lr_pred_lem_word_vec)"
      ],
      "metadata": {
        "trusted": true,
        "execution": {
          "iopub.status.busy": "2025-03-12T07:58:07.57627Z",
          "iopub.status.idle": "2025-03-12T07:58:07.576524Z",
          "shell.execute_reply.started": "2025-03-12T07:58:07.576402Z",
          "shell.execute_reply": "2025-03-12T07:58:07.576414Z"
        },
        "id": "gSkdp1f3Xxvn"
      },
      "outputs": [],
      "execution_count": null
    },
    {
      "cell_type": "markdown",
      "source": [
        "### FastText with stemming"
      ],
      "metadata": {
        "id": "6cad80fa"
      }
    },
    {
      "cell_type": "code",
      "source": [
        "lr_model_stm_ft = LogisticRegression()\n",
        "lr_model_stm_ft.fit(train_stm_ft, y_train_stm)"
      ],
      "metadata": {
        "trusted": true,
        "execution": {
          "iopub.status.busy": "2025-03-12T07:58:07.578112Z",
          "iopub.status.idle": "2025-03-12T07:58:07.578413Z",
          "shell.execute_reply.started": "2025-03-12T07:58:07.578275Z",
          "shell.execute_reply": "2025-03-12T07:58:07.578289Z"
        },
        "id": "UVSXuwhDXxvo"
      },
      "outputs": [],
      "execution_count": null
    },
    {
      "cell_type": "code",
      "source": [
        "lr_pred_stm_ft_ = lr_model_stm_ft.predict(train_stm_ft)\n",
        "sns.heatmap(confusion_matrix(y_train_stm, lr_pred_stm_ft_)\n",
        "            , cmap='YlGnBu', linewidths=1, annot=True\n",
        "            , square=True, fmt='d', cbar=False)"
      ],
      "metadata": {
        "trusted": true,
        "execution": {
          "iopub.status.busy": "2025-03-12T07:58:07.580078Z",
          "iopub.status.idle": "2025-03-12T07:58:07.580511Z",
          "shell.execute_reply.started": "2025-03-12T07:58:07.580296Z",
          "shell.execute_reply": "2025-03-12T07:58:07.580316Z"
        },
        "id": "QQku9LDLXxvo"
      },
      "outputs": [],
      "execution_count": null
    },
    {
      "cell_type": "code",
      "source": [
        "compute_metrics(y_train_stm, lr_pred_stm_ft_)"
      ],
      "metadata": {
        "trusted": true,
        "execution": {
          "iopub.status.busy": "2025-03-12T07:58:07.581968Z",
          "iopub.status.idle": "2025-03-12T07:58:07.582382Z",
          "shell.execute_reply.started": "2025-03-12T07:58:07.582166Z",
          "shell.execute_reply": "2025-03-12T07:58:07.582187Z"
        },
        "id": "e4x_wKeUXxvo"
      },
      "outputs": [],
      "execution_count": null
    },
    {
      "cell_type": "code",
      "source": [
        "lr_pred_stm_ft = lr_model_stm_ft.predict(test_stm_ft)"
      ],
      "metadata": {
        "trusted": true,
        "execution": {
          "iopub.status.busy": "2025-03-12T07:58:07.583719Z",
          "iopub.status.idle": "2025-03-12T07:58:07.584135Z",
          "shell.execute_reply.started": "2025-03-12T07:58:07.583929Z",
          "shell.execute_reply": "2025-03-12T07:58:07.583949Z"
        },
        "id": "ZWp8fgUdXxvo"
      },
      "outputs": [],
      "execution_count": null
    },
    {
      "cell_type": "code",
      "source": [
        "sns.heatmap(confusion_matrix(y_test_stm, lr_pred_stm_ft)\n",
        "            , cmap='YlGnBu', linewidths=1, annot=True\n",
        "            , square=True, fmt='d', cbar=False)"
      ],
      "metadata": {
        "trusted": true,
        "execution": {
          "iopub.status.busy": "2025-03-12T07:58:07.58525Z",
          "iopub.status.idle": "2025-03-12T07:58:07.58553Z",
          "shell.execute_reply.started": "2025-03-12T07:58:07.585397Z",
          "shell.execute_reply": "2025-03-12T07:58:07.58541Z"
        },
        "id": "kzaaArcKXxvo"
      },
      "outputs": [],
      "execution_count": null
    },
    {
      "cell_type": "code",
      "source": [
        "compute_metrics(y_test_stm, lr_pred_stm_ft)"
      ],
      "metadata": {
        "trusted": true,
        "execution": {
          "iopub.status.busy": "2025-03-12T07:58:07.58676Z",
          "iopub.status.idle": "2025-03-12T07:58:07.587057Z",
          "shell.execute_reply.started": "2025-03-12T07:58:07.586917Z",
          "shell.execute_reply": "2025-03-12T07:58:07.58693Z"
        },
        "id": "crY5oo4YXxvo"
      },
      "outputs": [],
      "execution_count": null
    },
    {
      "cell_type": "markdown",
      "source": [
        "### FastText with lemmatization"
      ],
      "metadata": {
        "id": "eY9vwg1DXxvo"
      }
    },
    {
      "cell_type": "code",
      "source": [
        "lr_model_lem_ft = LogisticRegression()\n",
        "lr_model_lem_ft.fit(train_lem_ft, y_train_lem)"
      ],
      "metadata": {
        "trusted": true,
        "execution": {
          "iopub.status.busy": "2025-03-12T07:58:07.588195Z",
          "iopub.status.idle": "2025-03-12T07:58:07.588473Z",
          "shell.execute_reply.started": "2025-03-12T07:58:07.58834Z",
          "shell.execute_reply": "2025-03-12T07:58:07.588353Z"
        },
        "id": "mruLb88eXxvo"
      },
      "outputs": [],
      "execution_count": null
    },
    {
      "cell_type": "code",
      "source": [
        "lr_pred_lem_ft_ = lr_model_lem_ft.predict(train_lem_ft)\n",
        "sns.heatmap(confusion_matrix(y_train_lem, lr_pred_lem_ft_)\n",
        "            , cmap='YlGnBu', linewidths=1, annot=True\n",
        "            , square=True, fmt='d', cbar=False)"
      ],
      "metadata": {
        "trusted": true,
        "execution": {
          "iopub.status.busy": "2025-03-12T07:58:07.589672Z",
          "iopub.status.idle": "2025-03-12T07:58:07.589969Z",
          "shell.execute_reply.started": "2025-03-12T07:58:07.589837Z",
          "shell.execute_reply": "2025-03-12T07:58:07.58985Z"
        },
        "id": "ZHoCC2vDXxvo"
      },
      "outputs": [],
      "execution_count": null
    },
    {
      "cell_type": "code",
      "source": [
        "compute_metrics(y_train_lem, lr_pred_lem_ft_)"
      ],
      "metadata": {
        "trusted": true,
        "execution": {
          "iopub.status.busy": "2025-03-12T07:58:07.591236Z",
          "iopub.status.idle": "2025-03-12T07:58:07.591516Z",
          "shell.execute_reply.started": "2025-03-12T07:58:07.591384Z",
          "shell.execute_reply": "2025-03-12T07:58:07.591397Z"
        },
        "id": "IlWSmjMUXxvp"
      },
      "outputs": [],
      "execution_count": null
    },
    {
      "cell_type": "code",
      "source": [
        "lr_pred_lem_ft = lr_model_lem_ft.predict(test_lem_ft)"
      ],
      "metadata": {
        "trusted": true,
        "execution": {
          "iopub.status.busy": "2025-03-12T07:58:07.592663Z",
          "iopub.status.idle": "2025-03-12T07:58:07.592955Z",
          "shell.execute_reply.started": "2025-03-12T07:58:07.592819Z",
          "shell.execute_reply": "2025-03-12T07:58:07.592833Z"
        },
        "id": "rWkieklIXxvp"
      },
      "outputs": [],
      "execution_count": null
    },
    {
      "cell_type": "code",
      "source": [
        "sns.heatmap(confusion_matrix(y_test_lem, lr_pred_lem_ft)\n",
        "            , cmap='YlGnBu', linewidths=1, annot=True\n",
        "            , square=True, fmt='d', cbar=False)"
      ],
      "metadata": {
        "trusted": true,
        "execution": {
          "iopub.status.busy": "2025-03-12T07:58:07.593824Z",
          "iopub.status.idle": "2025-03-12T07:58:07.594085Z",
          "shell.execute_reply.started": "2025-03-12T07:58:07.593954Z",
          "shell.execute_reply": "2025-03-12T07:58:07.593965Z"
        },
        "id": "179LM6hQXxvp"
      },
      "outputs": [],
      "execution_count": null
    },
    {
      "cell_type": "code",
      "source": [
        "compute_metrics(y_test_lem, lr_pred_lem_ft)"
      ],
      "metadata": {
        "trusted": true,
        "execution": {
          "iopub.status.busy": "2025-03-12T07:58:07.594853Z",
          "iopub.status.idle": "2025-03-12T07:58:07.595115Z",
          "shell.execute_reply.started": "2025-03-12T07:58:07.594991Z",
          "shell.execute_reply": "2025-03-12T07:58:07.595003Z"
        },
        "id": "A0OOFSVLXxvp"
      },
      "outputs": [],
      "execution_count": null
    },
    {
      "cell_type": "markdown",
      "source": [
        "## KNN"
      ],
      "metadata": {
        "id": "8b9cd9f7"
      }
    },
    {
      "cell_type": "markdown",
      "source": [
        "### Count vectorizer with stemming"
      ],
      "metadata": {
        "id": "I-tcNtKQXxvp"
      }
    },
    {
      "cell_type": "code",
      "source": [
        "knn_model_stm_count_vec = KNeighborsClassifier(n_neighbors=10)\n",
        "knn_model_stm_count_vec.fit(x_train_stm_count_vec, y_train_stm)"
      ],
      "metadata": {
        "trusted": true,
        "execution": {
          "iopub.status.busy": "2025-03-12T07:58:07.596533Z",
          "iopub.status.idle": "2025-03-12T07:58:07.596822Z",
          "shell.execute_reply.started": "2025-03-12T07:58:07.596664Z",
          "shell.execute_reply": "2025-03-12T07:58:07.596676Z"
        },
        "id": "apFutusGXxvp"
      },
      "outputs": [],
      "execution_count": null
    },
    {
      "cell_type": "code",
      "source": [
        "knn_pred_stm_ = knn_model_stm_count_vec.predict(x_train_stm_count_vec)\n",
        "sns.heatmap(confusion_matrix(y_train_stm, knn_pred_stm_)\n",
        "            , cmap='YlGnBu', linewidths=1, annot=True\n",
        "            , square=True, fmt='d', cbar=False)"
      ],
      "metadata": {
        "trusted": true,
        "execution": {
          "iopub.status.busy": "2025-03-12T07:58:07.597585Z",
          "iopub.status.idle": "2025-03-12T07:58:07.597878Z",
          "shell.execute_reply.started": "2025-03-12T07:58:07.597712Z",
          "shell.execute_reply": "2025-03-12T07:58:07.597724Z"
        },
        "id": "Vc33rByKXxvq"
      },
      "outputs": [],
      "execution_count": null
    },
    {
      "cell_type": "code",
      "source": [
        "compute_metrics(y_train_stm, knn_pred_stm_)"
      ],
      "metadata": {
        "trusted": true,
        "execution": {
          "iopub.status.busy": "2025-03-12T07:58:07.598903Z",
          "iopub.status.idle": "2025-03-12T07:58:07.599192Z",
          "shell.execute_reply.started": "2025-03-12T07:58:07.599059Z",
          "shell.execute_reply": "2025-03-12T07:58:07.599072Z"
        },
        "id": "TVFJNJ1IXxvq"
      },
      "outputs": [],
      "execution_count": null
    },
    {
      "cell_type": "code",
      "source": [
        "knn_pred_stm = knn_model_stm_count_vec.predict(x_test_stm_count_vec)"
      ],
      "metadata": {
        "trusted": true,
        "execution": {
          "iopub.status.busy": "2025-03-12T07:58:07.60118Z",
          "iopub.status.idle": "2025-03-12T07:58:07.601465Z",
          "shell.execute_reply.started": "2025-03-12T07:58:07.601331Z",
          "shell.execute_reply": "2025-03-12T07:58:07.601344Z"
        },
        "id": "f1DSeCYIXxvq"
      },
      "outputs": [],
      "execution_count": null
    },
    {
      "cell_type": "code",
      "source": [
        "sns.heatmap(confusion_matrix(y_test_stm, knn_pred_stm)\n",
        "            , cmap='YlGnBu', linewidths=1, annot=True\n",
        "            , square=True, fmt='d', cbar=False)"
      ],
      "metadata": {
        "trusted": true,
        "execution": {
          "iopub.status.busy": "2025-03-12T07:58:07.602386Z",
          "iopub.status.idle": "2025-03-12T07:58:07.602662Z",
          "shell.execute_reply.started": "2025-03-12T07:58:07.602529Z",
          "shell.execute_reply": "2025-03-12T07:58:07.602543Z"
        },
        "id": "A529uwgDXxvq"
      },
      "outputs": [],
      "execution_count": null
    },
    {
      "cell_type": "code",
      "source": [
        "compute_metrics(y_test_stm, knn_pred_stm)"
      ],
      "metadata": {
        "trusted": true,
        "execution": {
          "iopub.status.busy": "2025-03-12T07:58:07.604388Z",
          "iopub.status.idle": "2025-03-12T07:58:07.604812Z",
          "shell.execute_reply.started": "2025-03-12T07:58:07.604582Z",
          "shell.execute_reply": "2025-03-12T07:58:07.604601Z"
        },
        "id": "hp9xbGszXxvq"
      },
      "outputs": [],
      "execution_count": null
    },
    {
      "cell_type": "markdown",
      "source": [
        "### Count vectorizer with lemmatization"
      ],
      "metadata": {
        "id": "u5J6lDwbXxvq"
      }
    },
    {
      "cell_type": "code",
      "source": [
        "knn_model_lem_count_vec = KNeighborsClassifier(n_neighbors=10)\n",
        "knn_model_lem_count_vec.fit(x_train_lem_count_vec, y_train_lem)"
      ],
      "metadata": {
        "trusted": true,
        "execution": {
          "iopub.status.busy": "2025-03-12T07:58:07.60565Z",
          "iopub.status.idle": "2025-03-12T07:58:07.606068Z",
          "shell.execute_reply.started": "2025-03-12T07:58:07.605862Z",
          "shell.execute_reply": "2025-03-12T07:58:07.605883Z"
        },
        "id": "6SThNrWmXxvr"
      },
      "outputs": [],
      "execution_count": null
    },
    {
      "cell_type": "code",
      "source": [
        "knn_pred_lem_count_vec_ = knn_model_lem_count_vec.predict(x_train_lem_count_vec)\n",
        "sns.heatmap(confusion_matrix(y_train_lem, knn_pred_lem_count_vec_)\n",
        "            , cmap='YlGnBu', linewidths=1, annot=True\n",
        "            , square=True, fmt='d', cbar=False)"
      ],
      "metadata": {
        "trusted": true,
        "execution": {
          "iopub.status.busy": "2025-03-12T07:58:07.607444Z",
          "iopub.status.idle": "2025-03-12T07:58:07.607722Z",
          "shell.execute_reply.started": "2025-03-12T07:58:07.60759Z",
          "shell.execute_reply": "2025-03-12T07:58:07.607603Z"
        },
        "id": "8-ipesI_Xxvr"
      },
      "outputs": [],
      "execution_count": null
    },
    {
      "cell_type": "code",
      "source": [
        "compute_metrics(y_train_lem, knn_pred_lem_count_vec_)"
      ],
      "metadata": {
        "trusted": true,
        "execution": {
          "iopub.status.busy": "2025-03-12T07:58:07.609212Z",
          "iopub.status.idle": "2025-03-12T07:58:07.609494Z",
          "shell.execute_reply.started": "2025-03-12T07:58:07.60936Z",
          "shell.execute_reply": "2025-03-12T07:58:07.609373Z"
        },
        "id": "xg7vOzLGXxvr"
      },
      "outputs": [],
      "execution_count": null
    },
    {
      "cell_type": "code",
      "source": [
        "knn_pred_lem_count_vec = knn_model_lem_count_vec.predict(x_test_lem_count_vec)"
      ],
      "metadata": {
        "trusted": true,
        "execution": {
          "iopub.status.busy": "2025-03-12T07:58:07.610547Z",
          "iopub.status.idle": "2025-03-12T07:58:07.610831Z",
          "shell.execute_reply.started": "2025-03-12T07:58:07.610674Z",
          "shell.execute_reply": "2025-03-12T07:58:07.610686Z"
        },
        "id": "u8146UGQXxvr"
      },
      "outputs": [],
      "execution_count": null
    },
    {
      "cell_type": "code",
      "source": [
        "sns.heatmap(confusion_matrix(y_test_lem, knn_pred_lem_count_vec)\n",
        "            , cmap='YlGnBu', linewidths=1, annot=True\n",
        "            , square=True, fmt='d', cbar=False)"
      ],
      "metadata": {
        "trusted": true,
        "execution": {
          "iopub.status.busy": "2025-03-12T07:58:07.611615Z",
          "iopub.status.idle": "2025-03-12T07:58:07.611913Z",
          "shell.execute_reply.started": "2025-03-12T07:58:07.611778Z",
          "shell.execute_reply": "2025-03-12T07:58:07.611793Z"
        },
        "id": "hsAVXNmwXxvr"
      },
      "outputs": [],
      "execution_count": null
    },
    {
      "cell_type": "code",
      "source": [
        "compute_metrics(y_test_lem, knn_pred_lem_count_vec)"
      ],
      "metadata": {
        "trusted": true,
        "execution": {
          "iopub.status.busy": "2025-03-12T07:58:07.613005Z",
          "iopub.status.idle": "2025-03-12T07:58:07.613259Z",
          "shell.execute_reply.started": "2025-03-12T07:58:07.613134Z",
          "shell.execute_reply": "2025-03-12T07:58:07.613146Z"
        },
        "id": "6f8U1LhfXxvr"
      },
      "outputs": [],
      "execution_count": null
    },
    {
      "cell_type": "markdown",
      "source": [
        "### TF IDF with stemming"
      ],
      "metadata": {
        "id": "qYEanAw7Xxvr"
      }
    },
    {
      "cell_type": "code",
      "source": [
        "knn_model_stm_tf_idf = KNeighborsClassifier(n_neighbors=10)\n",
        "knn_model_stm_tf_idf.fit(x_train_stm_tf_idf, y_train_stm)"
      ],
      "metadata": {
        "trusted": true,
        "execution": {
          "iopub.status.busy": "2025-03-12T07:58:07.614079Z",
          "iopub.status.idle": "2025-03-12T07:58:07.614355Z",
          "shell.execute_reply.started": "2025-03-12T07:58:07.614221Z",
          "shell.execute_reply": "2025-03-12T07:58:07.614236Z"
        },
        "id": "NKjX9E8DXxvr"
      },
      "outputs": [],
      "execution_count": null
    },
    {
      "cell_type": "code",
      "source": [
        "knn_pred_stm_tf_idf_ = knn_model_stm_tf_idf.predict(x_train_stm_tf_idf)"
      ],
      "metadata": {
        "scrolled": true,
        "trusted": true,
        "execution": {
          "iopub.status.busy": "2025-03-12T07:58:07.615606Z",
          "iopub.status.idle": "2025-03-12T07:58:07.615915Z",
          "shell.execute_reply.started": "2025-03-12T07:58:07.615774Z",
          "shell.execute_reply": "2025-03-12T07:58:07.615792Z"
        },
        "id": "g9YFBonHXxvr"
      },
      "outputs": [],
      "execution_count": null
    },
    {
      "cell_type": "code",
      "source": [
        "sns.heatmap(confusion_matrix(y_train_stm, knn_pred_stm_tf_idf_)\n",
        "            , cmap='YlGnBu', linewidths=1, annot=True\n",
        "            , square=True, fmt='d', cbar=False)"
      ],
      "metadata": {
        "trusted": true,
        "execution": {
          "iopub.status.busy": "2025-03-12T07:58:07.617314Z",
          "iopub.status.idle": "2025-03-12T07:58:07.61757Z",
          "shell.execute_reply.started": "2025-03-12T07:58:07.617446Z",
          "shell.execute_reply": "2025-03-12T07:58:07.617458Z"
        },
        "id": "Uf6zxYX9Xxvr"
      },
      "outputs": [],
      "execution_count": null
    },
    {
      "cell_type": "code",
      "source": [
        "compute_metrics(y_train_stm, knn_pred_stm_tf_idf_)"
      ],
      "metadata": {
        "trusted": true,
        "execution": {
          "iopub.status.busy": "2025-03-12T07:58:07.61838Z",
          "iopub.status.idle": "2025-03-12T07:58:07.618629Z",
          "shell.execute_reply.started": "2025-03-12T07:58:07.618507Z",
          "shell.execute_reply": "2025-03-12T07:58:07.618519Z"
        },
        "id": "jLfmi6TNXxvr"
      },
      "outputs": [],
      "execution_count": null
    },
    {
      "cell_type": "code",
      "source": [
        "knn_pred_stm_tf_idf = knn_model_stm_tf_idf.predict(x_test_stm_tf_idf)"
      ],
      "metadata": {
        "trusted": true,
        "execution": {
          "iopub.status.busy": "2025-03-12T07:58:07.619791Z",
          "iopub.status.idle": "2025-03-12T07:58:07.62006Z",
          "shell.execute_reply.started": "2025-03-12T07:58:07.619932Z",
          "shell.execute_reply": "2025-03-12T07:58:07.619945Z"
        },
        "id": "p4KeQlUOXxvs"
      },
      "outputs": [],
      "execution_count": null
    },
    {
      "cell_type": "code",
      "source": [
        "sns.heatmap(confusion_matrix(y_test_stm, knn_pred_stm_tf_idf)\n",
        "            , cmap='YlGnBu', linewidths=1, annot=True\n",
        "            , square=True, fmt='d', cbar=False)"
      ],
      "metadata": {
        "trusted": true,
        "execution": {
          "iopub.status.busy": "2025-03-12T07:58:07.621083Z",
          "iopub.status.idle": "2025-03-12T07:58:07.621361Z",
          "shell.execute_reply.started": "2025-03-12T07:58:07.621227Z",
          "shell.execute_reply": "2025-03-12T07:58:07.621241Z"
        },
        "id": "4K1Qg2_mXxvs"
      },
      "outputs": [],
      "execution_count": null
    },
    {
      "cell_type": "code",
      "source": [
        "compute_metrics(y_test_stm, knn_pred_stm_tf_idf)"
      ],
      "metadata": {
        "trusted": true,
        "execution": {
          "iopub.status.busy": "2025-03-12T07:58:07.622728Z",
          "iopub.status.idle": "2025-03-12T07:58:07.623038Z",
          "shell.execute_reply.started": "2025-03-12T07:58:07.622902Z",
          "shell.execute_reply": "2025-03-12T07:58:07.622916Z"
        },
        "id": "ZxDcn-mWXxvs"
      },
      "outputs": [],
      "execution_count": null
    },
    {
      "cell_type": "markdown",
      "source": [
        "### TF IDF with lemmatization"
      ],
      "metadata": {
        "id": "SNUN9iDyXxvs"
      }
    },
    {
      "cell_type": "code",
      "source": [
        "knn_model_lem_tf_idf = KNeighborsClassifier(n_neighbors=10)\n",
        "knn_model_lem_tf_idf.fit(x_train_lem_tf_idf, y_train_lem)"
      ],
      "metadata": {
        "trusted": true,
        "execution": {
          "iopub.status.busy": "2025-03-12T07:58:07.623759Z",
          "iopub.status.idle": "2025-03-12T07:58:07.624041Z",
          "shell.execute_reply.started": "2025-03-12T07:58:07.623896Z",
          "shell.execute_reply": "2025-03-12T07:58:07.623908Z"
        },
        "id": "0uRLtYHLXxvs"
      },
      "outputs": [],
      "execution_count": null
    },
    {
      "cell_type": "code",
      "source": [
        "knn_pred_lem_tf_idf_ = knn_model_lem_tf_idf.predict(x_train_lem_tf_idf)\n",
        "sns.heatmap(confusion_matrix(y_train_lem, knn_pred_lem_tf_idf_)\n",
        "            , cmap='YlGnBu', linewidths=1, annot=True\n",
        "            , square=True, fmt='d', cbar=False)"
      ],
      "metadata": {
        "trusted": true,
        "execution": {
          "iopub.status.busy": "2025-03-12T07:58:07.625634Z",
          "iopub.status.idle": "2025-03-12T07:58:07.625952Z",
          "shell.execute_reply.started": "2025-03-12T07:58:07.6258Z",
          "shell.execute_reply": "2025-03-12T07:58:07.625814Z"
        },
        "id": "nSB68Fe5Xxvs"
      },
      "outputs": [],
      "execution_count": null
    },
    {
      "cell_type": "code",
      "source": [
        "compute_metrics(y_train_lem, knn_pred_lem_tf_idf_)"
      ],
      "metadata": {
        "trusted": true,
        "execution": {
          "iopub.status.busy": "2025-03-12T07:58:07.626567Z",
          "iopub.status.idle": "2025-03-12T07:58:07.626851Z",
          "shell.execute_reply.started": "2025-03-12T07:58:07.626693Z",
          "shell.execute_reply": "2025-03-12T07:58:07.626705Z"
        },
        "id": "87zu7VveXxvs"
      },
      "outputs": [],
      "execution_count": null
    },
    {
      "cell_type": "code",
      "source": [
        "knn_pred_lem_tf_idf = knn_model_lem_tf_idf.predict(x_test_lem_tf_idf)"
      ],
      "metadata": {
        "trusted": true,
        "execution": {
          "iopub.status.busy": "2025-03-12T07:58:07.628194Z",
          "iopub.status.idle": "2025-03-12T07:58:07.628511Z",
          "shell.execute_reply.started": "2025-03-12T07:58:07.628373Z",
          "shell.execute_reply": "2025-03-12T07:58:07.628387Z"
        },
        "id": "xzsuJj3VXxvs"
      },
      "outputs": [],
      "execution_count": null
    },
    {
      "cell_type": "code",
      "source": [
        "sns.heatmap(confusion_matrix(y_test_lem, knn_pred_lem_tf_idf)\n",
        "            , cmap='YlGnBu', linewidths=1, annot=True\n",
        "            , square=True, fmt='d', cbar=False)"
      ],
      "metadata": {
        "trusted": true,
        "execution": {
          "iopub.status.busy": "2025-03-12T07:58:07.63Z",
          "iopub.status.idle": "2025-03-12T07:58:07.630262Z",
          "shell.execute_reply.started": "2025-03-12T07:58:07.630132Z",
          "shell.execute_reply": "2025-03-12T07:58:07.630144Z"
        },
        "id": "t5GmXtAzXxvs"
      },
      "outputs": [],
      "execution_count": null
    },
    {
      "cell_type": "code",
      "source": [
        "compute_metrics(y_test_lem, knn_pred_lem_tf_idf)"
      ],
      "metadata": {
        "trusted": true,
        "execution": {
          "iopub.status.busy": "2025-03-12T07:58:07.631574Z",
          "iopub.status.idle": "2025-03-12T07:58:07.631873Z",
          "shell.execute_reply.started": "2025-03-12T07:58:07.631707Z",
          "shell.execute_reply": "2025-03-12T07:58:07.631719Z"
        },
        "id": "Zu5QMjYmXxvt"
      },
      "outputs": [],
      "execution_count": null
    },
    {
      "cell_type": "markdown",
      "source": [
        "### Word2Vec with stemming"
      ],
      "metadata": {
        "id": "Xt-9sAMUXxvt"
      }
    },
    {
      "cell_type": "code",
      "source": [
        "knn_model_stm_word_vec = KNeighborsClassifier(n_neighbors=10)\n",
        "knn_model_stm_word_vec.fit(train_stm_word_vec, y_train_stm)"
      ],
      "metadata": {
        "trusted": true,
        "execution": {
          "iopub.status.busy": "2025-03-12T07:58:07.632883Z",
          "iopub.status.idle": "2025-03-12T07:58:07.633142Z",
          "shell.execute_reply.started": "2025-03-12T07:58:07.633018Z",
          "shell.execute_reply": "2025-03-12T07:58:07.63303Z"
        },
        "id": "wQ_UrJk4Xxvt"
      },
      "outputs": [],
      "execution_count": null
    },
    {
      "cell_type": "code",
      "source": [
        "knn_pred_stm_word_vec_ = knn_model_stm_word_vec.predict(train_stm_word_vec)\n",
        "sns.heatmap(confusion_matrix(y_train_stm, knn_pred_stm_word_vec_)\n",
        "            , cmap='YlGnBu', linewidths=1, annot=True\n",
        "            , square=True, fmt='d', cbar=False)"
      ],
      "metadata": {
        "trusted": true,
        "execution": {
          "iopub.status.busy": "2025-03-12T07:58:07.634059Z",
          "iopub.status.idle": "2025-03-12T07:58:07.634326Z",
          "shell.execute_reply.started": "2025-03-12T07:58:07.634194Z",
          "shell.execute_reply": "2025-03-12T07:58:07.634206Z"
        },
        "id": "bSyLsBKeXxvt"
      },
      "outputs": [],
      "execution_count": null
    },
    {
      "cell_type": "code",
      "source": [
        "compute_metrics(y_train_stm, knn_pred_stm_word_vec_)"
      ],
      "metadata": {
        "trusted": true,
        "execution": {
          "iopub.status.busy": "2025-03-12T07:58:07.63509Z",
          "iopub.status.idle": "2025-03-12T07:58:07.635343Z",
          "shell.execute_reply.started": "2025-03-12T07:58:07.635217Z",
          "shell.execute_reply": "2025-03-12T07:58:07.635231Z"
        },
        "id": "DWhIH0vzXxvt"
      },
      "outputs": [],
      "execution_count": null
    },
    {
      "cell_type": "code",
      "source": [
        "knn_pred_stm_word_vec = knn_model_stm_word_vec.predict(test_stm_word_vec)"
      ],
      "metadata": {
        "trusted": true,
        "execution": {
          "iopub.status.busy": "2025-03-12T07:58:07.635994Z",
          "iopub.status.idle": "2025-03-12T07:58:07.636267Z",
          "shell.execute_reply.started": "2025-03-12T07:58:07.636134Z",
          "shell.execute_reply": "2025-03-12T07:58:07.636148Z"
        },
        "id": "E__BWjOEXxvt"
      },
      "outputs": [],
      "execution_count": null
    },
    {
      "cell_type": "code",
      "source": [
        "sns.heatmap(confusion_matrix(y_test_stm, knn_pred_stm_word_vec)\n",
        "            , cmap='YlGnBu', linewidths=1, annot=True\n",
        "            , square=True, fmt='d', cbar=False)"
      ],
      "metadata": {
        "trusted": true,
        "execution": {
          "iopub.status.busy": "2025-03-12T07:58:07.637339Z",
          "iopub.status.idle": "2025-03-12T07:58:07.637614Z",
          "shell.execute_reply.started": "2025-03-12T07:58:07.637483Z",
          "shell.execute_reply": "2025-03-12T07:58:07.637497Z"
        },
        "id": "epUBSqq-Xxvt"
      },
      "outputs": [],
      "execution_count": null
    },
    {
      "cell_type": "code",
      "source": [
        "compute_metrics(y_test_stm, knn_pred_stm_word_vec)"
      ],
      "metadata": {
        "trusted": true,
        "execution": {
          "iopub.status.busy": "2025-03-12T07:58:07.638496Z",
          "iopub.status.idle": "2025-03-12T07:58:07.638801Z",
          "shell.execute_reply.started": "2025-03-12T07:58:07.638635Z",
          "shell.execute_reply": "2025-03-12T07:58:07.638649Z"
        },
        "id": "8Ng6z5vyXxvt"
      },
      "outputs": [],
      "execution_count": null
    },
    {
      "cell_type": "markdown",
      "source": [
        "### Word2Vec with lemmatization"
      ],
      "metadata": {
        "id": "GbmBHl8OXxvt"
      }
    },
    {
      "cell_type": "code",
      "source": [
        "knn_model_lem_word_vec = KNeighborsClassifier(n_neighbors=10)\n",
        "knn_model_lem_word_vec.fit(train_lem_word_vec, y_train_lem)"
      ],
      "metadata": {
        "trusted": true,
        "execution": {
          "iopub.status.busy": "2025-03-12T07:58:07.639575Z",
          "iopub.status.idle": "2025-03-12T07:58:07.639896Z",
          "shell.execute_reply.started": "2025-03-12T07:58:07.639721Z",
          "shell.execute_reply": "2025-03-12T07:58:07.639734Z"
        },
        "id": "hZOADRMqXxvt"
      },
      "outputs": [],
      "execution_count": null
    },
    {
      "cell_type": "code",
      "source": [
        "knn_pred_lem_word_vec_ = knn_model_lem_word_vec.predict(train_lem_word_vec)\n",
        "sns.heatmap(confusion_matrix(y_train_lem, knn_pred_lem_word_vec_)\n",
        "            , cmap='YlGnBu', linewidths=1, annot=True\n",
        "            , square=True, fmt='d', cbar=False)"
      ],
      "metadata": {
        "trusted": true,
        "execution": {
          "iopub.status.busy": "2025-03-12T07:58:07.64145Z",
          "iopub.status.idle": "2025-03-12T07:58:07.641725Z",
          "shell.execute_reply.started": "2025-03-12T07:58:07.641594Z",
          "shell.execute_reply": "2025-03-12T07:58:07.641608Z"
        },
        "id": "rfas2ZNRXxvu"
      },
      "outputs": [],
      "execution_count": null
    },
    {
      "cell_type": "code",
      "source": [
        "compute_metrics(y_train_lem, knn_pred_lem_word_vec_)"
      ],
      "metadata": {
        "trusted": true,
        "execution": {
          "iopub.status.busy": "2025-03-12T07:58:07.642697Z",
          "iopub.status.idle": "2025-03-12T07:58:07.643008Z",
          "shell.execute_reply.started": "2025-03-12T07:58:07.642868Z",
          "shell.execute_reply": "2025-03-12T07:58:07.642882Z"
        },
        "id": "ra5arW74Xxvu"
      },
      "outputs": [],
      "execution_count": null
    },
    {
      "cell_type": "code",
      "source": [
        "knn_pred_lem_word_vec = knn_model_lem_word_vec.predict(test_lem_word_vec)"
      ],
      "metadata": {
        "trusted": true,
        "execution": {
          "iopub.status.busy": "2025-03-12T07:58:07.643912Z",
          "iopub.status.idle": "2025-03-12T07:58:07.644178Z",
          "shell.execute_reply.started": "2025-03-12T07:58:07.644043Z",
          "shell.execute_reply": "2025-03-12T07:58:07.644055Z"
        },
        "id": "ur-RBivMXxvu"
      },
      "outputs": [],
      "execution_count": null
    },
    {
      "cell_type": "code",
      "source": [
        "sns.heatmap(confusion_matrix(y_test_lem, knn_pred_lem_word_vec)\n",
        "            , cmap='YlGnBu', linewidths=1, annot=True\n",
        "            , square=True, fmt='d', cbar=False)"
      ],
      "metadata": {
        "trusted": true,
        "execution": {
          "iopub.status.busy": "2025-03-12T07:58:07.645337Z",
          "iopub.status.idle": "2025-03-12T07:58:07.645599Z",
          "shell.execute_reply.started": "2025-03-12T07:58:07.645468Z",
          "shell.execute_reply": "2025-03-12T07:58:07.64548Z"
        },
        "id": "CARWNPGgXxvu"
      },
      "outputs": [],
      "execution_count": null
    },
    {
      "cell_type": "code",
      "source": [
        "compute_metrics(y_test_lem, knn_pred_lem_word_vec)"
      ],
      "metadata": {
        "trusted": true,
        "execution": {
          "iopub.status.busy": "2025-03-12T07:58:07.646634Z",
          "iopub.status.idle": "2025-03-12T07:58:07.646927Z",
          "shell.execute_reply.started": "2025-03-12T07:58:07.646792Z",
          "shell.execute_reply": "2025-03-12T07:58:07.646806Z"
        },
        "id": "7W54upiYXxvu"
      },
      "outputs": [],
      "execution_count": null
    },
    {
      "cell_type": "markdown",
      "source": [
        "### FastText with stemming"
      ],
      "metadata": {
        "id": "e2uAklmvXxvu"
      }
    },
    {
      "cell_type": "code",
      "source": [
        "knn_model_stm_ft = KNeighborsClassifier(n_neighbors=10)\n",
        "knn_model_stm_ft.fit(train_stm_ft, y_train_stm)"
      ],
      "metadata": {
        "trusted": true,
        "execution": {
          "iopub.status.busy": "2025-03-12T07:58:07.647784Z",
          "iopub.status.idle": "2025-03-12T07:58:07.648069Z",
          "shell.execute_reply.started": "2025-03-12T07:58:07.647936Z",
          "shell.execute_reply": "2025-03-12T07:58:07.64795Z"
        },
        "id": "Xrt_QBNoXxvu"
      },
      "outputs": [],
      "execution_count": null
    },
    {
      "cell_type": "code",
      "source": [
        "knn_pred_stm_ft_ = knn_model_stm_ft.predict(train_stm_ft)\n",
        "sns.heatmap(confusion_matrix(y_train_stm, knn_pred_stm_ft_)\n",
        "            , cmap='YlGnBu', linewidths=1, annot=True\n",
        "            , square=True, fmt='d', cbar=False)"
      ],
      "metadata": {
        "trusted": true,
        "execution": {
          "iopub.status.busy": "2025-03-12T07:58:07.648849Z",
          "iopub.status.idle": "2025-03-12T07:58:07.649107Z",
          "shell.execute_reply.started": "2025-03-12T07:58:07.648983Z",
          "shell.execute_reply": "2025-03-12T07:58:07.648995Z"
        },
        "id": "_OIMRzMQXxvu"
      },
      "outputs": [],
      "execution_count": null
    },
    {
      "cell_type": "code",
      "source": [
        "compute_metrics(y_train_stm, knn_pred_stm_ft_)"
      ],
      "metadata": {
        "trusted": true,
        "execution": {
          "iopub.status.busy": "2025-03-12T07:58:07.649905Z",
          "iopub.status.idle": "2025-03-12T07:58:07.650157Z",
          "shell.execute_reply.started": "2025-03-12T07:58:07.650035Z",
          "shell.execute_reply": "2025-03-12T07:58:07.650047Z"
        },
        "id": "yD9IJMWwXxvu"
      },
      "outputs": [],
      "execution_count": null
    },
    {
      "cell_type": "code",
      "source": [
        "knn_pred_stm_ft = knn_model_stm_ft.predict(test_stm_ft)"
      ],
      "metadata": {
        "trusted": true,
        "execution": {
          "iopub.status.busy": "2025-03-12T07:58:07.651288Z",
          "iopub.status.idle": "2025-03-12T07:58:07.651551Z",
          "shell.execute_reply.started": "2025-03-12T07:58:07.651419Z",
          "shell.execute_reply": "2025-03-12T07:58:07.651431Z"
        },
        "id": "Gx6NvIOhXxvu"
      },
      "outputs": [],
      "execution_count": null
    },
    {
      "cell_type": "code",
      "source": [
        "sns.heatmap(confusion_matrix(y_test_stm, knn_pred_stm_ft)\n",
        "            , cmap='YlGnBu', linewidths=1, annot=True\n",
        "            , square=True, fmt='d', cbar=False)"
      ],
      "metadata": {
        "trusted": true,
        "execution": {
          "iopub.status.busy": "2025-03-12T07:58:07.652459Z",
          "iopub.status.idle": "2025-03-12T07:58:07.65287Z",
          "shell.execute_reply.started": "2025-03-12T07:58:07.652645Z",
          "shell.execute_reply": "2025-03-12T07:58:07.652664Z"
        },
        "id": "jmgJolREXxvv"
      },
      "outputs": [],
      "execution_count": null
    },
    {
      "cell_type": "code",
      "source": [
        "compute_metrics(y_test_stm, knn_pred_stm_ft)"
      ],
      "metadata": {
        "trusted": true,
        "execution": {
          "iopub.status.busy": "2025-03-12T07:58:07.654575Z",
          "iopub.status.idle": "2025-03-12T07:58:07.655007Z",
          "shell.execute_reply.started": "2025-03-12T07:58:07.654784Z",
          "shell.execute_reply": "2025-03-12T07:58:07.654805Z"
        },
        "id": "sfQ_Q8xRXxvv"
      },
      "outputs": [],
      "execution_count": null
    },
    {
      "cell_type": "markdown",
      "source": [
        "### FastText with lemmatization"
      ],
      "metadata": {
        "id": "NP8GgR-SXxvv"
      }
    },
    {
      "cell_type": "code",
      "source": [
        "knn_model_lem_ft = KNeighborsClassifier(n_neighbors=10)\n",
        "knn_model_lem_ft.fit(train_lem_ft, y_train_lem)"
      ],
      "metadata": {
        "trusted": true,
        "execution": {
          "iopub.status.busy": "2025-03-12T07:58:07.656021Z",
          "iopub.status.idle": "2025-03-12T07:58:07.656414Z",
          "shell.execute_reply.started": "2025-03-12T07:58:07.656208Z",
          "shell.execute_reply": "2025-03-12T07:58:07.656227Z"
        },
        "id": "Gxr2DphoXxvv"
      },
      "outputs": [],
      "execution_count": null
    },
    {
      "cell_type": "code",
      "source": [
        "knn_pred_lem_ft_ = knn_model_lem_ft.predict(train_lem_ft)\n",
        "sns.heatmap(confusion_matrix(y_train_lem, knn_pred_lem_ft_)\n",
        "            , cmap='YlGnBu', linewidths=1, annot=True\n",
        "            , square=True, fmt='d', cbar=False)"
      ],
      "metadata": {
        "trusted": true,
        "execution": {
          "iopub.status.busy": "2025-03-12T07:58:07.657594Z",
          "iopub.status.idle": "2025-03-12T07:58:07.658013Z",
          "shell.execute_reply.started": "2025-03-12T07:58:07.657797Z",
          "shell.execute_reply": "2025-03-12T07:58:07.657818Z"
        },
        "id": "AurKOGTEXxvv"
      },
      "outputs": [],
      "execution_count": null
    },
    {
      "cell_type": "code",
      "source": [
        "compute_metrics(y_train_lem, knn_pred_lem_ft_)"
      ],
      "metadata": {
        "trusted": true,
        "execution": {
          "iopub.status.busy": "2025-03-12T07:58:07.659566Z",
          "iopub.status.idle": "2025-03-12T07:58:07.659993Z",
          "shell.execute_reply.started": "2025-03-12T07:58:07.659776Z",
          "shell.execute_reply": "2025-03-12T07:58:07.659797Z"
        },
        "id": "idgtS1R4Xxvv"
      },
      "outputs": [],
      "execution_count": null
    },
    {
      "cell_type": "code",
      "source": [
        "knn_pred_lem_ft = knn_model_lem_ft.predict(test_lem_ft)"
      ],
      "metadata": {
        "trusted": true,
        "execution": {
          "iopub.status.busy": "2025-03-12T07:58:07.661196Z",
          "iopub.status.idle": "2025-03-12T07:58:07.661587Z",
          "shell.execute_reply.started": "2025-03-12T07:58:07.661386Z",
          "shell.execute_reply": "2025-03-12T07:58:07.661405Z"
        },
        "id": "QNexu_M8Xxvw"
      },
      "outputs": [],
      "execution_count": null
    },
    {
      "cell_type": "code",
      "source": [
        "sns.heatmap(confusion_matrix(y_test_lem, knn_pred_lem_ft)\n",
        "            , cmap='YlGnBu', linewidths=1, annot=True\n",
        "            , square=True, fmt='d', cbar=False)"
      ],
      "metadata": {
        "trusted": true,
        "execution": {
          "iopub.status.busy": "2025-03-12T07:58:07.663327Z",
          "iopub.status.idle": "2025-03-12T07:58:07.663718Z",
          "shell.execute_reply.started": "2025-03-12T07:58:07.663516Z",
          "shell.execute_reply": "2025-03-12T07:58:07.663535Z"
        },
        "id": "VqJXfs1dXxvw"
      },
      "outputs": [],
      "execution_count": null
    },
    {
      "cell_type": "code",
      "source": [
        "compute_metrics(y_test_lem, knn_pred_lem_ft)"
      ],
      "metadata": {
        "trusted": true,
        "execution": {
          "iopub.status.busy": "2025-03-12T07:58:07.665193Z",
          "iopub.status.idle": "2025-03-12T07:58:07.665591Z",
          "shell.execute_reply.started": "2025-03-12T07:58:07.665385Z",
          "shell.execute_reply": "2025-03-12T07:58:07.665404Z"
        },
        "id": "HqxuB5JaXxvw"
      },
      "outputs": [],
      "execution_count": null
    },
    {
      "cell_type": "markdown",
      "source": [
        "## Self-made models"
      ],
      "metadata": {
        "id": "tLFAV70ZXxvw"
      }
    },
    {
      "cell_type": "markdown",
      "source": [
        "### CNN"
      ],
      "metadata": {
        "id": "Kh1K2APqXxvw"
      }
    },
    {
      "cell_type": "code",
      "source": [
        "class CNNModel_v1(nn.Module):\n",
        "    def __init__(self, embed_size=250, hidden_size=50, num_classes=10):\n",
        "        super(CNNModel_v1,self).__init__()\n",
        "        self.embeddings = nn.Embedding(embed_size, embedding_dim=embed_size)\n",
        "        self.cnn = nn.Sequential(\n",
        "            nn.Conv1d(embed_size, hidden_size, kernel_size=3, padding=1, stride=2),\n",
        "            nn.BatchNorm1d(hidden_size),\n",
        "            nn.ReLU(),\n",
        "            nn.Conv1d(hidden_size, hidden_size, kernel_size=3, padding=1, stride=2),\n",
        "            nn.BatchNorm1d(hidden_size),\n",
        "            nn.ReLU(),\n",
        "            nn.AdaptiveMaxPool1d(1),\n",
        "            nn.Flatten(),\n",
        "        )\n",
        "        self.cl = nn.Sequential(\n",
        "            nn.Linear(hidden_size, num_classes)\n",
        "        )\n",
        "\n",
        "    def forward(self, x):\n",
        "        x = self.embeddings(x)\n",
        "        x = self.cnn(x)\n",
        "        prediction = self.cl(x)\n",
        "        return prediction"
      ],
      "metadata": {
        "trusted": true,
        "execution": {
          "iopub.status.busy": "2025-03-12T07:58:07.666934Z",
          "iopub.status.idle": "2025-03-12T07:58:07.667343Z",
          "shell.execute_reply.started": "2025-03-12T07:58:07.667139Z",
          "shell.execute_reply": "2025-03-12T07:58:07.667159Z"
        },
        "id": "6HF47WTgXxvw"
      },
      "outputs": [],
      "execution_count": null
    },
    {
      "cell_type": "code",
      "source": [
        "def text_to_tensor(text, vectorizer,emp_base):\n",
        "    new_tensor = list()\n",
        "    if emp_base:\n",
        "        vocab_dict = vectorizer.vocabulary_\n",
        "        for word in text.split():\n",
        "            word_id = vocab_dict.get(word, 0)\n",
        "            new_tensor.append(word_id)\n",
        "    else:\n",
        "        for word in text.split():\n",
        "            try:\n",
        "                word_id = vectorizer.wv.key_to_index[word]\n",
        "            except KeyError:\n",
        "                word_id = 0\n",
        "            new_tensor.append(word_id)\n",
        "    return new_tensor\n",
        "\n",
        "def collate_batch(batch):\n",
        "    label_list, text_list = [], []\n",
        "    label_pipeline = lambda x: int(x)\n",
        "    for (_text, _label,_vectorizer,_emp_base) in batch:\n",
        "        label_list.append(label_pipeline(_label))\n",
        "        text_list.append(text_to_tensor(_text, _vectorizer,_emp_base))\n",
        "    if _emp_base:\n",
        "        max_len = len(_vectorizer.vocabulary_)\n",
        "    else:\n",
        "        max_len = _vectorizer.vector_size\n",
        "    matrix = np.full((len(text_list), max_len), 0)\n",
        "    for i, tensor in enumerate(text_list):\n",
        "            matrix[i, :len(tensor[:max_len])] = tensor[:max_len]\n",
        "    text_tensor = torch.tensor(matrix, dtype=torch.int64)\n",
        "    label_list = torch.tensor(label_list, dtype=torch.int64)\n",
        "    return  text_tensor.to(device), label_list.to(device)\n",
        "\n",
        "\n",
        "def train(model,train_dataloader,optimizer,criterion):\n",
        "    model.train()\n",
        "    total_acc, total_count = 0, 0\n",
        "    batch_losses = []\n",
        "    for idx, (text, label) in enumerate(train_dataloader):\n",
        "        optimizer.zero_grad()\n",
        "        output = model(text)\n",
        "        loss = criterion(output, label)\n",
        "        loss.backward()\n",
        "        torch.nn.utils.clip_grad_norm_(model.parameters(), 2)\n",
        "        optimizer.step()\n",
        "        total_acc += (output.argmax(1) == label).sum().item()\n",
        "        total_count += label.size(0)\n",
        "        batch_losses.append(loss.item())\n",
        "    model.eval()\n",
        "    train_loss = np.mean(batch_losses)\n",
        "    train_acc = 100 * total_acc/total_count\n",
        "\n",
        "\n",
        "    return train_loss, train_acc"
      ],
      "metadata": {
        "trusted": true,
        "execution": {
          "iopub.status.busy": "2025-03-12T07:58:07.668819Z",
          "iopub.status.idle": "2025-03-12T07:58:07.669088Z",
          "shell.execute_reply.started": "2025-03-12T07:58:07.668956Z",
          "shell.execute_reply": "2025-03-12T07:58:07.668968Z"
        },
        "id": "oUpoHmu1Xxvw"
      },
      "outputs": [],
      "execution_count": null
    },
    {
      "cell_type": "code",
      "source": [
        "def calc_model(self_model,df_dict,vectorizer,emb_base=True,epoch=20,df_type='stm',max_len=250,hidden_len=50):\n",
        "    model = self_model(max_len,hidden_len).to(device)\n",
        "    print(model)\n",
        "\n",
        "    df_string =  pd.DataFrame(df_dict.apply(\" \".join))\n",
        "    if df_type == 'stm':\n",
        "        df_string['case_outcome_num'] = y_train_stm['case_outcome_num']\n",
        "    elif df_type == 'lem':\n",
        "        df_string['case_outcome_num'] = y_train_lem['case_outcome_num']\n",
        "    else:\n",
        "        print(\"Error\")\n",
        "        return\n",
        "    df_string['vectorizer'] = vectorizer\n",
        "    df_string['emb_base'] = emb_base\n",
        "\n",
        "    train_dataloader = DataLoader(df_string.values, batch_size=64, shuffle=True, collate_fn=collate_batch)\n",
        "\n",
        "    criterion = nn.CrossEntropyLoss()\n",
        "    optimizer = optim.Adam(model.parameters(), lr=0.1)\n",
        "    current_loss = 0\n",
        "    current_acc = 0\n",
        "    all_losses = []\n",
        "    acc_list = []\n",
        "\n",
        "    for i in range(epoch):\n",
        "        print(f'Эпоха {i+1}')\n",
        "        loss, acc = train(model,train_dataloader,optimizer,criterion)\n",
        "        current_loss += loss\n",
        "        current_acc += acc\n",
        "        print('Current loss:', current_loss)\n",
        "        print('Current accuracy:', current_acc)\n",
        "        all_losses.append(current_loss)\n",
        "        acc_list.append(100 * current_acc)\n",
        "        current_loss = 0\n",
        "        current_acc = 0\n",
        "\n",
        "    plt.figure()\n",
        "    plt.plot(all_losses)\n",
        "    plt.show()\n",
        "    return model,train_dataloader"
      ],
      "metadata": {
        "trusted": true,
        "execution": {
          "iopub.status.busy": "2025-03-12T07:58:07.670134Z",
          "iopub.status.idle": "2025-03-12T07:58:07.670432Z",
          "shell.execute_reply.started": "2025-03-12T07:58:07.670289Z",
          "shell.execute_reply": "2025-03-12T07:58:07.670305Z"
        },
        "id": "aYBIOgrIXxvw"
      },
      "outputs": [],
      "execution_count": null
    },
    {
      "cell_type": "code",
      "source": [
        "def calc_model_metrics(model,dataloader):\n",
        "    prediction_list = []\n",
        "    labels_list = []\n",
        "    with torch.no_grad():\n",
        "        correct = 0\n",
        "        num_objs = 0\n",
        "        for batch in dataloader:\n",
        "            input_embeds = batch[0].to(device)\n",
        "            labels = batch[1].to(device)\n",
        "            prediction = model(input_embeds)\n",
        "            prediction_list.append(list(np.array(prediction.argmax(1))))\n",
        "            labels_list.append(list(np.array(labels)))\n",
        "    lab = []\n",
        "    pred = []\n",
        "    for i in range(len(prediction_list)):\n",
        "        for j in range(len(prediction_list[i])):\n",
        "            lab.append(labels_list[i][j])\n",
        "            pred.append(prediction_list[i][j])\n",
        "    compute_metrics(lab, pred)"
      ],
      "metadata": {
        "trusted": true,
        "execution": {
          "iopub.status.busy": "2025-03-12T07:58:07.671555Z",
          "iopub.status.idle": "2025-03-12T07:58:07.671845Z",
          "shell.execute_reply.started": "2025-03-12T07:58:07.671684Z",
          "shell.execute_reply": "2025-03-12T07:58:07.671696Z"
        },
        "id": "Jf3WIzuOXxvx"
      },
      "outputs": [],
      "execution_count": null
    },
    {
      "cell_type": "code",
      "source": [
        "def calc_test_data(df_data, vectorizer,df_type='stm',emb_base=True):\n",
        "    df_string =  pd.DataFrame(df_data.apply(\" \".join))\n",
        "    if df_type == 'stm':\n",
        "        df_string['case_outcome_num'] = y_test_stm['case_outcome_num']\n",
        "    elif df_type == 'lem':\n",
        "        df_string['case_outcome_num'] = y_test_lem['case_outcome_num']\n",
        "    else:\n",
        "        print(\"Error\")\n",
        "        return\n",
        "    df_string['vectorizer'] = vectorizer\n",
        "    df_string['emb_base'] = emb_base\n",
        "\n",
        "    return DataLoader(df_string.values, batch_size=64, shuffle=True, collate_fn=collate_batch)"
      ],
      "metadata": {
        "trusted": true,
        "execution": {
          "iopub.status.busy": "2025-03-12T07:58:07.673249Z",
          "iopub.status.idle": "2025-03-12T07:58:07.673648Z",
          "shell.execute_reply.started": "2025-03-12T07:58:07.673442Z",
          "shell.execute_reply": "2025-03-12T07:58:07.673461Z"
        },
        "id": "cXwlYsf7Xxvx"
      },
      "outputs": [],
      "execution_count": null
    },
    {
      "cell_type": "markdown",
      "source": [
        "Для экспериментов выбраны 250 эмбеддингов для того, чтобы быстрее можно было рассчитать."
      ],
      "metadata": {
        "id": "TSUNM0mXXxvx"
      }
    },
    {
      "cell_type": "code",
      "source": [
        "max_len = 250\n",
        "hidden = 50\n",
        "device = torch.device(\"cuda\" if torch.cuda.is_available() else \"cpu\")"
      ],
      "metadata": {
        "trusted": true,
        "execution": {
          "iopub.status.busy": "2025-03-12T07:58:07.674995Z",
          "iopub.status.idle": "2025-03-12T07:58:07.675391Z",
          "shell.execute_reply.started": "2025-03-12T07:58:07.67519Z",
          "shell.execute_reply": "2025-03-12T07:58:07.675211Z"
        },
        "id": "kOX41bDdXxvx"
      },
      "outputs": [],
      "execution_count": null
    },
    {
      "cell_type": "markdown",
      "source": [
        "### CNN with count vectorizer and stemming"
      ],
      "metadata": {
        "id": "dXo3ZbSbXxvx"
      }
    },
    {
      "cell_type": "code",
      "source": [
        "count_vectorizer_stm_fm = CountVectorizer(max_features=250)\n",
        "_ = count_vectorizer_stm_fm.fit_transform(train_stm_ser.apply(' '.join))"
      ],
      "metadata": {
        "trusted": true,
        "execution": {
          "iopub.status.busy": "2025-03-12T07:58:07.676637Z",
          "iopub.status.idle": "2025-03-12T07:58:07.677056Z",
          "shell.execute_reply.started": "2025-03-12T07:58:07.676845Z",
          "shell.execute_reply": "2025-03-12T07:58:07.676863Z"
        },
        "id": "ajyA6RKeXxvx"
      },
      "outputs": [],
      "execution_count": null
    },
    {
      "cell_type": "code",
      "source": [
        "model_250_stm_count_vec,train_dl_stm_count_vec =\\\n",
        "calc_model(CNNModel_v1,train_stm_ser,count_vectorizer_stm_fm,True,20,'stm',max_len,hidden)"
      ],
      "metadata": {
        "trusted": true,
        "execution": {
          "iopub.status.busy": "2025-03-12T07:58:07.67802Z",
          "iopub.status.idle": "2025-03-12T07:58:07.678412Z",
          "shell.execute_reply.started": "2025-03-12T07:58:07.67821Z",
          "shell.execute_reply": "2025-03-12T07:58:07.678229Z"
        },
        "id": "6pZLMDIWXxvy"
      },
      "outputs": [],
      "execution_count": null
    },
    {
      "cell_type": "code",
      "source": [
        "calc_model_metrics(model_250_stm_count_vec,train_dl_stm_count_vec)"
      ],
      "metadata": {
        "trusted": true,
        "execution": {
          "iopub.status.busy": "2025-03-12T07:58:07.679443Z",
          "iopub.status.idle": "2025-03-12T07:58:07.679894Z",
          "shell.execute_reply.started": "2025-03-12T07:58:07.679644Z",
          "shell.execute_reply": "2025-03-12T07:58:07.679665Z"
        },
        "id": "0uTeZE4tXxvy"
      },
      "outputs": [],
      "execution_count": null
    },
    {
      "cell_type": "code",
      "source": [
        "test_dl_stm_count_vec = calc_test_data(test_stm_ser,count_vectorizer_stm_fm,'stm',True)\n",
        "calc_model_metrics(model_250_stm_count_vec,test_dl_stm_count_vec)"
      ],
      "metadata": {
        "trusted": true,
        "execution": {
          "iopub.status.busy": "2025-03-12T07:58:07.680997Z",
          "iopub.status.idle": "2025-03-12T07:58:07.681396Z",
          "shell.execute_reply.started": "2025-03-12T07:58:07.68119Z",
          "shell.execute_reply": "2025-03-12T07:58:07.68121Z"
        },
        "id": "3M2RBNB5Xxvy"
      },
      "outputs": [],
      "execution_count": null
    },
    {
      "cell_type": "markdown",
      "source": [
        "### CNN with count vectorizer and lemmatizations"
      ],
      "metadata": {
        "id": "qbVBYapAXxvy"
      }
    },
    {
      "cell_type": "code",
      "source": [
        "count_vectorizer_lem_fm = CountVectorizer(max_features=250)\n",
        "_ = count_vectorizer_lem_fm.fit_transform(train_lem_ser.apply(' '.join))"
      ],
      "metadata": {
        "trusted": true,
        "execution": {
          "iopub.status.busy": "2025-03-12T07:58:07.682908Z",
          "iopub.status.idle": "2025-03-12T07:58:07.683313Z",
          "shell.execute_reply.started": "2025-03-12T07:58:07.683111Z",
          "shell.execute_reply": "2025-03-12T07:58:07.683131Z"
        },
        "id": "71JHhZvTXxvy"
      },
      "outputs": [],
      "execution_count": null
    },
    {
      "cell_type": "code",
      "source": [
        "model_250_lem_count_vec,train_dl_lem_count_vec =\\\n",
        "calc_model(CNNModel_v1,train_lem_ser,count_vectorizer_lem_fm,True,20,'lem',max_len,hidden)"
      ],
      "metadata": {
        "trusted": true,
        "execution": {
          "iopub.status.busy": "2025-03-12T07:58:07.68463Z",
          "iopub.status.idle": "2025-03-12T07:58:07.685071Z",
          "shell.execute_reply.started": "2025-03-12T07:58:07.684835Z",
          "shell.execute_reply": "2025-03-12T07:58:07.684855Z"
        },
        "id": "WvEXIkQQXxvy"
      },
      "outputs": [],
      "execution_count": null
    },
    {
      "cell_type": "code",
      "source": [
        "calc_model_metrics(model_250_lem_count_vec,train_dl_lem_count_vec)"
      ],
      "metadata": {
        "trusted": true,
        "execution": {
          "iopub.status.busy": "2025-03-12T07:58:07.686801Z",
          "iopub.status.idle": "2025-03-12T07:58:07.687215Z",
          "shell.execute_reply.started": "2025-03-12T07:58:07.687001Z",
          "shell.execute_reply": "2025-03-12T07:58:07.687021Z"
        },
        "id": "8SGEQtm7Xxvy"
      },
      "outputs": [],
      "execution_count": null
    },
    {
      "cell_type": "code",
      "source": [
        "test_dl_lem_count_vec = calc_test_data(test_lem_ser,count_vectorizer_lem_fm,'lem')\n",
        "calc_model_metrics(model_250_lem_count_vec,test_dl_lem_count_vec)"
      ],
      "metadata": {
        "trusted": true,
        "execution": {
          "iopub.status.busy": "2025-03-12T07:58:07.688294Z",
          "iopub.status.idle": "2025-03-12T07:58:07.688687Z",
          "shell.execute_reply.started": "2025-03-12T07:58:07.688483Z",
          "shell.execute_reply": "2025-03-12T07:58:07.688503Z"
        },
        "id": "A-II207kXxvy"
      },
      "outputs": [],
      "execution_count": null
    },
    {
      "cell_type": "markdown",
      "source": [
        "### CNN with TF-IDF and stemming"
      ],
      "metadata": {
        "id": "a-3WxXVyXxvy"
      }
    },
    {
      "cell_type": "code",
      "source": [
        "tf_idf_vectorizer_stm_fm = TfidfVectorizer(max_features=250)\n",
        "_ = tf_idf_vectorizer_stm_fm.fit_transform(train_stm_ser.apply(' '.join))"
      ],
      "metadata": {
        "trusted": true,
        "execution": {
          "iopub.status.busy": "2025-03-12T07:58:07.690099Z",
          "iopub.status.idle": "2025-03-12T07:58:07.690493Z",
          "shell.execute_reply.started": "2025-03-12T07:58:07.690289Z",
          "shell.execute_reply": "2025-03-12T07:58:07.69031Z"
        },
        "id": "BLf9SgvJXxvy"
      },
      "outputs": [],
      "execution_count": null
    },
    {
      "cell_type": "code",
      "source": [
        "model_250_stm_tf_idf, train_dl_stm_tf_idf = \\\n",
        "calc_model(CNNModel_v1,train_stm_ser,tf_idf_vectorizer_stm_fm,True,20,'stm',max_len,hidden)"
      ],
      "metadata": {
        "trusted": true,
        "execution": {
          "iopub.status.busy": "2025-03-12T07:58:07.691756Z",
          "iopub.status.idle": "2025-03-12T07:58:07.692162Z",
          "shell.execute_reply.started": "2025-03-12T07:58:07.691949Z",
          "shell.execute_reply": "2025-03-12T07:58:07.691969Z"
        },
        "id": "xK9trQTaXxvz"
      },
      "outputs": [],
      "execution_count": null
    },
    {
      "cell_type": "code",
      "source": [
        "calc_model_metrics(model_250_stm_tf_idf,train_dl_stm_tf_idf)"
      ],
      "metadata": {
        "trusted": true,
        "execution": {
          "iopub.status.busy": "2025-03-12T07:58:07.693111Z",
          "iopub.status.idle": "2025-03-12T07:58:07.693503Z",
          "shell.execute_reply.started": "2025-03-12T07:58:07.693301Z",
          "shell.execute_reply": "2025-03-12T07:58:07.69332Z"
        },
        "id": "rsEn8dvGXxvz"
      },
      "outputs": [],
      "execution_count": null
    },
    {
      "cell_type": "code",
      "source": [
        "test_dl_stm_tf_idf = calc_test_data(test_stm_ser,tf_idf_vectorizer_stm_fm,'stm')\n",
        "calc_model_metrics(model_250_stm_tf_idf,test_dl_stm_tf_idf)"
      ],
      "metadata": {
        "trusted": true,
        "execution": {
          "iopub.status.busy": "2025-03-12T07:58:07.695047Z",
          "iopub.status.idle": "2025-03-12T07:58:07.695438Z",
          "shell.execute_reply.started": "2025-03-12T07:58:07.695236Z",
          "shell.execute_reply": "2025-03-12T07:58:07.695255Z"
        },
        "id": "X6VKMgQCXxvz"
      },
      "outputs": [],
      "execution_count": null
    },
    {
      "cell_type": "markdown",
      "source": [
        "### CNN with TF-IDF and lemmatizations"
      ],
      "metadata": {
        "id": "HTaW1AxOXxvz"
      }
    },
    {
      "cell_type": "code",
      "source": [
        "tf_idf_vectorizer_lem_fm = TfidfVectorizer(max_features=max_len)\n",
        "_ = tf_idf_vectorizer_lem_fm.fit_transform(train_lem_ser.apply(' '.join))"
      ],
      "metadata": {
        "trusted": true,
        "execution": {
          "iopub.status.busy": "2025-03-12T07:58:07.696954Z",
          "iopub.status.idle": "2025-03-12T07:58:07.697351Z",
          "shell.execute_reply.started": "2025-03-12T07:58:07.697151Z",
          "shell.execute_reply": "2025-03-12T07:58:07.69717Z"
        },
        "id": "Ai66Op2XXxvz"
      },
      "outputs": [],
      "execution_count": null
    },
    {
      "cell_type": "code",
      "source": [
        "model_250_lem_tf_idf, train_dl_lem_tf_idf = \\\n",
        "calc_model(CNNModel_v1,train_lem_ser,tf_idf_vectorizer_lem_fm,True,20,'lem',max_len,hidden)"
      ],
      "metadata": {
        "trusted": true,
        "execution": {
          "iopub.status.busy": "2025-03-12T07:58:07.69854Z",
          "iopub.status.idle": "2025-03-12T07:58:07.69896Z",
          "shell.execute_reply.started": "2025-03-12T07:58:07.698733Z",
          "shell.execute_reply": "2025-03-12T07:58:07.698771Z"
        },
        "id": "l-Lb17wFXxvz"
      },
      "outputs": [],
      "execution_count": null
    },
    {
      "cell_type": "code",
      "source": [
        "calc_model_metrics(model_250_lem_tf_idf,train_dl_lem_tf_idf)"
      ],
      "metadata": {
        "trusted": true,
        "execution": {
          "iopub.status.busy": "2025-03-12T07:58:07.699771Z",
          "iopub.status.idle": "2025-03-12T07:58:07.700179Z",
          "shell.execute_reply.started": "2025-03-12T07:58:07.699965Z",
          "shell.execute_reply": "2025-03-12T07:58:07.699994Z"
        },
        "id": "7iY2GGIfXxvz"
      },
      "outputs": [],
      "execution_count": null
    },
    {
      "cell_type": "code",
      "source": [
        "test_dl_lem_tf_idf = calc_test_data(test_lem_ser,tf_idf_vectorizer_lem_fm,'lem')\n",
        "calc_model_metrics(model_250_lem_tf_idf,test_dl_lem_tf_idf)"
      ],
      "metadata": {
        "scrolled": true,
        "trusted": true,
        "execution": {
          "iopub.status.busy": "2025-03-12T07:58:07.701794Z",
          "iopub.status.idle": "2025-03-12T07:58:07.702201Z",
          "shell.execute_reply.started": "2025-03-12T07:58:07.701993Z",
          "shell.execute_reply": "2025-03-12T07:58:07.702013Z"
        },
        "id": "LuQds3e2Xxvz"
      },
      "outputs": [],
      "execution_count": null
    },
    {
      "cell_type": "markdown",
      "source": [
        "### CNN with Word2Vec and stemming"
      ],
      "metadata": {
        "id": "fI_qbr2wXxvz"
      }
    },
    {
      "cell_type": "code",
      "source": [
        "w2v_model_stm_fm = Word2Vec(train_stm_ser\n",
        "                     , vector_size=max_len\n",
        "                     , min_count=3\n",
        "                     , workers=4\n",
        "                     , max_final_vocab=max_len)\n",
        "w2v_model_stm_fm.build_vocab(train_stm_ser)\n",
        "w2v_model_stm_fm.train(train_stm_ser\n",
        "                , total_examples= w2v_model_stm_fm.corpus_count\n",
        "                , epochs=w2v_model_stm_fm.epochs)"
      ],
      "metadata": {
        "trusted": true,
        "execution": {
          "iopub.status.busy": "2025-03-12T07:58:07.70417Z",
          "iopub.status.idle": "2025-03-12T07:58:07.704465Z",
          "shell.execute_reply.started": "2025-03-12T07:58:07.704329Z",
          "shell.execute_reply": "2025-03-12T07:58:07.704344Z"
        },
        "id": "mVfSyxfbXxvz"
      },
      "outputs": [],
      "execution_count": null
    },
    {
      "cell_type": "code",
      "source": [
        "model_250_stm_w2v, train_dl_stm_w2v = \\\n",
        "calc_model(CNNModel_v1,train_stm_ser,w2v_model_stm_fm,False,20,'stm',max_len,hidden)"
      ],
      "metadata": {
        "scrolled": true,
        "trusted": true,
        "execution": {
          "iopub.status.busy": "2025-03-12T07:58:07.705581Z",
          "iopub.status.idle": "2025-03-12T07:58:07.705898Z",
          "shell.execute_reply.started": "2025-03-12T07:58:07.705725Z",
          "shell.execute_reply": "2025-03-12T07:58:07.705757Z"
        },
        "id": "5LsEim66Xxvz"
      },
      "outputs": [],
      "execution_count": null
    },
    {
      "cell_type": "code",
      "source": [
        "calc_model_metrics(model_250_stm_w2v,train_dl_stm_w2v)"
      ],
      "metadata": {
        "trusted": true,
        "execution": {
          "iopub.status.busy": "2025-03-12T07:58:07.706984Z",
          "iopub.status.idle": "2025-03-12T07:58:07.707254Z",
          "shell.execute_reply.started": "2025-03-12T07:58:07.707129Z",
          "shell.execute_reply": "2025-03-12T07:58:07.70714Z"
        },
        "id": "iFYtKdpOXxv0"
      },
      "outputs": [],
      "execution_count": null
    },
    {
      "cell_type": "code",
      "source": [
        "test_dl_stm_w2v = calc_test_data(test_stm_ser,w2v_model_stm_fm,'stm',False)\n",
        "calc_model_metrics(model_250_stm_w2v,test_dl_stm_w2v)"
      ],
      "metadata": {
        "trusted": true,
        "execution": {
          "iopub.status.busy": "2025-03-12T07:58:07.708474Z",
          "iopub.status.idle": "2025-03-12T07:58:07.708837Z",
          "shell.execute_reply.started": "2025-03-12T07:58:07.708657Z",
          "shell.execute_reply": "2025-03-12T07:58:07.708675Z"
        },
        "id": "uIzoKSI3Xxv0"
      },
      "outputs": [],
      "execution_count": null
    },
    {
      "cell_type": "markdown",
      "source": [
        "### CNN with Word2Vec and lemmatizations"
      ],
      "metadata": {
        "id": "Rwdslw1GXxv0"
      }
    },
    {
      "cell_type": "code",
      "source": [
        "w2v_model_lem_fm = Word2Vec(train_lem_ser\n",
        "                            ,vector_size=max_len\n",
        "                            ,min_count=3\n",
        "                            ,workers=4\n",
        "                            ,max_final_vocab=max_len)\n",
        "w2v_model_lem_fm.build_vocab(train_lem_ser)\n",
        "w2v_model_lem_fm.train(train_lem_ser\n",
        "                , total_examples= w2v_model_lem_fm.corpus_count\n",
        "                , epochs=w2v_model_lem_fm.epochs)"
      ],
      "metadata": {
        "trusted": true,
        "execution": {
          "iopub.status.busy": "2025-03-12T07:58:07.710157Z",
          "iopub.status.idle": "2025-03-12T07:58:07.710457Z",
          "shell.execute_reply.started": "2025-03-12T07:58:07.710316Z",
          "shell.execute_reply": "2025-03-12T07:58:07.71033Z"
        },
        "id": "hSAMcZqnXxv0"
      },
      "outputs": [],
      "execution_count": null
    },
    {
      "cell_type": "code",
      "source": [
        "model_250_lem_w2v, train_dl_lem_w2v = \\\n",
        "calc_model(CNNModel_v1,train_lem_ser,w2v_model_lem_fm,False,20,'lem',max_len,hidden)"
      ],
      "metadata": {
        "trusted": true,
        "execution": {
          "iopub.status.busy": "2025-03-12T07:58:07.712032Z",
          "iopub.status.idle": "2025-03-12T07:58:07.712352Z",
          "shell.execute_reply.started": "2025-03-12T07:58:07.712184Z",
          "shell.execute_reply": "2025-03-12T07:58:07.712198Z"
        },
        "id": "eTqWsX1ZXxv0"
      },
      "outputs": [],
      "execution_count": null
    },
    {
      "cell_type": "code",
      "source": [
        "calc_model_metrics(model_250_lem_w2v,train_dl_lem_w2v)"
      ],
      "metadata": {
        "trusted": true,
        "execution": {
          "iopub.status.busy": "2025-03-12T07:58:07.713357Z",
          "iopub.status.idle": "2025-03-12T07:58:07.713733Z",
          "shell.execute_reply.started": "2025-03-12T07:58:07.713539Z",
          "shell.execute_reply": "2025-03-12T07:58:07.713558Z"
        },
        "id": "wVOYTnZEXxv0"
      },
      "outputs": [],
      "execution_count": null
    },
    {
      "cell_type": "code",
      "source": [
        "test_dl_lem_w2v = calc_test_data(test_lem_ser,w2v_model_lem_fm,'lem',False)\n",
        "calc_model_metrics(model_250_lem_w2v,test_dl_lem_w2v)"
      ],
      "metadata": {
        "trusted": true,
        "execution": {
          "iopub.status.busy": "2025-03-12T07:58:07.714985Z",
          "iopub.status.idle": "2025-03-12T07:58:07.715381Z",
          "shell.execute_reply.started": "2025-03-12T07:58:07.715179Z",
          "shell.execute_reply": "2025-03-12T07:58:07.715199Z"
        },
        "id": "4995NbZ2Xxv0"
      },
      "outputs": [],
      "execution_count": null
    },
    {
      "cell_type": "markdown",
      "source": [
        "### CNN with FastText and stemming"
      ],
      "metadata": {
        "id": "Rz-qAEwuXxv0"
      }
    },
    {
      "cell_type": "code",
      "source": [
        "ft_model_stm_fm = FastText(train_stm_ser\n",
        "                        ,vector_size=max_len\n",
        "                        ,window=3\n",
        "                        ,min_count=2\n",
        "                        ,max_final_vocab=max_len)\n",
        "ft_model_stm_fm.build_vocab(train_stm_ser)\n",
        "ft_model_stm_fm.train(train_stm_ser\n",
        "                   ,total_examples=ft_model_stm_fm.corpus_count\n",
        "                   ,epochs=ft_model_stm_fm.epochs)"
      ],
      "metadata": {
        "trusted": true,
        "execution": {
          "iopub.status.busy": "2025-03-12T07:58:07.71705Z",
          "iopub.status.idle": "2025-03-12T07:58:07.717446Z",
          "shell.execute_reply.started": "2025-03-12T07:58:07.717243Z",
          "shell.execute_reply": "2025-03-12T07:58:07.717262Z"
        },
        "id": "KBiunay2Xxv0"
      },
      "outputs": [],
      "execution_count": null
    },
    {
      "cell_type": "code",
      "source": [
        "model_250_stm_ft, train_dl_stm_ft = \\\n",
        "calc_model(CNNModel_v1,train_stm_ser,ft_model_stm_fm,False,20,'stm',max_len,hidden)"
      ],
      "metadata": {
        "trusted": true,
        "execution": {
          "iopub.status.busy": "2025-03-12T07:58:07.718515Z",
          "iopub.status.idle": "2025-03-12T07:58:07.718921Z",
          "shell.execute_reply.started": "2025-03-12T07:58:07.7187Z",
          "shell.execute_reply": "2025-03-12T07:58:07.718719Z"
        },
        "id": "_6SjYLilXxv0"
      },
      "outputs": [],
      "execution_count": null
    },
    {
      "cell_type": "code",
      "source": [
        "calc_model_metrics(model_250_stm_ft,train_dl_stm_ft)"
      ],
      "metadata": {
        "trusted": true,
        "execution": {
          "iopub.status.busy": "2025-03-12T07:58:07.7202Z",
          "iopub.status.idle": "2025-03-12T07:58:07.72061Z",
          "shell.execute_reply.started": "2025-03-12T07:58:07.720388Z",
          "shell.execute_reply": "2025-03-12T07:58:07.720407Z"
        },
        "id": "S5x-cu0qXxv0"
      },
      "outputs": [],
      "execution_count": null
    },
    {
      "cell_type": "code",
      "source": [
        "test_dl_stm_ft = calc_test_data(test_stm_ser,ft_model_stm_fm,'stm',False)\n",
        "calc_model_metrics(model_250_stm_ft,test_dl_stm_ft)"
      ],
      "metadata": {
        "trusted": true,
        "execution": {
          "iopub.status.busy": "2025-03-12T07:58:07.721489Z",
          "iopub.status.idle": "2025-03-12T07:58:07.721791Z",
          "shell.execute_reply.started": "2025-03-12T07:58:07.721635Z",
          "shell.execute_reply": "2025-03-12T07:58:07.721647Z"
        },
        "id": "_jAhMfABXxv0"
      },
      "outputs": [],
      "execution_count": null
    },
    {
      "cell_type": "markdown",
      "source": [
        "### CNN with FastText and lemmatizations"
      ],
      "metadata": {
        "id": "Rd3r90aDXxv1"
      }
    },
    {
      "cell_type": "code",
      "source": [
        "ft_model_lem_fm = FastText(train_lem_ser\n",
        "                        ,vector_size=max_len\n",
        "                        ,window=3\n",
        "                        ,min_count=2\n",
        "                        ,max_final_vocab=max_len)\n",
        "ft_model_lem_fm.build_vocab(train_lem_ser)\n",
        "ft_model_lem_fm.train(train_lem_ser\n",
        "                   ,total_examples=ft_model_lem_fm.corpus_count\n",
        "                   ,epochs=ft_model_lem_fm.epochs)"
      ],
      "metadata": {
        "trusted": true,
        "execution": {
          "iopub.status.busy": "2025-03-12T07:58:07.723018Z",
          "iopub.status.idle": "2025-03-12T07:58:07.723276Z",
          "shell.execute_reply.started": "2025-03-12T07:58:07.723151Z",
          "shell.execute_reply": "2025-03-12T07:58:07.723163Z"
        },
        "id": "0F-kHQc8Xxv1"
      },
      "outputs": [],
      "execution_count": null
    },
    {
      "cell_type": "code",
      "source": [
        "model_250_lem_ft, train_dl_lem_ft = \\\n",
        "calc_model(CNNModel_v1,train_lem_ser,ft_model_lem_fm,False,20,'lem',max_len,hidden)"
      ],
      "metadata": {
        "trusted": true,
        "execution": {
          "iopub.status.busy": "2025-03-12T07:58:07.724778Z",
          "iopub.status.idle": "2025-03-12T07:58:07.725101Z",
          "shell.execute_reply.started": "2025-03-12T07:58:07.724951Z",
          "shell.execute_reply": "2025-03-12T07:58:07.724966Z"
        },
        "id": "DIroR1eCXxv1"
      },
      "outputs": [],
      "execution_count": null
    },
    {
      "cell_type": "code",
      "source": [
        "calc_model_metrics(model_250_lem_ft,train_dl_lem_ft)"
      ],
      "metadata": {
        "trusted": true,
        "execution": {
          "iopub.status.busy": "2025-03-12T07:58:07.725992Z",
          "iopub.status.idle": "2025-03-12T07:58:07.72627Z",
          "shell.execute_reply.started": "2025-03-12T07:58:07.72613Z",
          "shell.execute_reply": "2025-03-12T07:58:07.726143Z"
        },
        "id": "dy-vLUyvXxv1"
      },
      "outputs": [],
      "execution_count": null
    },
    {
      "cell_type": "code",
      "source": [
        "test_dl_lem_ft = calc_test_data(test_lem_ser,ft_model_lem_fm,'lem',False)\n",
        "calc_model_metrics(model_250_lem_ft,test_dl_lem_ft)"
      ],
      "metadata": {
        "trusted": true,
        "execution": {
          "iopub.status.busy": "2025-03-12T07:58:07.727505Z",
          "iopub.status.idle": "2025-03-12T07:58:07.727954Z",
          "shell.execute_reply.started": "2025-03-12T07:58:07.72771Z",
          "shell.execute_reply": "2025-03-12T07:58:07.727732Z"
        },
        "id": "akQj10vbXxv1"
      },
      "outputs": [],
      "execution_count": null
    },
    {
      "cell_type": "markdown",
      "source": [
        "## Сводные результаты"
      ],
      "metadata": {
        "id": "7IrbiEudXxv1"
      }
    },
    {
      "cell_type": "markdown",
      "source": [
        "### LR count vec with stm"
      ],
      "metadata": {
        "id": "f_BbHjbPXxv1"
      }
    },
    {
      "cell_type": "code",
      "source": [
        "print('Train')\n",
        "compute_metrics(y_train_stm, lr_pred_stm_count_vec_)\n",
        "print('Test')\n",
        "compute_metrics(y_test_stm, lr_pred_stm_count_vec)"
      ],
      "metadata": {
        "trusted": true,
        "execution": {
          "iopub.status.busy": "2025-03-12T07:58:07.729047Z",
          "iopub.status.idle": "2025-03-12T07:58:07.729449Z",
          "shell.execute_reply.started": "2025-03-12T07:58:07.72924Z",
          "shell.execute_reply": "2025-03-12T07:58:07.72926Z"
        },
        "id": "ymP022_nXxv1"
      },
      "outputs": [],
      "execution_count": null
    },
    {
      "cell_type": "markdown",
      "source": [
        "### LR count vec with lem"
      ],
      "metadata": {
        "id": "PNWAh4w4Xxv1"
      }
    },
    {
      "cell_type": "code",
      "source": [
        "print('Train')\n",
        "compute_metrics(y_train_lem, lr_pred_lem_count_vec_)\n",
        "print('Test')\n",
        "compute_metrics(y_test_lem, lr_pred_lem_count_vec)"
      ],
      "metadata": {
        "trusted": true,
        "execution": {
          "iopub.status.busy": "2025-03-12T07:58:07.730574Z",
          "iopub.status.idle": "2025-03-12T07:58:07.731029Z",
          "shell.execute_reply.started": "2025-03-12T07:58:07.730794Z",
          "shell.execute_reply": "2025-03-12T07:58:07.730817Z"
        },
        "id": "2HgCgUsJXxv1"
      },
      "outputs": [],
      "execution_count": null
    },
    {
      "cell_type": "markdown",
      "source": [
        "### LR tf-idf with stm"
      ],
      "metadata": {
        "id": "4_DTpQCoXxv1"
      }
    },
    {
      "cell_type": "code",
      "source": [
        "print('Train')\n",
        "compute_metrics(y_train_stm, lr_pred_stm_tf_idf_o)\n",
        "print('Test')\n",
        "compute_metrics(y_test_stm, lr_pred_stm_tf_idf_t)"
      ],
      "metadata": {
        "trusted": true,
        "execution": {
          "iopub.status.busy": "2025-03-12T07:58:07.732328Z",
          "iopub.status.idle": "2025-03-12T07:58:07.732765Z",
          "shell.execute_reply.started": "2025-03-12T07:58:07.732542Z",
          "shell.execute_reply": "2025-03-12T07:58:07.732562Z"
        },
        "id": "veR7A92vXxv2"
      },
      "outputs": [],
      "execution_count": null
    },
    {
      "cell_type": "markdown",
      "source": [
        "Получилась очень интересная заметка, такой рост метрики получился благодаря переводу результатов TF-IDF из иррациональных в целые числа, связанно это с особенностями LR в sklearn"
      ],
      "metadata": {
        "id": "Eb-Wr-hCXxv2"
      }
    },
    {
      "cell_type": "code",
      "source": [
        "print('Train')\n",
        "compute_metrics(y_train_stm, lr_pred_stm_tf_idf_)\n",
        "print('Test')\n",
        "compute_metrics(y_test_stm, lr_pred_stm_tf_idf)"
      ],
      "metadata": {
        "trusted": true,
        "execution": {
          "iopub.status.busy": "2025-03-12T07:58:07.733732Z",
          "iopub.status.idle": "2025-03-12T07:58:07.734182Z",
          "shell.execute_reply.started": "2025-03-12T07:58:07.733952Z",
          "shell.execute_reply": "2025-03-12T07:58:07.733973Z"
        },
        "id": "hKukfpwUXxv2"
      },
      "outputs": [],
      "execution_count": null
    },
    {
      "cell_type": "markdown",
      "source": [
        "### LR tf-idf with lem"
      ],
      "metadata": {
        "id": "cYuNfeBiXxv2"
      }
    },
    {
      "cell_type": "code",
      "source": [
        "print('Train')\n",
        "compute_metrics(y_train_lem, lr_pred_lem_tf_idf_)\n",
        "print('Test')\n",
        "compute_metrics(y_test_lem, lr_pred_lem_tf_idf)"
      ],
      "metadata": {
        "trusted": true,
        "execution": {
          "iopub.status.busy": "2025-03-12T07:58:07.735337Z",
          "iopub.status.idle": "2025-03-12T07:58:07.735773Z",
          "shell.execute_reply.started": "2025-03-12T07:58:07.735537Z",
          "shell.execute_reply": "2025-03-12T07:58:07.735559Z"
        },
        "id": "gl4KbgIrXxv2"
      },
      "outputs": [],
      "execution_count": null
    },
    {
      "cell_type": "markdown",
      "source": [
        "### LR w2v with stm"
      ],
      "metadata": {
        "id": "WbyG4xyvXxv2"
      }
    },
    {
      "cell_type": "code",
      "source": [
        "print('Train')\n",
        "compute_metrics(y_train_stm, lr_pred_stm_word_vec_)\n",
        "print('Test')\n",
        "compute_metrics(y_test_stm, lr_pred_stm_word_vec)"
      ],
      "metadata": {
        "trusted": true,
        "execution": {
          "iopub.status.busy": "2025-03-12T07:58:07.736988Z",
          "iopub.status.idle": "2025-03-12T07:58:07.737406Z",
          "shell.execute_reply.started": "2025-03-12T07:58:07.737186Z",
          "shell.execute_reply": "2025-03-12T07:58:07.737208Z"
        },
        "id": "QY0VHujyXxv2"
      },
      "outputs": [],
      "execution_count": null
    },
    {
      "cell_type": "markdown",
      "source": [
        "### LR w2v with lem"
      ],
      "metadata": {
        "id": "vNSdsq5-Xxv2"
      }
    },
    {
      "cell_type": "code",
      "source": [
        "print('Train')\n",
        "compute_metrics(y_train_lem, lr_pred_lem_word_vec_)\n",
        "print('Test')\n",
        "compute_metrics(y_test_lem, lr_pred_lem_word_vec)"
      ],
      "metadata": {
        "trusted": true,
        "execution": {
          "iopub.status.busy": "2025-03-12T07:58:07.738629Z",
          "iopub.status.idle": "2025-03-12T07:58:07.739148Z",
          "shell.execute_reply.started": "2025-03-12T07:58:07.738881Z",
          "shell.execute_reply": "2025-03-12T07:58:07.738905Z"
        },
        "id": "jvLgzLyoXxv2"
      },
      "outputs": [],
      "execution_count": null
    },
    {
      "cell_type": "markdown",
      "source": [
        "### LR FT with stm"
      ],
      "metadata": {
        "id": "zFHFkhxoXxv2"
      }
    },
    {
      "cell_type": "code",
      "source": [
        "print('Train')\n",
        "compute_metrics(y_train_stm, lr_pred_stm_ft_)\n",
        "print('Test')\n",
        "compute_metrics(y_test_stm, lr_pred_stm_ft)"
      ],
      "metadata": {
        "trusted": true,
        "execution": {
          "iopub.status.busy": "2025-03-12T07:58:07.740549Z",
          "iopub.status.idle": "2025-03-12T07:58:07.740957Z",
          "shell.execute_reply.started": "2025-03-12T07:58:07.740735Z",
          "shell.execute_reply": "2025-03-12T07:58:07.740772Z"
        },
        "id": "6km2-mg4Xxv2"
      },
      "outputs": [],
      "execution_count": null
    },
    {
      "cell_type": "markdown",
      "source": [
        "### LR FT with lem"
      ],
      "metadata": {
        "id": "q88ru4cNXxv2"
      }
    },
    {
      "cell_type": "code",
      "source": [
        "print('Train')\n",
        "compute_metrics(y_train_lem, lr_pred_lem_ft_)\n",
        "print('Test')\n",
        "compute_metrics(y_test_lem, lr_pred_lem_ft)"
      ],
      "metadata": {
        "trusted": true,
        "execution": {
          "iopub.status.busy": "2025-03-12T07:58:07.742277Z",
          "iopub.status.idle": "2025-03-12T07:58:07.742731Z",
          "shell.execute_reply.started": "2025-03-12T07:58:07.742488Z",
          "shell.execute_reply": "2025-03-12T07:58:07.742525Z"
        },
        "id": "EwgF1BqnXxv3"
      },
      "outputs": [],
      "execution_count": null
    },
    {
      "cell_type": "markdown",
      "source": [
        "### KNN count vec with stm"
      ],
      "metadata": {
        "id": "NsO56h9tXxv3"
      }
    },
    {
      "cell_type": "code",
      "source": [
        "print('Train')\n",
        "compute_metrics(y_train_stm, knn_pred_stm_)\n",
        "print('Test')\n",
        "compute_metrics(y_test_stm, knn_pred_stm)"
      ],
      "metadata": {
        "trusted": true,
        "execution": {
          "iopub.status.busy": "2025-03-12T07:58:07.744355Z",
          "iopub.status.idle": "2025-03-12T07:58:07.744771Z",
          "shell.execute_reply.started": "2025-03-12T07:58:07.744547Z",
          "shell.execute_reply": "2025-03-12T07:58:07.744567Z"
        },
        "id": "oyonZy9aXxv3"
      },
      "outputs": [],
      "execution_count": null
    },
    {
      "cell_type": "markdown",
      "source": [
        "### KNN count vec with lem"
      ],
      "metadata": {
        "id": "wIlmOR89Xxv3"
      }
    },
    {
      "cell_type": "code",
      "source": [
        "print('Train')\n",
        "compute_metrics(y_train_lem, knn_pred_lem_count_vec_)\n",
        "print('Test')\n",
        "compute_metrics(y_test_lem, knn_pred_lem_count_vec)"
      ],
      "metadata": {
        "trusted": true,
        "execution": {
          "iopub.status.busy": "2025-03-12T07:58:07.74628Z",
          "iopub.status.idle": "2025-03-12T07:58:07.746699Z",
          "shell.execute_reply.started": "2025-03-12T07:58:07.74647Z",
          "shell.execute_reply": "2025-03-12T07:58:07.746507Z"
        },
        "id": "27vJ7SAMXxv3"
      },
      "outputs": [],
      "execution_count": null
    },
    {
      "cell_type": "markdown",
      "source": [
        "### KNN tf-idf with stm"
      ],
      "metadata": {
        "id": "4Av5_TsuXxv3"
      }
    },
    {
      "cell_type": "code",
      "source": [
        "print('Train')\n",
        "compute_metrics(y_train_stm, knn_pred_stm_tf_idf_)\n",
        "print('Test')\n",
        "compute_metrics(y_test_stm, knn_pred_stm_tf_idf)"
      ],
      "metadata": {
        "trusted": true,
        "execution": {
          "iopub.status.busy": "2025-03-12T07:58:07.748759Z",
          "iopub.status.idle": "2025-03-12T07:58:07.749172Z",
          "shell.execute_reply.started": "2025-03-12T07:58:07.748954Z",
          "shell.execute_reply": "2025-03-12T07:58:07.748982Z"
        },
        "id": "sJtQ57YEXxv3"
      },
      "outputs": [],
      "execution_count": null
    },
    {
      "cell_type": "markdown",
      "source": [
        "### KNN tf-idf with lem"
      ],
      "metadata": {
        "id": "awmYDnG0Xxv3"
      }
    },
    {
      "cell_type": "code",
      "source": [
        "print('Train')\n",
        "compute_metrics(y_train_lem, knn_pred_lem_tf_idf_)\n",
        "print('Test')\n",
        "compute_metrics(y_test_lem, knn_pred_lem_tf_idf)"
      ],
      "metadata": {
        "trusted": true,
        "execution": {
          "iopub.status.busy": "2025-03-12T07:58:07.753203Z",
          "iopub.status.idle": "2025-03-12T07:58:07.753615Z",
          "shell.execute_reply.started": "2025-03-12T07:58:07.75341Z",
          "shell.execute_reply": "2025-03-12T07:58:07.75343Z"
        },
        "id": "hzTNJwRiXxv3"
      },
      "outputs": [],
      "execution_count": null
    },
    {
      "cell_type": "markdown",
      "source": [
        "### KNN w2v with stm"
      ],
      "metadata": {
        "id": "V2VlQGmOXxv3"
      }
    },
    {
      "cell_type": "code",
      "source": [
        "print('Train')\n",
        "compute_metrics(y_train_stm, knn_pred_stm_word_vec_)\n",
        "print('Test')\n",
        "compute_metrics(y_test_stm, knn_pred_stm_word_vec)"
      ],
      "metadata": {
        "trusted": true,
        "execution": {
          "iopub.status.busy": "2025-03-12T07:58:07.754779Z",
          "iopub.status.idle": "2025-03-12T07:58:07.755183Z",
          "shell.execute_reply.started": "2025-03-12T07:58:07.754973Z",
          "shell.execute_reply": "2025-03-12T07:58:07.755001Z"
        },
        "id": "zh5aKxZiXxv3"
      },
      "outputs": [],
      "execution_count": null
    },
    {
      "cell_type": "markdown",
      "source": [
        "### KNN w2v with lem"
      ],
      "metadata": {
        "id": "hTaCv4qMXxv4"
      }
    },
    {
      "cell_type": "code",
      "source": [
        "print('Train')\n",
        "compute_metrics(y_train_lem, knn_pred_lem_word_vec_)\n",
        "print('Test')\n",
        "compute_metrics(y_test_lem, knn_pred_lem_word_vec)"
      ],
      "metadata": {
        "trusted": true,
        "execution": {
          "iopub.status.busy": "2025-03-12T07:58:07.772076Z",
          "iopub.status.idle": "2025-03-12T07:58:07.772505Z",
          "shell.execute_reply.started": "2025-03-12T07:58:07.772283Z",
          "shell.execute_reply": "2025-03-12T07:58:07.772316Z"
        },
        "id": "QBCFfqVlXxv4"
      },
      "outputs": [],
      "execution_count": null
    },
    {
      "cell_type": "markdown",
      "source": [
        "### KNN FT with stm"
      ],
      "metadata": {
        "id": "Kw2WYuTFXxv4"
      }
    },
    {
      "cell_type": "code",
      "source": [
        "print('Train')\n",
        "compute_metrics(y_train_stm, knn_pred_stm_ft_)\n",
        "print('Test')\n",
        "compute_metrics(y_test_stm, knn_pred_stm_ft)"
      ],
      "metadata": {
        "trusted": true,
        "execution": {
          "iopub.status.busy": "2025-03-12T07:58:07.774002Z",
          "iopub.status.idle": "2025-03-12T07:58:07.774404Z",
          "shell.execute_reply.started": "2025-03-12T07:58:07.774199Z",
          "shell.execute_reply": "2025-03-12T07:58:07.774219Z"
        },
        "id": "uM6TGR8-Xxv4"
      },
      "outputs": [],
      "execution_count": null
    },
    {
      "cell_type": "markdown",
      "source": [
        "### KNN FT with lem"
      ],
      "metadata": {
        "id": "7Ju0jIr7Xxv4"
      }
    },
    {
      "cell_type": "code",
      "source": [
        "print('Train')\n",
        "compute_metrics(y_train_lem, knn_pred_lem_ft_)\n",
        "print('Test')\n",
        "compute_metrics(y_test_lem, knn_pred_lem_ft)"
      ],
      "metadata": {
        "trusted": true,
        "execution": {
          "iopub.status.busy": "2025-03-12T07:58:07.775697Z",
          "iopub.status.idle": "2025-03-12T07:58:07.776147Z",
          "shell.execute_reply.started": "2025-03-12T07:58:07.775921Z",
          "shell.execute_reply": "2025-03-12T07:58:07.775942Z"
        },
        "id": "rIs_zmZuXxv4"
      },
      "outputs": [],
      "execution_count": null
    },
    {
      "cell_type": "markdown",
      "source": [
        "### CNN count vec with stm"
      ],
      "metadata": {
        "id": "NyYpmD3qXxv4"
      }
    },
    {
      "cell_type": "code",
      "source": [
        "print('Train')\n",
        "calc_model_metrics(model_250_stm_count_vec,train_dl_stm_count_vec)\n",
        "print('Test')\n",
        "calc_model_metrics(model_250_stm_count_vec,test_dl_stm_count_vec)"
      ],
      "metadata": {
        "trusted": true,
        "execution": {
          "iopub.status.busy": "2025-03-12T07:58:07.77732Z",
          "iopub.status.idle": "2025-03-12T07:58:07.777717Z",
          "shell.execute_reply.started": "2025-03-12T07:58:07.777512Z",
          "shell.execute_reply": "2025-03-12T07:58:07.777532Z"
        },
        "id": "XfUNu2ajXxv4"
      },
      "outputs": [],
      "execution_count": null
    },
    {
      "cell_type": "markdown",
      "source": [
        "### CNN count vec with lem"
      ],
      "metadata": {
        "id": "45keJ9EqXxv4"
      }
    },
    {
      "cell_type": "code",
      "source": [
        "print('Train')\n",
        "calc_model_metrics(model_250_lem_count_vec,train_dl_lem_count_vec)\n",
        "print('Test')\n",
        "calc_model_metrics(model_250_lem_count_vec,test_dl_lem_count_vec)"
      ],
      "metadata": {
        "trusted": true,
        "execution": {
          "iopub.status.busy": "2025-03-12T07:58:07.778829Z",
          "iopub.status.idle": "2025-03-12T07:58:07.779235Z",
          "shell.execute_reply.started": "2025-03-12T07:58:07.779028Z",
          "shell.execute_reply": "2025-03-12T07:58:07.779048Z"
        },
        "id": "oe4M_apwXxv4"
      },
      "outputs": [],
      "execution_count": null
    },
    {
      "cell_type": "markdown",
      "source": [
        "### CNN tf-idf with stm"
      ],
      "metadata": {
        "id": "NxPCwzlaXxv4"
      }
    },
    {
      "cell_type": "code",
      "source": [
        "print('Train')\n",
        "calc_model_metrics(model_250_stm_tf_idf,train_dl_stm_tf_idf)\n",
        "print('Test')\n",
        "calc_model_metrics(model_250_stm_tf_idf,test_dl_stm_tf_idf)"
      ],
      "metadata": {
        "trusted": true,
        "execution": {
          "iopub.status.busy": "2025-03-12T07:58:07.780406Z",
          "iopub.status.idle": "2025-03-12T07:58:07.78082Z",
          "shell.execute_reply.started": "2025-03-12T07:58:07.780599Z",
          "shell.execute_reply": "2025-03-12T07:58:07.780617Z"
        },
        "id": "J-x9OjXIXxv5"
      },
      "outputs": [],
      "execution_count": null
    },
    {
      "cell_type": "markdown",
      "source": [
        "### CNN tf-idf with lem"
      ],
      "metadata": {
        "id": "TSfvWbIUXxv5"
      }
    },
    {
      "cell_type": "code",
      "source": [
        "print('Train')\n",
        "calc_model_metrics(model_250_lem_tf_idf,train_dl_lem_tf_idf)\n",
        "print('Test')\n",
        "calc_model_metrics(model_250_lem_tf_idf,test_dl_lem_tf_idf)"
      ],
      "metadata": {
        "trusted": true,
        "execution": {
          "iopub.status.busy": "2025-03-12T07:58:07.78207Z",
          "iopub.status.idle": "2025-03-12T07:58:07.782463Z",
          "shell.execute_reply.started": "2025-03-12T07:58:07.782261Z",
          "shell.execute_reply": "2025-03-12T07:58:07.782279Z"
        },
        "id": "b7lEjCJvXxv5"
      },
      "outputs": [],
      "execution_count": null
    },
    {
      "cell_type": "markdown",
      "source": [
        "### CNN w2v with stm"
      ],
      "metadata": {
        "id": "J2YB-YXcXxv5"
      }
    },
    {
      "cell_type": "code",
      "source": [
        "print('Train')\n",
        "calc_model_metrics(model_250_stm_w2v,train_dl_stm_w2v)\n",
        "print('Test')\n",
        "calc_model_metrics(model_250_stm_w2v,test_dl_stm_w2v)"
      ],
      "metadata": {
        "trusted": true,
        "execution": {
          "iopub.status.busy": "2025-03-12T07:58:07.783716Z",
          "iopub.status.idle": "2025-03-12T07:58:07.784137Z",
          "shell.execute_reply.started": "2025-03-12T07:58:07.783926Z",
          "shell.execute_reply": "2025-03-12T07:58:07.783945Z"
        },
        "id": "nnwrKsqhXxv5"
      },
      "outputs": [],
      "execution_count": null
    },
    {
      "cell_type": "markdown",
      "source": [
        "### CNN w2v with lem"
      ],
      "metadata": {
        "id": "86fINXZDXxv5"
      }
    },
    {
      "cell_type": "code",
      "source": [
        "print('Train')\n",
        "calc_model_metrics(model_250_lem_w2v,train_dl_lem_w2v)\n",
        "print('Test')\n",
        "calc_model_metrics(model_250_lem_w2v,test_dl_lem_w2v)"
      ],
      "metadata": {
        "trusted": true,
        "execution": {
          "iopub.status.busy": "2025-03-12T07:58:07.785364Z",
          "iopub.status.idle": "2025-03-12T07:58:07.785774Z",
          "shell.execute_reply.started": "2025-03-12T07:58:07.785556Z",
          "shell.execute_reply": "2025-03-12T07:58:07.785574Z"
        },
        "id": "RZ2a4PHLXxv5"
      },
      "outputs": [],
      "execution_count": null
    },
    {
      "cell_type": "markdown",
      "source": [
        "### CNN ft with stm"
      ],
      "metadata": {
        "id": "SjXJwJH-Xxv5"
      }
    },
    {
      "cell_type": "code",
      "source": [
        "print('Train')\n",
        "calc_model_metrics(model_250_stm_ft,train_dl_stm_ft)\n",
        "print('Test')\n",
        "calc_model_metrics(model_250_stm_ft,test_dl_stm_ft)"
      ],
      "metadata": {
        "trusted": true,
        "execution": {
          "iopub.status.busy": "2025-03-12T07:58:07.787162Z",
          "iopub.status.idle": "2025-03-12T07:58:07.787554Z",
          "shell.execute_reply.started": "2025-03-12T07:58:07.787351Z",
          "shell.execute_reply": "2025-03-12T07:58:07.78737Z"
        },
        "id": "1-S5oQNqXxv5"
      },
      "outputs": [],
      "execution_count": null
    },
    {
      "cell_type": "markdown",
      "source": [
        "### CNN ft with lem"
      ],
      "metadata": {
        "id": "jNMsmQuuXxv5"
      }
    },
    {
      "cell_type": "code",
      "source": [
        "print('Train')\n",
        "calc_model_metrics(model_250_lem_ft,train_dl_lem_ft)\n",
        "print('Test')\n",
        "calc_model_metrics(model_250_lem_ft,test_dl_lem_ft)"
      ],
      "metadata": {
        "trusted": true,
        "execution": {
          "iopub.status.busy": "2025-03-12T07:58:07.788838Z",
          "iopub.status.idle": "2025-03-12T07:58:07.789254Z",
          "shell.execute_reply.started": "2025-03-12T07:58:07.789037Z",
          "shell.execute_reply": "2025-03-12T07:58:07.789057Z"
        },
        "id": "Yni8cvZuXxv6"
      },
      "outputs": [],
      "execution_count": null
    },
    {
      "cell_type": "code",
      "source": [],
      "metadata": {
        "trusted": true,
        "id": "-UsrDSvQXxv6"
      },
      "outputs": [],
      "execution_count": null
    }
  ]
}